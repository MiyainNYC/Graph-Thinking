{
 "cells": [
  {
   "cell_type": "code",
   "execution_count": 1,
   "metadata": {
    "collapsed": true
   },
   "outputs": [],
   "source": [
    "import pandas as pd"
   ]
  },
  {
   "cell_type": "code",
   "execution_count": 4,
   "metadata": {
    "collapsed": false,
    "scrolled": true
   },
   "outputs": [
    {
     "data": {
      "text/html": [
       "<div>\n",
       "<table border=\"1\" class=\"dataframe\">\n",
       "  <thead>\n",
       "    <tr style=\"text-align: right;\">\n",
       "      <th></th>\n",
       "      <th>Worker ID</th>\n",
       "      <th>Month, Day, Year of Date</th>\n",
       "      <th>Coding Effort</th>\n",
       "      <th>Repo</th>\n",
       "    </tr>\n",
       "  </thead>\n",
       "  <tbody>\n",
       "    <tr>\n",
       "      <th>0</th>\n",
       "      <td>8181</td>\n",
       "      <td>7/1/2015</td>\n",
       "      <td>0.00</td>\n",
       "      <td>1199</td>\n",
       "    </tr>\n",
       "    <tr>\n",
       "      <th>1</th>\n",
       "      <td>77176</td>\n",
       "      <td>7/1/2015</td>\n",
       "      <td>5.00</td>\n",
       "      <td>121</td>\n",
       "    </tr>\n",
       "    <tr>\n",
       "      <th>2</th>\n",
       "      <td>107550</td>\n",
       "      <td>7/1/2015</td>\n",
       "      <td>4.73</td>\n",
       "      <td>122</td>\n",
       "    </tr>\n",
       "    <tr>\n",
       "      <th>3</th>\n",
       "      <td>107550</td>\n",
       "      <td>7/1/2015</td>\n",
       "      <td>0.26</td>\n",
       "      <td>123</td>\n",
       "    </tr>\n",
       "    <tr>\n",
       "      <th>4</th>\n",
       "      <td>116880</td>\n",
       "      <td>7/1/2015</td>\n",
       "      <td>5.00</td>\n",
       "      <td>126</td>\n",
       "    </tr>\n",
       "  </tbody>\n",
       "</table>\n",
       "</div>"
      ],
      "text/plain": [
       "   Worker ID Month, Day, Year of Date  Coding Effort  Repo\n",
       "0       8181                 7/1/2015           0.00  1199\n",
       "1      77176                 7/1/2015           5.00   121\n",
       "2     107550                 7/1/2015           4.73   122\n",
       "3     107550                 7/1/2015           0.26   123\n",
       "4     116880                 7/1/2015           5.00   126"
      ]
     },
     "execution_count": 4,
     "metadata": {},
     "output_type": "execute_result"
    }
   ],
   "source": [
    "repo = pd.read_csv('Repositories.csv')\n",
    "repo.head()               "
   ]
  },
  {
   "cell_type": "code",
   "execution_count": 3,
   "metadata": {
    "collapsed": true
   },
   "outputs": [],
   "source": [
    "repo2 = repo.drop('Month, Day, Year of Date',1)"
   ]
  },
  {
   "cell_type": "code",
   "execution_count": 6,
   "metadata": {
    "collapsed": false
   },
   "outputs": [
    {
     "data": {
      "text/html": [
       "<div>\n",
       "<table border=\"1\" class=\"dataframe\">\n",
       "  <thead>\n",
       "    <tr style=\"text-align: right;\">\n",
       "      <th>Repo</th>\n",
       "      <th>1</th>\n",
       "      <th>2</th>\n",
       "      <th>3</th>\n",
       "      <th>5</th>\n",
       "      <th>6</th>\n",
       "      <th>7</th>\n",
       "      <th>9</th>\n",
       "      <th>10</th>\n",
       "      <th>11</th>\n",
       "      <th>12</th>\n",
       "      <th>...</th>\n",
       "      <th>1723</th>\n",
       "      <th>1724</th>\n",
       "      <th>1725</th>\n",
       "      <th>1726</th>\n",
       "      <th>1727</th>\n",
       "      <th>1728</th>\n",
       "      <th>1729</th>\n",
       "      <th>1730</th>\n",
       "      <th>1731</th>\n",
       "      <th>1732</th>\n",
       "    </tr>\n",
       "    <tr>\n",
       "      <th>Worker ID</th>\n",
       "      <th></th>\n",
       "      <th></th>\n",
       "      <th></th>\n",
       "      <th></th>\n",
       "      <th></th>\n",
       "      <th></th>\n",
       "      <th></th>\n",
       "      <th></th>\n",
       "      <th></th>\n",
       "      <th></th>\n",
       "      <th></th>\n",
       "      <th></th>\n",
       "      <th></th>\n",
       "      <th></th>\n",
       "      <th></th>\n",
       "      <th></th>\n",
       "      <th></th>\n",
       "      <th></th>\n",
       "      <th></th>\n",
       "      <th></th>\n",
       "      <th></th>\n",
       "    </tr>\n",
       "  </thead>\n",
       "  <tbody>\n",
       "    <tr>\n",
       "      <th>8181</th>\n",
       "      <td>0</td>\n",
       "      <td>0</td>\n",
       "      <td>0</td>\n",
       "      <td>0</td>\n",
       "      <td>0</td>\n",
       "      <td>0</td>\n",
       "      <td>0</td>\n",
       "      <td>0</td>\n",
       "      <td>0</td>\n",
       "      <td>0</td>\n",
       "      <td>...</td>\n",
       "      <td>0</td>\n",
       "      <td>0</td>\n",
       "      <td>0</td>\n",
       "      <td>0</td>\n",
       "      <td>0</td>\n",
       "      <td>0</td>\n",
       "      <td>0</td>\n",
       "      <td>0</td>\n",
       "      <td>0</td>\n",
       "      <td>0</td>\n",
       "    </tr>\n",
       "    <tr>\n",
       "      <th>77176</th>\n",
       "      <td>0</td>\n",
       "      <td>0</td>\n",
       "      <td>0</td>\n",
       "      <td>0</td>\n",
       "      <td>0</td>\n",
       "      <td>0</td>\n",
       "      <td>0</td>\n",
       "      <td>0</td>\n",
       "      <td>0</td>\n",
       "      <td>0</td>\n",
       "      <td>...</td>\n",
       "      <td>0</td>\n",
       "      <td>0</td>\n",
       "      <td>0</td>\n",
       "      <td>0</td>\n",
       "      <td>0</td>\n",
       "      <td>0</td>\n",
       "      <td>0</td>\n",
       "      <td>0</td>\n",
       "      <td>0</td>\n",
       "      <td>0</td>\n",
       "    </tr>\n",
       "    <tr>\n",
       "      <th>107550</th>\n",
       "      <td>0</td>\n",
       "      <td>0</td>\n",
       "      <td>0</td>\n",
       "      <td>0</td>\n",
       "      <td>0</td>\n",
       "      <td>0</td>\n",
       "      <td>0</td>\n",
       "      <td>0</td>\n",
       "      <td>0</td>\n",
       "      <td>0</td>\n",
       "      <td>...</td>\n",
       "      <td>0</td>\n",
       "      <td>0</td>\n",
       "      <td>0</td>\n",
       "      <td>0</td>\n",
       "      <td>0</td>\n",
       "      <td>0</td>\n",
       "      <td>0</td>\n",
       "      <td>0</td>\n",
       "      <td>0</td>\n",
       "      <td>0</td>\n",
       "    </tr>\n",
       "    <tr>\n",
       "      <th>116880</th>\n",
       "      <td>0</td>\n",
       "      <td>0</td>\n",
       "      <td>0</td>\n",
       "      <td>0</td>\n",
       "      <td>0</td>\n",
       "      <td>0</td>\n",
       "      <td>0</td>\n",
       "      <td>0</td>\n",
       "      <td>0</td>\n",
       "      <td>0</td>\n",
       "      <td>...</td>\n",
       "      <td>0</td>\n",
       "      <td>0</td>\n",
       "      <td>0</td>\n",
       "      <td>0</td>\n",
       "      <td>0</td>\n",
       "      <td>0</td>\n",
       "      <td>0</td>\n",
       "      <td>0</td>\n",
       "      <td>0</td>\n",
       "      <td>0</td>\n",
       "    </tr>\n",
       "    <tr>\n",
       "      <th>119035</th>\n",
       "      <td>0</td>\n",
       "      <td>0</td>\n",
       "      <td>0</td>\n",
       "      <td>0</td>\n",
       "      <td>0</td>\n",
       "      <td>0</td>\n",
       "      <td>0</td>\n",
       "      <td>0</td>\n",
       "      <td>0</td>\n",
       "      <td>0</td>\n",
       "      <td>...</td>\n",
       "      <td>0</td>\n",
       "      <td>0</td>\n",
       "      <td>0</td>\n",
       "      <td>0</td>\n",
       "      <td>0</td>\n",
       "      <td>0</td>\n",
       "      <td>0</td>\n",
       "      <td>0</td>\n",
       "      <td>0</td>\n",
       "      <td>0</td>\n",
       "    </tr>\n",
       "  </tbody>\n",
       "</table>\n",
       "<p>5 rows × 1705 columns</p>\n",
       "</div>"
      ],
      "text/plain": [
       "Repo       1     2     3     5     6     7     9     10    11    12    ...   \\\n",
       "Worker ID                                                              ...    \n",
       "8181          0     0     0     0     0     0     0     0     0     0  ...    \n",
       "77176         0     0     0     0     0     0     0     0     0     0  ...    \n",
       "107550        0     0     0     0     0     0     0     0     0     0  ...    \n",
       "116880        0     0     0     0     0     0     0     0     0     0  ...    \n",
       "119035        0     0     0     0     0     0     0     0     0     0  ...    \n",
       "\n",
       "Repo       1723  1724  1725  1726  1727  1728  1729  1730  1731  1732  \n",
       "Worker ID                                                              \n",
       "8181          0     0     0     0     0     0     0     0     0     0  \n",
       "77176         0     0     0     0     0     0     0     0     0     0  \n",
       "107550        0     0     0     0     0     0     0     0     0     0  \n",
       "116880        0     0     0     0     0     0     0     0     0     0  \n",
       "119035        0     0     0     0     0     0     0     0     0     0  \n",
       "\n",
       "[5 rows x 1705 columns]"
      ]
     },
     "execution_count": 6,
     "metadata": {},
     "output_type": "execute_result"
    }
   ],
   "source": [
    "repo2 = repo2.groupby(['Worker ID','Repo']).sum()\n",
    "repo2 =repo2.unstack()\n",
    "repo2.columns = repo2.columns.droplevel()\n",
    "repo2 = repo2.fillna(0)\n",
    "repo2.head()"
   ]
  },
  {
   "cell_type": "code",
   "execution_count": 7,
   "metadata": {
    "collapsed": true
   },
   "outputs": [],
   "source": [
    "repo2.to_csv('repo.csv')"
   ]
  },
  {
   "cell_type": "code",
   "execution_count": 7,
   "metadata": {
    "collapsed": false
   },
   "outputs": [
    {
     "data": {
      "text/plain": [
       "Worker ID                     int64\n",
       "Month, Day, Year of Date     object\n",
       "Coding Effort               float64\n",
       "Repo                          int64\n",
       "dtype: object"
      ]
     },
     "execution_count": 7,
     "metadata": {},
     "output_type": "execute_result"
    }
   ],
   "source": [
    "repo.dtypes"
   ]
  },
  {
   "cell_type": "code",
   "execution_count": 5,
   "metadata": {
    "collapsed": true
   },
   "outputs": [],
   "source": [
    "repo['Month, Day, Year of Date'] = repo['Month, Day, Year of Date'].astype('str')"
   ]
  },
  {
   "cell_type": "code",
   "execution_count": 6,
   "metadata": {
    "collapsed": false
   },
   "outputs": [],
   "source": [
    "from datetime import datetime\n",
    "date = repo['Month, Day, Year of Date'].tolist()\n",
    "dataup = []\n",
    "for i in range(len(date)):\n",
    "    x = datetime.strptime(date[i], '%m/%d/%Y')\n",
    "    dataup.append(x)"
   ]
  },
  {
   "cell_type": "code",
   "execution_count": 7,
   "metadata": {
    "collapsed": false
   },
   "outputs": [
    {
     "data": {
      "text/html": [
       "<div>\n",
       "<table border=\"1\" class=\"dataframe\">\n",
       "  <thead>\n",
       "    <tr style=\"text-align: right;\">\n",
       "      <th></th>\n",
       "      <th>Worker ID</th>\n",
       "      <th>Month, Day, Year of Date</th>\n",
       "      <th>Coding Effort</th>\n",
       "      <th>Repo</th>\n",
       "      <th>month</th>\n",
       "    </tr>\n",
       "  </thead>\n",
       "  <tbody>\n",
       "    <tr>\n",
       "      <th>0</th>\n",
       "      <td>8181</td>\n",
       "      <td>7/1/2015</td>\n",
       "      <td>0.00</td>\n",
       "      <td>1199</td>\n",
       "      <td>07</td>\n",
       "    </tr>\n",
       "    <tr>\n",
       "      <th>1</th>\n",
       "      <td>77176</td>\n",
       "      <td>7/1/2015</td>\n",
       "      <td>5.00</td>\n",
       "      <td>121</td>\n",
       "      <td>07</td>\n",
       "    </tr>\n",
       "    <tr>\n",
       "      <th>2</th>\n",
       "      <td>107550</td>\n",
       "      <td>7/1/2015</td>\n",
       "      <td>4.73</td>\n",
       "      <td>122</td>\n",
       "      <td>07</td>\n",
       "    </tr>\n",
       "    <tr>\n",
       "      <th>3</th>\n",
       "      <td>107550</td>\n",
       "      <td>7/1/2015</td>\n",
       "      <td>0.26</td>\n",
       "      <td>123</td>\n",
       "      <td>07</td>\n",
       "    </tr>\n",
       "    <tr>\n",
       "      <th>4</th>\n",
       "      <td>116880</td>\n",
       "      <td>7/1/2015</td>\n",
       "      <td>5.00</td>\n",
       "      <td>126</td>\n",
       "      <td>07</td>\n",
       "    </tr>\n",
       "  </tbody>\n",
       "</table>\n",
       "</div>"
      ],
      "text/plain": [
       "   Worker ID Month, Day, Year of Date  Coding Effort  Repo month\n",
       "0       8181                 7/1/2015           0.00  1199    07\n",
       "1      77176                 7/1/2015           5.00   121    07\n",
       "2     107550                 7/1/2015           4.73   122    07\n",
       "3     107550                 7/1/2015           0.26   123    07\n",
       "4     116880                 7/1/2015           5.00   126    07"
      ]
     },
     "execution_count": 7,
     "metadata": {},
     "output_type": "execute_result"
    }
   ],
   "source": [
    "month = []\n",
    "for d in range(len(dataup)):\n",
    "    m = dataup[d].strftime('%m')\n",
    "    month.append(m)\n",
    "repo['month'] = month\n",
    "repo.head()"
   ]
  },
  {
   "cell_type": "code",
   "execution_count": 6,
   "metadata": {
    "collapsed": true
   },
   "outputs": [],
   "source": [
    "repo = repo.drop('Month, Day, Year of Date',1)"
   ]
  },
  {
   "cell_type": "code",
   "execution_count": 18,
   "metadata": {
    "collapsed": false
   },
   "outputs": [],
   "source": [
    "repo_big = repo.loc[repo['Repo'].isin([139])]"
   ]
  },
  {
   "cell_type": "code",
   "execution_count": 20,
   "metadata": {
    "collapsed": false
   },
   "outputs": [],
   "source": [
    "repo_big.to_csv('repo_big.csv')"
   ]
  },
  {
   "cell_type": "code",
   "execution_count": 12,
   "metadata": {
    "collapsed": false
   },
   "outputs": [],
   "source": [
    "repo_07 = repo.loc[repo['month'] == '07']\n",
    "repo_08 = repo.loc[repo['month'] == '08']\n",
    "repo_09 = repo.loc[repo['month'] == '09']"
   ]
  },
  {
   "cell_type": "code",
   "execution_count": 13,
   "metadata": {
    "collapsed": false
   },
   "outputs": [],
   "source": [
    "repo_08 = repo_08.drop('month',1)\n",
    "repo_07 = repo_07.drop('month',1)\n",
    "repo_09 = repo_09.drop('month',1)"
   ]
  },
  {
   "cell_type": "code",
   "execution_count": 8,
   "metadata": {
    "collapsed": false
   },
   "outputs": [
    {
     "data": {
      "text/html": [
       "<div>\n",
       "<table border=\"1\" class=\"dataframe\">\n",
       "  <thead>\n",
       "    <tr style=\"text-align: right;\">\n",
       "      <th></th>\n",
       "      <th>Worker ID</th>\n",
       "      <th>Coding Effort</th>\n",
       "      <th>Repo</th>\n",
       "      <th>month</th>\n",
       "    </tr>\n",
       "  </thead>\n",
       "  <tbody>\n",
       "    <tr>\n",
       "      <th>0</th>\n",
       "      <td>8181</td>\n",
       "      <td>0.00</td>\n",
       "      <td>1199</td>\n",
       "      <td>07</td>\n",
       "    </tr>\n",
       "    <tr>\n",
       "      <th>1</th>\n",
       "      <td>77176</td>\n",
       "      <td>5.00</td>\n",
       "      <td>121</td>\n",
       "      <td>07</td>\n",
       "    </tr>\n",
       "    <tr>\n",
       "      <th>2</th>\n",
       "      <td>107550</td>\n",
       "      <td>4.73</td>\n",
       "      <td>122</td>\n",
       "      <td>07</td>\n",
       "    </tr>\n",
       "    <tr>\n",
       "      <th>3</th>\n",
       "      <td>107550</td>\n",
       "      <td>0.26</td>\n",
       "      <td>123</td>\n",
       "      <td>07</td>\n",
       "    </tr>\n",
       "    <tr>\n",
       "      <th>4</th>\n",
       "      <td>116880</td>\n",
       "      <td>5.00</td>\n",
       "      <td>126</td>\n",
       "      <td>07</td>\n",
       "    </tr>\n",
       "  </tbody>\n",
       "</table>\n",
       "</div>"
      ],
      "text/plain": [
       "   Worker ID  Coding Effort  Repo month\n",
       "0       8181           0.00  1199    07\n",
       "1      77176           5.00   121    07\n",
       "2     107550           4.73   122    07\n",
       "3     107550           0.26   123    07\n",
       "4     116880           5.00   126    07"
      ]
     },
     "execution_count": 8,
     "metadata": {},
     "output_type": "execute_result"
    }
   ],
   "source": [
    "repo.head()"
   ]
  },
  {
   "cell_type": "code",
   "execution_count": 15,
   "metadata": {
    "collapsed": false
   },
   "outputs": [
    {
     "data": {
      "text/html": [
       "<div>\n",
       "<table border=\"1\" class=\"dataframe\">\n",
       "  <thead>\n",
       "    <tr style=\"text-align: right;\">\n",
       "      <th>Repo</th>\n",
       "      <th>1</th>\n",
       "      <th>2</th>\n",
       "      <th>3</th>\n",
       "      <th>5</th>\n",
       "      <th>6</th>\n",
       "      <th>7</th>\n",
       "      <th>10</th>\n",
       "      <th>11</th>\n",
       "      <th>12</th>\n",
       "      <th>13</th>\n",
       "      <th>...</th>\n",
       "      <th>1688</th>\n",
       "      <th>1689</th>\n",
       "      <th>1690</th>\n",
       "      <th>1691</th>\n",
       "      <th>1692</th>\n",
       "      <th>1693</th>\n",
       "      <th>1694</th>\n",
       "      <th>1695</th>\n",
       "      <th>1696</th>\n",
       "      <th>1697</th>\n",
       "    </tr>\n",
       "    <tr>\n",
       "      <th>Worker ID</th>\n",
       "      <th></th>\n",
       "      <th></th>\n",
       "      <th></th>\n",
       "      <th></th>\n",
       "      <th></th>\n",
       "      <th></th>\n",
       "      <th></th>\n",
       "      <th></th>\n",
       "      <th></th>\n",
       "      <th></th>\n",
       "      <th></th>\n",
       "      <th></th>\n",
       "      <th></th>\n",
       "      <th></th>\n",
       "      <th></th>\n",
       "      <th></th>\n",
       "      <th></th>\n",
       "      <th></th>\n",
       "      <th></th>\n",
       "      <th></th>\n",
       "      <th></th>\n",
       "    </tr>\n",
       "  </thead>\n",
       "  <tbody>\n",
       "    <tr>\n",
       "      <th>8181</th>\n",
       "      <td>0</td>\n",
       "      <td>0</td>\n",
       "      <td>0</td>\n",
       "      <td>0</td>\n",
       "      <td>0</td>\n",
       "      <td>0</td>\n",
       "      <td>0</td>\n",
       "      <td>0</td>\n",
       "      <td>0</td>\n",
       "      <td>0</td>\n",
       "      <td>...</td>\n",
       "      <td>0</td>\n",
       "      <td>0</td>\n",
       "      <td>0</td>\n",
       "      <td>0</td>\n",
       "      <td>0</td>\n",
       "      <td>0</td>\n",
       "      <td>0</td>\n",
       "      <td>0</td>\n",
       "      <td>0</td>\n",
       "      <td>0</td>\n",
       "    </tr>\n",
       "    <tr>\n",
       "      <th>77176</th>\n",
       "      <td>0</td>\n",
       "      <td>0</td>\n",
       "      <td>0</td>\n",
       "      <td>0</td>\n",
       "      <td>0</td>\n",
       "      <td>0</td>\n",
       "      <td>0</td>\n",
       "      <td>0</td>\n",
       "      <td>0</td>\n",
       "      <td>0</td>\n",
       "      <td>...</td>\n",
       "      <td>0</td>\n",
       "      <td>0</td>\n",
       "      <td>0</td>\n",
       "      <td>0</td>\n",
       "      <td>0</td>\n",
       "      <td>0</td>\n",
       "      <td>0</td>\n",
       "      <td>0</td>\n",
       "      <td>0</td>\n",
       "      <td>0</td>\n",
       "    </tr>\n",
       "    <tr>\n",
       "      <th>107550</th>\n",
       "      <td>0</td>\n",
       "      <td>0</td>\n",
       "      <td>0</td>\n",
       "      <td>0</td>\n",
       "      <td>0</td>\n",
       "      <td>0</td>\n",
       "      <td>0</td>\n",
       "      <td>0</td>\n",
       "      <td>0</td>\n",
       "      <td>0</td>\n",
       "      <td>...</td>\n",
       "      <td>0</td>\n",
       "      <td>0</td>\n",
       "      <td>0</td>\n",
       "      <td>0</td>\n",
       "      <td>0</td>\n",
       "      <td>0</td>\n",
       "      <td>0</td>\n",
       "      <td>0</td>\n",
       "      <td>0</td>\n",
       "      <td>0</td>\n",
       "    </tr>\n",
       "    <tr>\n",
       "      <th>116880</th>\n",
       "      <td>0</td>\n",
       "      <td>0</td>\n",
       "      <td>0</td>\n",
       "      <td>0</td>\n",
       "      <td>0</td>\n",
       "      <td>0</td>\n",
       "      <td>0</td>\n",
       "      <td>0</td>\n",
       "      <td>0</td>\n",
       "      <td>0</td>\n",
       "      <td>...</td>\n",
       "      <td>0</td>\n",
       "      <td>0</td>\n",
       "      <td>0</td>\n",
       "      <td>0</td>\n",
       "      <td>0</td>\n",
       "      <td>0</td>\n",
       "      <td>0</td>\n",
       "      <td>0</td>\n",
       "      <td>0</td>\n",
       "      <td>0</td>\n",
       "    </tr>\n",
       "    <tr>\n",
       "      <th>119035</th>\n",
       "      <td>0</td>\n",
       "      <td>0</td>\n",
       "      <td>0</td>\n",
       "      <td>0</td>\n",
       "      <td>0</td>\n",
       "      <td>0</td>\n",
       "      <td>0</td>\n",
       "      <td>0</td>\n",
       "      <td>0</td>\n",
       "      <td>0</td>\n",
       "      <td>...</td>\n",
       "      <td>0</td>\n",
       "      <td>0</td>\n",
       "      <td>0</td>\n",
       "      <td>0</td>\n",
       "      <td>0</td>\n",
       "      <td>0</td>\n",
       "      <td>0</td>\n",
       "      <td>0</td>\n",
       "      <td>0</td>\n",
       "      <td>0</td>\n",
       "    </tr>\n",
       "  </tbody>\n",
       "</table>\n",
       "<p>5 rows × 1269 columns</p>\n",
       "</div>"
      ],
      "text/plain": [
       "Repo       1     2     3     5     6     7     10    11    12    13    ...   \\\n",
       "Worker ID                                                              ...    \n",
       "8181          0     0     0     0     0     0     0     0     0     0  ...    \n",
       "77176         0     0     0     0     0     0     0     0     0     0  ...    \n",
       "107550        0     0     0     0     0     0     0     0     0     0  ...    \n",
       "116880        0     0     0     0     0     0     0     0     0     0  ...    \n",
       "119035        0     0     0     0     0     0     0     0     0     0  ...    \n",
       "\n",
       "Repo       1688  1689  1690  1691  1692  1693  1694  1695  1696  1697  \n",
       "Worker ID                                                              \n",
       "8181          0     0     0     0     0     0     0     0     0     0  \n",
       "77176         0     0     0     0     0     0     0     0     0     0  \n",
       "107550        0     0     0     0     0     0     0     0     0     0  \n",
       "116880        0     0     0     0     0     0     0     0     0     0  \n",
       "119035        0     0     0     0     0     0     0     0     0     0  \n",
       "\n",
       "[5 rows x 1269 columns]"
      ]
     },
     "execution_count": 15,
     "metadata": {},
     "output_type": "execute_result"
    }
   ],
   "source": [
    "repo_07 = repo_07.groupby(['Worker ID','Repo']).sum()\n",
    "repo_07 =repo_07.unstack()\n",
    "repo_07.columns = repo_07.columns.droplevel()\n",
    "repo_07 = repo_07.fillna(0)\n",
    "repo_07.head()"
   ]
  },
  {
   "cell_type": "code",
   "execution_count": 16,
   "metadata": {
    "collapsed": true
   },
   "outputs": [],
   "source": [
    "repo_07.to_csv('repo_07.csv')"
   ]
  },
  {
   "cell_type": "code",
   "execution_count": 17,
   "metadata": {
    "collapsed": false
   },
   "outputs": [
    {
     "data": {
      "text/html": [
       "<div>\n",
       "<table border=\"1\" class=\"dataframe\">\n",
       "  <thead>\n",
       "    <tr style=\"text-align: right;\">\n",
       "      <th>Repo</th>\n",
       "      <th>1</th>\n",
       "      <th>2</th>\n",
       "      <th>3</th>\n",
       "      <th>5</th>\n",
       "      <th>6</th>\n",
       "      <th>7</th>\n",
       "      <th>10</th>\n",
       "      <th>11</th>\n",
       "      <th>12</th>\n",
       "      <th>13</th>\n",
       "      <th>...</th>\n",
       "      <th>1695</th>\n",
       "      <th>1696</th>\n",
       "      <th>1697</th>\n",
       "      <th>1698</th>\n",
       "      <th>1699</th>\n",
       "      <th>1700</th>\n",
       "      <th>1701</th>\n",
       "      <th>1702</th>\n",
       "      <th>1703</th>\n",
       "      <th>1704</th>\n",
       "    </tr>\n",
       "    <tr>\n",
       "      <th>Worker ID</th>\n",
       "      <th></th>\n",
       "      <th></th>\n",
       "      <th></th>\n",
       "      <th></th>\n",
       "      <th></th>\n",
       "      <th></th>\n",
       "      <th></th>\n",
       "      <th></th>\n",
       "      <th></th>\n",
       "      <th></th>\n",
       "      <th></th>\n",
       "      <th></th>\n",
       "      <th></th>\n",
       "      <th></th>\n",
       "      <th></th>\n",
       "      <th></th>\n",
       "      <th></th>\n",
       "      <th></th>\n",
       "      <th></th>\n",
       "      <th></th>\n",
       "      <th></th>\n",
       "    </tr>\n",
       "  </thead>\n",
       "  <tbody>\n",
       "    <tr>\n",
       "      <th>8181</th>\n",
       "      <td>0</td>\n",
       "      <td>0</td>\n",
       "      <td>0</td>\n",
       "      <td>0</td>\n",
       "      <td>0</td>\n",
       "      <td>0</td>\n",
       "      <td>0</td>\n",
       "      <td>0</td>\n",
       "      <td>0</td>\n",
       "      <td>0</td>\n",
       "      <td>...</td>\n",
       "      <td>0</td>\n",
       "      <td>0</td>\n",
       "      <td>0</td>\n",
       "      <td>0</td>\n",
       "      <td>0</td>\n",
       "      <td>0</td>\n",
       "      <td>0</td>\n",
       "      <td>0</td>\n",
       "      <td>0</td>\n",
       "      <td>0</td>\n",
       "    </tr>\n",
       "    <tr>\n",
       "      <th>77176</th>\n",
       "      <td>0</td>\n",
       "      <td>0</td>\n",
       "      <td>0</td>\n",
       "      <td>0</td>\n",
       "      <td>0</td>\n",
       "      <td>0</td>\n",
       "      <td>0</td>\n",
       "      <td>0</td>\n",
       "      <td>0</td>\n",
       "      <td>0</td>\n",
       "      <td>...</td>\n",
       "      <td>0</td>\n",
       "      <td>0</td>\n",
       "      <td>0</td>\n",
       "      <td>0</td>\n",
       "      <td>0</td>\n",
       "      <td>0</td>\n",
       "      <td>0</td>\n",
       "      <td>0</td>\n",
       "      <td>0</td>\n",
       "      <td>0</td>\n",
       "    </tr>\n",
       "    <tr>\n",
       "      <th>107550</th>\n",
       "      <td>0</td>\n",
       "      <td>0</td>\n",
       "      <td>0</td>\n",
       "      <td>0</td>\n",
       "      <td>0</td>\n",
       "      <td>0</td>\n",
       "      <td>0</td>\n",
       "      <td>0</td>\n",
       "      <td>0</td>\n",
       "      <td>0</td>\n",
       "      <td>...</td>\n",
       "      <td>0</td>\n",
       "      <td>0</td>\n",
       "      <td>0</td>\n",
       "      <td>0</td>\n",
       "      <td>0</td>\n",
       "      <td>0</td>\n",
       "      <td>0</td>\n",
       "      <td>0</td>\n",
       "      <td>0</td>\n",
       "      <td>0</td>\n",
       "    </tr>\n",
       "    <tr>\n",
       "      <th>116880</th>\n",
       "      <td>0</td>\n",
       "      <td>0</td>\n",
       "      <td>0</td>\n",
       "      <td>0</td>\n",
       "      <td>0</td>\n",
       "      <td>0</td>\n",
       "      <td>0</td>\n",
       "      <td>0</td>\n",
       "      <td>0</td>\n",
       "      <td>0</td>\n",
       "      <td>...</td>\n",
       "      <td>0</td>\n",
       "      <td>0</td>\n",
       "      <td>0</td>\n",
       "      <td>0</td>\n",
       "      <td>0</td>\n",
       "      <td>0</td>\n",
       "      <td>0</td>\n",
       "      <td>0</td>\n",
       "      <td>0</td>\n",
       "      <td>0</td>\n",
       "    </tr>\n",
       "    <tr>\n",
       "      <th>119035</th>\n",
       "      <td>0</td>\n",
       "      <td>0</td>\n",
       "      <td>0</td>\n",
       "      <td>0</td>\n",
       "      <td>0</td>\n",
       "      <td>0</td>\n",
       "      <td>0</td>\n",
       "      <td>0</td>\n",
       "      <td>0</td>\n",
       "      <td>0</td>\n",
       "      <td>...</td>\n",
       "      <td>0</td>\n",
       "      <td>0</td>\n",
       "      <td>0</td>\n",
       "      <td>0</td>\n",
       "      <td>0</td>\n",
       "      <td>0</td>\n",
       "      <td>0</td>\n",
       "      <td>0</td>\n",
       "      <td>0</td>\n",
       "      <td>0</td>\n",
       "    </tr>\n",
       "  </tbody>\n",
       "</table>\n",
       "<p>5 rows × 1218 columns</p>\n",
       "</div>"
      ],
      "text/plain": [
       "Repo       1     2     3     5     6     7     10    11    12    13    ...   \\\n",
       "Worker ID                                                              ...    \n",
       "8181          0     0     0     0     0     0     0     0     0     0  ...    \n",
       "77176         0     0     0     0     0     0     0     0     0     0  ...    \n",
       "107550        0     0     0     0     0     0     0     0     0     0  ...    \n",
       "116880        0     0     0     0     0     0     0     0     0     0  ...    \n",
       "119035        0     0     0     0     0     0     0     0     0     0  ...    \n",
       "\n",
       "Repo       1695  1696  1697  1698  1699  1700  1701  1702  1703  1704  \n",
       "Worker ID                                                              \n",
       "8181          0     0     0     0     0     0     0     0     0     0  \n",
       "77176         0     0     0     0     0     0     0     0     0     0  \n",
       "107550        0     0     0     0     0     0     0     0     0     0  \n",
       "116880        0     0     0     0     0     0     0     0     0     0  \n",
       "119035        0     0     0     0     0     0     0     0     0     0  \n",
       "\n",
       "[5 rows x 1218 columns]"
      ]
     },
     "execution_count": 17,
     "metadata": {},
     "output_type": "execute_result"
    }
   ],
   "source": [
    "repo_08 = repo_08.groupby(['Worker ID','Repo']).sum()\n",
    "repo_08 =repo_08.unstack()\n",
    "repo_08.columns = repo_08.columns.droplevel()\n",
    "repo_08 = repo_08.fillna(0)\n",
    "repo_08.to_csv('repo_08.csv')\n",
    "repo_08.head()"
   ]
  },
  {
   "cell_type": "code",
   "execution_count": 18,
   "metadata": {
    "collapsed": false
   },
   "outputs": [
    {
     "data": {
      "text/html": [
       "<div>\n",
       "<table border=\"1\" class=\"dataframe\">\n",
       "  <thead>\n",
       "    <tr style=\"text-align: right;\">\n",
       "      <th>Repo</th>\n",
       "      <th>1</th>\n",
       "      <th>2</th>\n",
       "      <th>3</th>\n",
       "      <th>5</th>\n",
       "      <th>6</th>\n",
       "      <th>7</th>\n",
       "      <th>9</th>\n",
       "      <th>10</th>\n",
       "      <th>11</th>\n",
       "      <th>12</th>\n",
       "      <th>...</th>\n",
       "      <th>1723</th>\n",
       "      <th>1724</th>\n",
       "      <th>1725</th>\n",
       "      <th>1726</th>\n",
       "      <th>1727</th>\n",
       "      <th>1728</th>\n",
       "      <th>1729</th>\n",
       "      <th>1730</th>\n",
       "      <th>1731</th>\n",
       "      <th>1732</th>\n",
       "    </tr>\n",
       "    <tr>\n",
       "      <th>Worker ID</th>\n",
       "      <th></th>\n",
       "      <th></th>\n",
       "      <th></th>\n",
       "      <th></th>\n",
       "      <th></th>\n",
       "      <th></th>\n",
       "      <th></th>\n",
       "      <th></th>\n",
       "      <th></th>\n",
       "      <th></th>\n",
       "      <th></th>\n",
       "      <th></th>\n",
       "      <th></th>\n",
       "      <th></th>\n",
       "      <th></th>\n",
       "      <th></th>\n",
       "      <th></th>\n",
       "      <th></th>\n",
       "      <th></th>\n",
       "      <th></th>\n",
       "      <th></th>\n",
       "    </tr>\n",
       "  </thead>\n",
       "  <tbody>\n",
       "    <tr>\n",
       "      <th>8181</th>\n",
       "      <td>0</td>\n",
       "      <td>0</td>\n",
       "      <td>0</td>\n",
       "      <td>0</td>\n",
       "      <td>0</td>\n",
       "      <td>0</td>\n",
       "      <td>0</td>\n",
       "      <td>0</td>\n",
       "      <td>0</td>\n",
       "      <td>0</td>\n",
       "      <td>...</td>\n",
       "      <td>0</td>\n",
       "      <td>0</td>\n",
       "      <td>0</td>\n",
       "      <td>0</td>\n",
       "      <td>0</td>\n",
       "      <td>0</td>\n",
       "      <td>0</td>\n",
       "      <td>0</td>\n",
       "      <td>0</td>\n",
       "      <td>0</td>\n",
       "    </tr>\n",
       "    <tr>\n",
       "      <th>77176</th>\n",
       "      <td>0</td>\n",
       "      <td>0</td>\n",
       "      <td>0</td>\n",
       "      <td>0</td>\n",
       "      <td>0</td>\n",
       "      <td>0</td>\n",
       "      <td>0</td>\n",
       "      <td>0</td>\n",
       "      <td>0</td>\n",
       "      <td>0</td>\n",
       "      <td>...</td>\n",
       "      <td>0</td>\n",
       "      <td>0</td>\n",
       "      <td>0</td>\n",
       "      <td>0</td>\n",
       "      <td>0</td>\n",
       "      <td>0</td>\n",
       "      <td>0</td>\n",
       "      <td>0</td>\n",
       "      <td>0</td>\n",
       "      <td>0</td>\n",
       "    </tr>\n",
       "    <tr>\n",
       "      <th>107550</th>\n",
       "      <td>0</td>\n",
       "      <td>0</td>\n",
       "      <td>0</td>\n",
       "      <td>0</td>\n",
       "      <td>0</td>\n",
       "      <td>0</td>\n",
       "      <td>0</td>\n",
       "      <td>0</td>\n",
       "      <td>0</td>\n",
       "      <td>0</td>\n",
       "      <td>...</td>\n",
       "      <td>0</td>\n",
       "      <td>0</td>\n",
       "      <td>0</td>\n",
       "      <td>0</td>\n",
       "      <td>0</td>\n",
       "      <td>0</td>\n",
       "      <td>0</td>\n",
       "      <td>0</td>\n",
       "      <td>0</td>\n",
       "      <td>0</td>\n",
       "    </tr>\n",
       "    <tr>\n",
       "      <th>116880</th>\n",
       "      <td>0</td>\n",
       "      <td>0</td>\n",
       "      <td>0</td>\n",
       "      <td>0</td>\n",
       "      <td>0</td>\n",
       "      <td>0</td>\n",
       "      <td>0</td>\n",
       "      <td>0</td>\n",
       "      <td>0</td>\n",
       "      <td>0</td>\n",
       "      <td>...</td>\n",
       "      <td>0</td>\n",
       "      <td>0</td>\n",
       "      <td>0</td>\n",
       "      <td>0</td>\n",
       "      <td>0</td>\n",
       "      <td>0</td>\n",
       "      <td>0</td>\n",
       "      <td>0</td>\n",
       "      <td>0</td>\n",
       "      <td>0</td>\n",
       "    </tr>\n",
       "    <tr>\n",
       "      <th>119035</th>\n",
       "      <td>0</td>\n",
       "      <td>0</td>\n",
       "      <td>0</td>\n",
       "      <td>0</td>\n",
       "      <td>0</td>\n",
       "      <td>0</td>\n",
       "      <td>0</td>\n",
       "      <td>0</td>\n",
       "      <td>0</td>\n",
       "      <td>0</td>\n",
       "      <td>...</td>\n",
       "      <td>0</td>\n",
       "      <td>0</td>\n",
       "      <td>0</td>\n",
       "      <td>0</td>\n",
       "      <td>0</td>\n",
       "      <td>0</td>\n",
       "      <td>0</td>\n",
       "      <td>0</td>\n",
       "      <td>0</td>\n",
       "      <td>0</td>\n",
       "    </tr>\n",
       "  </tbody>\n",
       "</table>\n",
       "<p>5 rows × 1314 columns</p>\n",
       "</div>"
      ],
      "text/plain": [
       "Repo       1     2     3     5     6     7     9     10    11    12    ...   \\\n",
       "Worker ID                                                              ...    \n",
       "8181          0     0     0     0     0     0     0     0     0     0  ...    \n",
       "77176         0     0     0     0     0     0     0     0     0     0  ...    \n",
       "107550        0     0     0     0     0     0     0     0     0     0  ...    \n",
       "116880        0     0     0     0     0     0     0     0     0     0  ...    \n",
       "119035        0     0     0     0     0     0     0     0     0     0  ...    \n",
       "\n",
       "Repo       1723  1724  1725  1726  1727  1728  1729  1730  1731  1732  \n",
       "Worker ID                                                              \n",
       "8181          0     0     0     0     0     0     0     0     0     0  \n",
       "77176         0     0     0     0     0     0     0     0     0     0  \n",
       "107550        0     0     0     0     0     0     0     0     0     0  \n",
       "116880        0     0     0     0     0     0     0     0     0     0  \n",
       "119035        0     0     0     0     0     0     0     0     0     0  \n",
       "\n",
       "[5 rows x 1314 columns]"
      ]
     },
     "execution_count": 18,
     "metadata": {},
     "output_type": "execute_result"
    }
   ],
   "source": [
    "repo_09 = repo_09.groupby(['Worker ID','Repo']).sum()\n",
    "repo_09 =repo_09.unstack()\n",
    "repo_09.columns = repo_09.columns.droplevel()\n",
    "repo_09 = repo_09.fillna(0)\n",
    "repo_09.to_csv('repo_09.csv')\n",
    "repo_09.head()"
   ]
  },
  {
   "cell_type": "code",
   "execution_count": 27,
   "metadata": {
    "collapsed": false
   },
   "outputs": [],
   "source": [
    "Repobyworker = Repo_Effort.groupby(['Worker ID','Repo']).sum()\n",
    "Repounstack = Repobyworker.unstack()\n",
    "Repounstack.columns = Repounstack.columns.droplevel()\n",
    "Repounstack = Repounstack.fillna(0)\n",
    "Repounstack.head()"
   ]
  },
  {
   "cell_type": "code",
   "execution_count": 28,
   "metadata": {
    "collapsed": true
   },
   "outputs": [],
   "source": [
    "Repounstack = Repobyworker.unstack()\n",
    "Repounstack.columns = Repounstack.columns.droplevel()"
   ]
  },
  {
   "cell_type": "code",
   "execution_count": 32,
   "metadata": {
    "collapsed": false
   },
   "outputs": [
    {
     "data": {
      "text/html": [
       "<div>\n",
       "<table border=\"1\" class=\"dataframe\">\n",
       "  <thead>\n",
       "    <tr style=\"text-align: right;\">\n",
       "      <th>Repo</th>\n",
       "      <th>Repo 1</th>\n",
       "      <th>Repo 10</th>\n",
       "      <th>Repo 100</th>\n",
       "      <th>Repo 1000</th>\n",
       "      <th>Repo 1001</th>\n",
       "      <th>Repo 1002</th>\n",
       "      <th>Repo 1003</th>\n",
       "      <th>Repo 1004</th>\n",
       "      <th>Repo 1005</th>\n",
       "      <th>Repo 1006</th>\n",
       "      <th>...</th>\n",
       "      <th>Repo 990</th>\n",
       "      <th>Repo 991</th>\n",
       "      <th>Repo 992</th>\n",
       "      <th>Repo 993</th>\n",
       "      <th>Repo 994</th>\n",
       "      <th>Repo 995</th>\n",
       "      <th>Repo 996</th>\n",
       "      <th>Repo 997</th>\n",
       "      <th>Repo 998</th>\n",
       "      <th>Repo 999</th>\n",
       "    </tr>\n",
       "    <tr>\n",
       "      <th>Worker ID</th>\n",
       "      <th></th>\n",
       "      <th></th>\n",
       "      <th></th>\n",
       "      <th></th>\n",
       "      <th></th>\n",
       "      <th></th>\n",
       "      <th></th>\n",
       "      <th></th>\n",
       "      <th></th>\n",
       "      <th></th>\n",
       "      <th></th>\n",
       "      <th></th>\n",
       "      <th></th>\n",
       "      <th></th>\n",
       "      <th></th>\n",
       "      <th></th>\n",
       "      <th></th>\n",
       "      <th></th>\n",
       "      <th></th>\n",
       "      <th></th>\n",
       "      <th></th>\n",
       "    </tr>\n",
       "  </thead>\n",
       "  <tbody>\n",
       "    <tr>\n",
       "      <th>8181</th>\n",
       "      <td>0</td>\n",
       "      <td>0</td>\n",
       "      <td>0</td>\n",
       "      <td>0</td>\n",
       "      <td>0</td>\n",
       "      <td>0</td>\n",
       "      <td>0</td>\n",
       "      <td>0</td>\n",
       "      <td>0</td>\n",
       "      <td>0</td>\n",
       "      <td>...</td>\n",
       "      <td>0</td>\n",
       "      <td>0</td>\n",
       "      <td>0</td>\n",
       "      <td>0</td>\n",
       "      <td>0</td>\n",
       "      <td>0</td>\n",
       "      <td>0</td>\n",
       "      <td>0</td>\n",
       "      <td>0</td>\n",
       "      <td>0</td>\n",
       "    </tr>\n",
       "    <tr>\n",
       "      <th>77176</th>\n",
       "      <td>0</td>\n",
       "      <td>0</td>\n",
       "      <td>0</td>\n",
       "      <td>0</td>\n",
       "      <td>0</td>\n",
       "      <td>0</td>\n",
       "      <td>0</td>\n",
       "      <td>0</td>\n",
       "      <td>0</td>\n",
       "      <td>0</td>\n",
       "      <td>...</td>\n",
       "      <td>0</td>\n",
       "      <td>0</td>\n",
       "      <td>0</td>\n",
       "      <td>0</td>\n",
       "      <td>0</td>\n",
       "      <td>0</td>\n",
       "      <td>0</td>\n",
       "      <td>0</td>\n",
       "      <td>0</td>\n",
       "      <td>0</td>\n",
       "    </tr>\n",
       "    <tr>\n",
       "      <th>107550</th>\n",
       "      <td>0</td>\n",
       "      <td>0</td>\n",
       "      <td>0</td>\n",
       "      <td>0</td>\n",
       "      <td>0</td>\n",
       "      <td>0</td>\n",
       "      <td>0</td>\n",
       "      <td>0</td>\n",
       "      <td>0</td>\n",
       "      <td>0</td>\n",
       "      <td>...</td>\n",
       "      <td>0</td>\n",
       "      <td>0</td>\n",
       "      <td>0</td>\n",
       "      <td>0</td>\n",
       "      <td>0</td>\n",
       "      <td>0</td>\n",
       "      <td>0</td>\n",
       "      <td>0</td>\n",
       "      <td>0</td>\n",
       "      <td>0</td>\n",
       "    </tr>\n",
       "    <tr>\n",
       "      <th>116880</th>\n",
       "      <td>0</td>\n",
       "      <td>0</td>\n",
       "      <td>0</td>\n",
       "      <td>0</td>\n",
       "      <td>0</td>\n",
       "      <td>0</td>\n",
       "      <td>0</td>\n",
       "      <td>0</td>\n",
       "      <td>0</td>\n",
       "      <td>0</td>\n",
       "      <td>...</td>\n",
       "      <td>0</td>\n",
       "      <td>0</td>\n",
       "      <td>0</td>\n",
       "      <td>0</td>\n",
       "      <td>0</td>\n",
       "      <td>0</td>\n",
       "      <td>0</td>\n",
       "      <td>0</td>\n",
       "      <td>0</td>\n",
       "      <td>0</td>\n",
       "    </tr>\n",
       "    <tr>\n",
       "      <th>119035</th>\n",
       "      <td>0</td>\n",
       "      <td>0</td>\n",
       "      <td>0</td>\n",
       "      <td>0</td>\n",
       "      <td>0</td>\n",
       "      <td>0</td>\n",
       "      <td>0</td>\n",
       "      <td>0</td>\n",
       "      <td>0</td>\n",
       "      <td>0</td>\n",
       "      <td>...</td>\n",
       "      <td>0</td>\n",
       "      <td>0</td>\n",
       "      <td>0</td>\n",
       "      <td>0</td>\n",
       "      <td>0</td>\n",
       "      <td>0</td>\n",
       "      <td>0</td>\n",
       "      <td>0</td>\n",
       "      <td>0</td>\n",
       "      <td>0</td>\n",
       "    </tr>\n",
       "  </tbody>\n",
       "</table>\n",
       "<p>5 rows × 1705 columns</p>\n",
       "</div>"
      ],
      "text/plain": [
       "Repo       Repo 1  Repo 10  Repo 100  Repo 1000  Repo 1001  Repo 1002  \\\n",
       "Worker ID                                                               \n",
       "8181            0        0         0          0          0          0   \n",
       "77176           0        0         0          0          0          0   \n",
       "107550          0        0         0          0          0          0   \n",
       "116880          0        0         0          0          0          0   \n",
       "119035          0        0         0          0          0          0   \n",
       "\n",
       "Repo       Repo 1003  Repo 1004  Repo 1005  Repo 1006    ...     Repo 990  \\\n",
       "Worker ID                                                ...                \n",
       "8181               0          0          0          0    ...            0   \n",
       "77176              0          0          0          0    ...            0   \n",
       "107550             0          0          0          0    ...            0   \n",
       "116880             0          0          0          0    ...            0   \n",
       "119035             0          0          0          0    ...            0   \n",
       "\n",
       "Repo       Repo 991  Repo 992  Repo 993  Repo 994  Repo 995  Repo 996  \\\n",
       "Worker ID                                                               \n",
       "8181              0         0         0         0         0         0   \n",
       "77176             0         0         0         0         0         0   \n",
       "107550            0         0         0         0         0         0   \n",
       "116880            0         0         0         0         0         0   \n",
       "119035            0         0         0         0         0         0   \n",
       "\n",
       "Repo       Repo 997  Repo 998  Repo 999  \n",
       "Worker ID                                \n",
       "8181              0         0         0  \n",
       "77176             0         0         0  \n",
       "107550            0         0         0  \n",
       "116880            0         0         0  \n",
       "119035            0         0         0  \n",
       "\n",
       "[5 rows x 1705 columns]"
      ]
     },
     "execution_count": 32,
     "metadata": {},
     "output_type": "execute_result"
    }
   ],
   "source": [
    "Repounstack = Repounstack.fillna(0)\n",
    "Repounstack.head()"
   ]
  },
  {
   "cell_type": "code",
   "execution_count": 33,
   "metadata": {
    "collapsed": true
   },
   "outputs": [],
   "source": [
    "Repounstack.to_csv('Repo_matrix.csv')"
   ]
  },
  {
   "cell_type": "code",
   "execution_count": 4,
   "metadata": {
    "collapsed": false
   },
   "outputs": [],
   "source": [
    "Task_Effort = Task_Effort.drop('Task id',1)"
   ]
  },
  {
   "cell_type": "code",
   "execution_count": 7,
   "metadata": {
    "collapsed": false
   },
   "outputs": [
    {
     "data": {
      "text/html": [
       "<div>\n",
       "<table border=\"1\" class=\"dataframe\">\n",
       "  <thead>\n",
       "    <tr style=\"text-align: right;\">\n",
       "      <th></th>\n",
       "      <th>Worker ID</th>\n",
       "      <th>Date</th>\n",
       "      <th>Raw Effort</th>\n",
       "      <th>Application</th>\n",
       "      <th>Repo</th>\n",
       "    </tr>\n",
       "  </thead>\n",
       "  <tbody>\n",
       "    <tr>\n",
       "      <th>0</th>\n",
       "      <td>NaN</td>\n",
       "      <td>24/09/2015</td>\n",
       "      <td>130.48</td>\n",
       "      <td>Application 1</td>\n",
       "      <td>Repo 1</td>\n",
       "    </tr>\n",
       "    <tr>\n",
       "      <th>1</th>\n",
       "      <td>NaN</td>\n",
       "      <td>14/07/2015</td>\n",
       "      <td>65.88</td>\n",
       "      <td>Null</td>\n",
       "      <td>Repo 2</td>\n",
       "    </tr>\n",
       "    <tr>\n",
       "      <th>2</th>\n",
       "      <td>NaN</td>\n",
       "      <td>15/07/2015</td>\n",
       "      <td>29.99</td>\n",
       "      <td>Null</td>\n",
       "      <td>Repo 2</td>\n",
       "    </tr>\n",
       "    <tr>\n",
       "      <th>3</th>\n",
       "      <td>NaN</td>\n",
       "      <td>16/07/2015</td>\n",
       "      <td>14.42</td>\n",
       "      <td>Null</td>\n",
       "      <td>Repo 2</td>\n",
       "    </tr>\n",
       "    <tr>\n",
       "      <th>4</th>\n",
       "      <td>NaN</td>\n",
       "      <td>17/07/2015</td>\n",
       "      <td>5.08</td>\n",
       "      <td>Null</td>\n",
       "      <td>Repo 2</td>\n",
       "    </tr>\n",
       "  </tbody>\n",
       "</table>\n",
       "</div>"
      ],
      "text/plain": [
       "   Worker ID        Date Raw Effort    Application    Repo\n",
       "0        NaN  24/09/2015     130.48  Application 1  Repo 1\n",
       "1        NaN  14/07/2015      65.88           Null  Repo 2\n",
       "2        NaN  15/07/2015      29.99           Null  Repo 2\n",
       "3        NaN  16/07/2015      14.42           Null  Repo 2\n",
       "4        NaN  17/07/2015       5.08           Null  Repo 2"
      ]
     },
     "execution_count": 7,
     "metadata": {},
     "output_type": "execute_result"
    }
   ],
   "source": [
    "Task_Effort.head()"
   ]
  },
  {
   "cell_type": "code",
   "execution_count": 8,
   "metadata": {
    "collapsed": true
   },
   "outputs": [],
   "source": [
    "Task_Effort = Task_Effort.dropna()"
   ]
  },
  {
   "cell_type": "code",
   "execution_count": 9,
   "metadata": {
    "collapsed": false
   },
   "outputs": [
    {
     "data": {
      "text/html": [
       "<div>\n",
       "<table border=\"1\" class=\"dataframe\">\n",
       "  <thead>\n",
       "    <tr style=\"text-align: right;\">\n",
       "      <th></th>\n",
       "      <th>Worker ID</th>\n",
       "      <th>Date</th>\n",
       "      <th>Raw Effort</th>\n",
       "      <th>Application</th>\n",
       "      <th>Repo</th>\n",
       "    </tr>\n",
       "  </thead>\n",
       "  <tbody>\n",
       "    <tr>\n",
       "      <th>1098</th>\n",
       "      <td>77176</td>\n",
       "      <td>1/7/2015</td>\n",
       "      <td>0.34</td>\n",
       "      <td>Application 32</td>\n",
       "      <td>Repo 121</td>\n",
       "    </tr>\n",
       "    <tr>\n",
       "      <th>1099</th>\n",
       "      <td>77176</td>\n",
       "      <td>2/7/2015</td>\n",
       "      <td>31.78</td>\n",
       "      <td>Application 32</td>\n",
       "      <td>Repo 121</td>\n",
       "    </tr>\n",
       "    <tr>\n",
       "      <th>1100</th>\n",
       "      <td>77176</td>\n",
       "      <td>3/7/2015</td>\n",
       "      <td>24.33</td>\n",
       "      <td>Application 32</td>\n",
       "      <td>Repo 121</td>\n",
       "    </tr>\n",
       "    <tr>\n",
       "      <th>1101</th>\n",
       "      <td>77176</td>\n",
       "      <td>24/07/2015</td>\n",
       "      <td>102.05</td>\n",
       "      <td>Application 32</td>\n",
       "      <td>Repo 121</td>\n",
       "    </tr>\n",
       "    <tr>\n",
       "      <th>1102</th>\n",
       "      <td>77176</td>\n",
       "      <td>31/07/2015</td>\n",
       "      <td>42.6</td>\n",
       "      <td>Application 32</td>\n",
       "      <td>Repo 121</td>\n",
       "    </tr>\n",
       "  </tbody>\n",
       "</table>\n",
       "</div>"
      ],
      "text/plain": [
       "      Worker ID        Date Raw Effort     Application      Repo\n",
       "1098      77176    1/7/2015       0.34  Application 32  Repo 121\n",
       "1099      77176    2/7/2015      31.78  Application 32  Repo 121\n",
       "1100      77176    3/7/2015      24.33  Application 32  Repo 121\n",
       "1101      77176  24/07/2015     102.05  Application 32  Repo 121\n",
       "1102      77176  31/07/2015       42.6  Application 32  Repo 121"
      ]
     },
     "execution_count": 9,
     "metadata": {},
     "output_type": "execute_result"
    }
   ],
   "source": [
    "Task_Effort.head()"
   ]
  },
  {
   "cell_type": "code",
   "execution_count": 11,
   "metadata": {
    "collapsed": false
   },
   "outputs": [],
   "source": [
    "Date = Task_Effort.Date.tolist()"
   ]
  },
  {
   "cell_type": "code",
   "execution_count": 25,
   "metadata": {
    "collapsed": true
   },
   "outputs": [],
   "source": [
    "month = []\n",
    "for i in range(len(Date)):\n",
    "    x = Date[i].split('/')[1]\n",
    "    month.append(x)\n",
    "for i in range(len(Date)):\n",
    "    month[i] = month[i].strip('0')"
   ]
  },
  {
   "cell_type": "code",
   "execution_count": 27,
   "metadata": {
    "collapsed": false
   },
   "outputs": [],
   "source": [
    "Task_Effort['month'] = month"
   ]
  },
  {
   "cell_type": "code",
   "execution_count": 28,
   "metadata": {
    "collapsed": false
   },
   "outputs": [
    {
     "data": {
      "text/html": [
       "<div>\n",
       "<table border=\"1\" class=\"dataframe\">\n",
       "  <thead>\n",
       "    <tr style=\"text-align: right;\">\n",
       "      <th></th>\n",
       "      <th>Worker ID</th>\n",
       "      <th>Date</th>\n",
       "      <th>Raw Effort</th>\n",
       "      <th>Application</th>\n",
       "      <th>Repo</th>\n",
       "      <th>month</th>\n",
       "    </tr>\n",
       "  </thead>\n",
       "  <tbody>\n",
       "    <tr>\n",
       "      <th>1098</th>\n",
       "      <td>77176</td>\n",
       "      <td>1/7/2015</td>\n",
       "      <td>0.34</td>\n",
       "      <td>Application 32</td>\n",
       "      <td>Repo 121</td>\n",
       "      <td>7</td>\n",
       "    </tr>\n",
       "    <tr>\n",
       "      <th>1099</th>\n",
       "      <td>77176</td>\n",
       "      <td>2/7/2015</td>\n",
       "      <td>31.78</td>\n",
       "      <td>Application 32</td>\n",
       "      <td>Repo 121</td>\n",
       "      <td>7</td>\n",
       "    </tr>\n",
       "    <tr>\n",
       "      <th>1100</th>\n",
       "      <td>77176</td>\n",
       "      <td>3/7/2015</td>\n",
       "      <td>24.33</td>\n",
       "      <td>Application 32</td>\n",
       "      <td>Repo 121</td>\n",
       "      <td>7</td>\n",
       "    </tr>\n",
       "    <tr>\n",
       "      <th>1101</th>\n",
       "      <td>77176</td>\n",
       "      <td>24/07/2015</td>\n",
       "      <td>102.05</td>\n",
       "      <td>Application 32</td>\n",
       "      <td>Repo 121</td>\n",
       "      <td>7</td>\n",
       "    </tr>\n",
       "    <tr>\n",
       "      <th>1102</th>\n",
       "      <td>77176</td>\n",
       "      <td>31/07/2015</td>\n",
       "      <td>42.6</td>\n",
       "      <td>Application 32</td>\n",
       "      <td>Repo 121</td>\n",
       "      <td>7</td>\n",
       "    </tr>\n",
       "  </tbody>\n",
       "</table>\n",
       "</div>"
      ],
      "text/plain": [
       "      Worker ID        Date Raw Effort     Application      Repo month\n",
       "1098      77176    1/7/2015       0.34  Application 32  Repo 121     7\n",
       "1099      77176    2/7/2015      31.78  Application 32  Repo 121     7\n",
       "1100      77176    3/7/2015      24.33  Application 32  Repo 121     7\n",
       "1101      77176  24/07/2015     102.05  Application 32  Repo 121     7\n",
       "1102      77176  31/07/2015       42.6  Application 32  Repo 121     7"
      ]
     },
     "execution_count": 28,
     "metadata": {},
     "output_type": "execute_result"
    }
   ],
   "source": [
    "Task_Effort.head()"
   ]
  },
  {
   "cell_type": "code",
   "execution_count": 40,
   "metadata": {
    "collapsed": true
   },
   "outputs": [
    {
     "data": {
      "text/plain": [
       "1098       0.34\n",
       "1099      31.78\n",
       "1100      24.33\n",
       "1101     102.05\n",
       "1102       42.6\n",
       "1103       49.3\n",
       "1104       80.6\n",
       "1105       5.73\n",
       "1106      26.67\n",
       "1107       4.59\n",
       "1108      73.56\n",
       "1109       9.95\n",
       "1110     163.91\n",
       "1111       0.48\n",
       "1112       0.85\n",
       "1113       28.7\n",
       "1114       23.1\n",
       "1115     182.32\n",
       "1116       3.21\n",
       "1117      26.62\n",
       "1118      28.91\n",
       "1119      51.52\n",
       "1120      47.25\n",
       "1121       19.9\n",
       "1122       26.5\n",
       "1123     123.36\n",
       "1124       62.3\n",
       "1125      30.83\n",
       "1126      26.21\n",
       "1127       7.15\n",
       "          ...  \n",
       "53221    195.17\n",
       "53222     46.75\n",
       "53223     68.55\n",
       "53224     38.56\n",
       "53225       6.2\n",
       "53226        22\n",
       "53227      1.64\n",
       "53228         0\n",
       "53229      1.64\n",
       "53230      5.05\n",
       "53231     10.72\n",
       "53232     15.58\n",
       "53233     42.51\n",
       "53234      4.82\n",
       "53235     10.79\n",
       "53236      0.11\n",
       "53237     10.33\n",
       "53238     25.39\n",
       "53239     92.57\n",
       "53240     10.01\n",
       "53241     17.63\n",
       "53242     46.92\n",
       "53243    150.42\n",
       "53244     27.19\n",
       "53245    104.67\n",
       "53246     36.52\n",
       "53247     32.69\n",
       "53248      13.7\n",
       "53249     10.57\n",
       "53250     23.29\n",
       "Name: Raw Effort, dtype: object"
      ]
     },
     "execution_count": 40,
     "metadata": {},
     "output_type": "execute_result"
    }
   ],
   "source": [
    "Task_Effort['Raw Effort']"
   ]
  },
  {
   "cell_type": "code",
   "execution_count": 44,
   "metadata": {
    "collapsed": false
   },
   "outputs": [
    {
     "name": "stderr",
     "output_type": "stream",
     "text": [
      "C:\\Users\\Miya\\AppData\\Local\\Enthought\\Canopy\\User\\lib\\site-packages\\ipykernel\\__main__.py:1: FutureWarning: convert_objects is deprecated.  Use the data-type specific converters pd.to_datetime, pd.to_timedelta and pd.to_numeric.\n",
      "  if __name__ == '__main__':\n"
     ]
    }
   ],
   "source": [
    "Task_Effort = Task_Effort.convert_objects(convert_numeric=True)"
   ]
  },
  {
   "cell_type": "code",
   "execution_count": 50,
   "metadata": {
    "collapsed": false
   },
   "outputs": [],
   "source": [
    "Task_sum = Task_Effort.groupby(['Worker ID','Repo','month']).sum()"
   ]
  },
  {
   "cell_type": "code",
   "execution_count": 52,
   "metadata": {
    "collapsed": false
   },
   "outputs": [],
   "source": [
    "Task_sum.reset_index(level=0, inplace=True)"
   ]
  },
  {
   "cell_type": "code",
   "execution_count": 54,
   "metadata": {
    "collapsed": false
   },
   "outputs": [],
   "source": [
    "Task_sum.reset_index(level=0, inplace=True)"
   ]
  },
  {
   "cell_type": "code",
   "execution_count": 56,
   "metadata": {
    "collapsed": false
   },
   "outputs": [],
   "source": [
    "Task_sum.reset_index(level=0, inplace=True)"
   ]
  },
  {
   "cell_type": "code",
   "execution_count": 61,
   "metadata": {
    "collapsed": false
   },
   "outputs": [],
   "source": [
    "Task_sum.head()\n",
    "Task_sum.columns = ['month','Repo','Worker_ID','Raw Effort']"
   ]
  },
  {
   "cell_type": "code",
   "execution_count": 66,
   "metadata": {
    "collapsed": false
   },
   "outputs": [
    {
     "data": {
      "text/html": [
       "<div>\n",
       "<table border=\"1\" class=\"dataframe\">\n",
       "  <thead>\n",
       "    <tr style=\"text-align: right;\">\n",
       "      <th></th>\n",
       "      <th>month</th>\n",
       "      <th>Repo</th>\n",
       "      <th>Worker_ID</th>\n",
       "      <th>Raw Effort</th>\n",
       "    </tr>\n",
       "  </thead>\n",
       "  <tbody>\n",
       "    <tr>\n",
       "      <th>0</th>\n",
       "      <td>7</td>\n",
       "      <td>Repo 121</td>\n",
       "      <td>77176</td>\n",
       "      <td>201.10</td>\n",
       "    </tr>\n",
       "    <tr>\n",
       "      <th>1</th>\n",
       "      <td>8</td>\n",
       "      <td>Repo 121</td>\n",
       "      <td>77176</td>\n",
       "      <td>250.40</td>\n",
       "    </tr>\n",
       "    <tr>\n",
       "      <th>2</th>\n",
       "      <td>9</td>\n",
       "      <td>Repo 121</td>\n",
       "      <td>77176</td>\n",
       "      <td>509.62</td>\n",
       "    </tr>\n",
       "    <tr>\n",
       "      <th>3</th>\n",
       "      <td>7</td>\n",
       "      <td>Repo 122</td>\n",
       "      <td>107550</td>\n",
       "      <td>93.65</td>\n",
       "    </tr>\n",
       "    <tr>\n",
       "      <th>4</th>\n",
       "      <td>8</td>\n",
       "      <td>Repo 122</td>\n",
       "      <td>107550</td>\n",
       "      <td>249.85</td>\n",
       "    </tr>\n",
       "  </tbody>\n",
       "</table>\n",
       "</div>"
      ],
      "text/plain": [
       "   month      Repo  Worker_ID  Raw Effort\n",
       "0      7  Repo 121      77176      201.10\n",
       "1      8  Repo 121      77176      250.40\n",
       "2      9  Repo 121      77176      509.62\n",
       "3      7  Repo 122     107550       93.65\n",
       "4      8  Repo 122     107550      249.85"
      ]
     },
     "execution_count": 66,
     "metadata": {},
     "output_type": "execute_result"
    }
   ],
   "source": [
    "Task_sum.head()"
   ]
  },
  {
   "cell_type": "code",
   "execution_count": 62,
   "metadata": {
    "collapsed": true
   },
   "outputs": [],
   "source": [
    "Task_sum.to_csv('edges_Task.csv')"
   ]
  },
  {
   "cell_type": "code",
   "execution_count": 67,
   "metadata": {
    "collapsed": false
   },
   "outputs": [
    {
     "data": {
      "text/html": [
       "<div>\n",
       "<table border=\"1\" class=\"dataframe\">\n",
       "  <thead>\n",
       "    <tr style=\"text-align: right;\">\n",
       "      <th></th>\n",
       "      <th>id</th>\n",
       "      <th>label</th>\n",
       "      <th>Cat</th>\n",
       "    </tr>\n",
       "  </thead>\n",
       "  <tbody>\n",
       "    <tr>\n",
       "      <th>0</th>\n",
       "      <td>Repo 121</td>\n",
       "      <td>Repo 121</td>\n",
       "      <td>Repo</td>\n",
       "    </tr>\n",
       "    <tr>\n",
       "      <th>1</th>\n",
       "      <td>Repo 122</td>\n",
       "      <td>Repo 122</td>\n",
       "      <td>Repo</td>\n",
       "    </tr>\n",
       "    <tr>\n",
       "      <th>2</th>\n",
       "      <td>Repo 123</td>\n",
       "      <td>Repo 123</td>\n",
       "      <td>Repo</td>\n",
       "    </tr>\n",
       "    <tr>\n",
       "      <th>3</th>\n",
       "      <td>Repo 124</td>\n",
       "      <td>Repo 124</td>\n",
       "      <td>Repo</td>\n",
       "    </tr>\n",
       "    <tr>\n",
       "      <th>4</th>\n",
       "      <td>Repo 125</td>\n",
       "      <td>Repo 125</td>\n",
       "      <td>Repo</td>\n",
       "    </tr>\n",
       "  </tbody>\n",
       "</table>\n",
       "</div>"
      ],
      "text/plain": [
       "         id     label   Cat\n",
       "0  Repo 121  Repo 121  Repo\n",
       "1  Repo 122  Repo 122  Repo\n",
       "2  Repo 123  Repo 123  Repo\n",
       "3  Repo 124  Repo 124  Repo\n",
       "4  Repo 125  Repo 125  Repo"
      ]
     },
     "execution_count": 67,
     "metadata": {},
     "output_type": "execute_result"
    }
   ],
   "source": [
    "nodes_Task = pd.DataFrame()\n",
    "nodes_Task['id'] = Task_sum.Repo.unique().tolist() + Task_sum.Worker_ID.unique().tolist()\n",
    "nodes_Task['label'] = Task_sum.Repo.unique().tolist() + Task_sum.Worker_ID.unique().tolist()\n",
    "nodes_Task['Cat'] = ['Repo'] * len(Task_sum.Repo.unique()) + ['Worker'] * len(Task_sum.Worker_ID.unique())\n",
    "nodes_Task.head()"
   ]
  },
  {
   "cell_type": "code",
   "execution_count": 68,
   "metadata": {
    "collapsed": true
   },
   "outputs": [],
   "source": [
    "nodes_Task.to_csv('nodes_Task.csv')"
   ]
  },
  {
   "cell_type": "code",
   "execution_count": 6,
   "metadata": {
    "collapsed": false
   },
   "outputs": [],
   "source": [
    "task.columns = ['Bug_id','Date','Worker_id','Task_id']\n",
    "task = task.dropna()"
   ]
  },
  {
   "cell_type": "code",
   "execution_count": 7,
   "metadata": {
    "collapsed": false
   },
   "outputs": [
    {
     "data": {
      "text/plain": [
       "Bug_id       False\n",
       "Date         False\n",
       "Worker_id    False\n",
       "Task_id      False\n",
       "dtype: bool"
      ]
     },
     "execution_count": 7,
     "metadata": {},
     "output_type": "execute_result"
    }
   ],
   "source": [
    "task.isnull().any()"
   ]
  },
  {
   "cell_type": "code",
   "execution_count": 8,
   "metadata": {
    "collapsed": false
   },
   "outputs": [
    {
     "data": {
      "text/html": [
       "<div>\n",
       "<table border=\"1\" class=\"dataframe\">\n",
       "  <thead>\n",
       "    <tr style=\"text-align: right;\">\n",
       "      <th></th>\n",
       "      <th>Bug_id</th>\n",
       "      <th>Date</th>\n",
       "      <th>Worker_id</th>\n",
       "      <th>Task_id</th>\n",
       "    </tr>\n",
       "  </thead>\n",
       "  <tbody>\n",
       "    <tr>\n",
       "      <th>0</th>\n",
       "      <td>19336296</td>\n",
       "      <td>1-Jul-15</td>\n",
       "      <td>43349042</td>\n",
       "      <td>kjq-6093</td>\n",
       "    </tr>\n",
       "    <tr>\n",
       "      <th>1</th>\n",
       "      <td>24487876</td>\n",
       "      <td>1-Jul-15</td>\n",
       "      <td>117614</td>\n",
       "      <td>kjq-6093</td>\n",
       "    </tr>\n",
       "    <tr>\n",
       "      <th>2</th>\n",
       "      <td>19167345</td>\n",
       "      <td>1-Jul-15</td>\n",
       "      <td>43216086</td>\n",
       "      <td>kjq-6097</td>\n",
       "    </tr>\n",
       "    <tr>\n",
       "      <th>3</th>\n",
       "      <td>19167346</td>\n",
       "      <td>1-Jul-15</td>\n",
       "      <td>43216086</td>\n",
       "      <td>kjq-6097</td>\n",
       "    </tr>\n",
       "    <tr>\n",
       "      <th>4</th>\n",
       "      <td>19336187</td>\n",
       "      <td>1-Jul-15</td>\n",
       "      <td>117614</td>\n",
       "      <td>kjq-6110</td>\n",
       "    </tr>\n",
       "  </tbody>\n",
       "</table>\n",
       "</div>"
      ],
      "text/plain": [
       "     Bug_id      Date  Worker_id   Task_id\n",
       "0  19336296  1-Jul-15   43349042  kjq-6093\n",
       "1  24487876  1-Jul-15     117614  kjq-6093\n",
       "2  19167345  1-Jul-15   43216086  kjq-6097\n",
       "3  19167346  1-Jul-15   43216086  kjq-6097\n",
       "4  19336187  1-Jul-15     117614  kjq-6110"
      ]
     },
     "execution_count": 8,
     "metadata": {},
     "output_type": "execute_result"
    }
   ],
   "source": [
    "task.head()"
   ]
  },
  {
   "cell_type": "code",
   "execution_count": 9,
   "metadata": {
    "collapsed": true
   },
   "outputs": [],
   "source": [
    "task.to_csv('for_tablea.csv')"
   ]
  },
  {
   "cell_type": "code",
   "execution_count": 5,
   "metadata": {
    "collapsed": false
   },
   "outputs": [
    {
     "ename": "NameError",
     "evalue": "name 'taskclean' is not defined",
     "output_type": "error",
     "traceback": [
      "\u001b[1;31m---------------------------------------------------------------------------\u001b[0m",
      "\u001b[1;31mNameError\u001b[0m                                 Traceback (most recent call last)",
      "\u001b[1;32m<ipython-input-5-83f430335564>\u001b[0m in \u001b[0;36m<module>\u001b[1;34m()\u001b[0m\n\u001b[1;32m----> 1\u001b[1;33m \u001b[0mtaskclean\u001b[0m  \u001b[1;33m=\u001b[0m \u001b[0mtaskclean\u001b[0m\u001b[1;33m.\u001b[0m\u001b[0msort_values\u001b[0m\u001b[1;33m(\u001b[0m\u001b[1;34m'Worker_id'\u001b[0m\u001b[1;33m)\u001b[0m\u001b[1;33m\u001b[0m\u001b[0m\n\u001b[0m",
      "\u001b[1;31mNameError\u001b[0m: name 'taskclean' is not defined"
     ]
    }
   ],
   "source": [
    "taskclean  = taskclean.sort_values('Worker_id')"
   ]
  },
  {
   "cell_type": "markdown",
   "metadata": {},
   "source": [
    "## edges 150 times of nodes"
   ]
  },
  {
   "cell_type": "code",
   "execution_count": 33,
   "metadata": {
    "collapsed": false
   },
   "outputs": [
    {
     "data": {
      "text/plain": [
       "114"
      ]
     },
     "execution_count": 33,
     "metadata": {},
     "output_type": "execute_result"
    }
   ],
   "source": [
    "len(task)/len(task.groupby('Worker_id').count())"
   ]
  },
  {
   "cell_type": "markdown",
   "metadata": {},
   "source": [
    "## No duplicates in 'Date' 'Bug_id' but 'Task_id'"
   ]
  },
  {
   "cell_type": "code",
   "execution_count": 6,
   "metadata": {
    "collapsed": false
   },
   "outputs": [],
   "source": [
    "task_clean = task.groupby(['Worker_id','Task_id']).count().drop('Bug_id',1)"
   ]
  },
  {
   "cell_type": "code",
   "execution_count": 7,
   "metadata": {
    "collapsed": false
   },
   "outputs": [
    {
     "data": {
      "text/html": [
       "<div>\n",
       "<table border=\"1\" class=\"dataframe\">\n",
       "  <thead>\n",
       "    <tr style=\"text-align: right;\">\n",
       "      <th></th>\n",
       "      <th></th>\n",
       "      <th>Date</th>\n",
       "    </tr>\n",
       "    <tr>\n",
       "      <th>Worker_id</th>\n",
       "      <th>Task_id</th>\n",
       "      <th></th>\n",
       "    </tr>\n",
       "  </thead>\n",
       "  <tbody>\n",
       "    <tr>\n",
       "      <th rowspan=\"5\" valign=\"top\">4529</th>\n",
       "      <th>eyb-1025</th>\n",
       "      <td>18</td>\n",
       "    </tr>\n",
       "    <tr>\n",
       "      <th>eyb-1027</th>\n",
       "      <td>2</td>\n",
       "    </tr>\n",
       "    <tr>\n",
       "      <th>eyb-1029</th>\n",
       "      <td>8</td>\n",
       "    </tr>\n",
       "    <tr>\n",
       "      <th>eyb-1031</th>\n",
       "      <td>5</td>\n",
       "    </tr>\n",
       "    <tr>\n",
       "      <th>eyb-1298</th>\n",
       "      <td>5</td>\n",
       "    </tr>\n",
       "  </tbody>\n",
       "</table>\n",
       "</div>"
      ],
      "text/plain": [
       "                    Date\n",
       "Worker_id Task_id       \n",
       "4529      eyb-1025    18\n",
       "          eyb-1027     2\n",
       "          eyb-1029     8\n",
       "          eyb-1031     5\n",
       "          eyb-1298     5"
      ]
     },
     "execution_count": 7,
     "metadata": {},
     "output_type": "execute_result"
    }
   ],
   "source": [
    "task_clean.head()"
   ]
  },
  {
   "cell_type": "code",
   "execution_count": 8,
   "metadata": {
    "collapsed": false
   },
   "outputs": [
    {
     "data": {
      "text/html": [
       "<div>\n",
       "<table border=\"1\" class=\"dataframe\">\n",
       "  <thead>\n",
       "    <tr style=\"text-align: right;\">\n",
       "      <th></th>\n",
       "      <th>Worker_id</th>\n",
       "      <th>Date</th>\n",
       "    </tr>\n",
       "    <tr>\n",
       "      <th>Task_id</th>\n",
       "      <th></th>\n",
       "      <th></th>\n",
       "    </tr>\n",
       "  </thead>\n",
       "  <tbody>\n",
       "    <tr>\n",
       "      <th>eyb-1025</th>\n",
       "      <td>4529</td>\n",
       "      <td>18</td>\n",
       "    </tr>\n",
       "    <tr>\n",
       "      <th>eyb-1027</th>\n",
       "      <td>4529</td>\n",
       "      <td>2</td>\n",
       "    </tr>\n",
       "    <tr>\n",
       "      <th>eyb-1029</th>\n",
       "      <td>4529</td>\n",
       "      <td>8</td>\n",
       "    </tr>\n",
       "    <tr>\n",
       "      <th>eyb-1031</th>\n",
       "      <td>4529</td>\n",
       "      <td>5</td>\n",
       "    </tr>\n",
       "    <tr>\n",
       "      <th>eyb-1298</th>\n",
       "      <td>4529</td>\n",
       "      <td>5</td>\n",
       "    </tr>\n",
       "  </tbody>\n",
       "</table>\n",
       "</div>"
      ],
      "text/plain": [
       "          Worker_id  Date\n",
       "Task_id                  \n",
       "eyb-1025       4529    18\n",
       "eyb-1027       4529     2\n",
       "eyb-1029       4529     8\n",
       "eyb-1031       4529     5\n",
       "eyb-1298       4529     5"
      ]
     },
     "execution_count": 8,
     "metadata": {},
     "output_type": "execute_result"
    }
   ],
   "source": [
    "task_clean.reset_index(level=0, inplace=True)\n",
    "task_clean.head()"
   ]
  },
  {
   "cell_type": "code",
   "execution_count": 9,
   "metadata": {
    "collapsed": false
   },
   "outputs": [
    {
     "data": {
      "text/html": [
       "<div>\n",
       "<table border=\"1\" class=\"dataframe\">\n",
       "  <thead>\n",
       "    <tr style=\"text-align: right;\">\n",
       "      <th></th>\n",
       "      <th>Task_id</th>\n",
       "      <th>Worker_id</th>\n",
       "      <th>Date</th>\n",
       "    </tr>\n",
       "  </thead>\n",
       "  <tbody>\n",
       "    <tr>\n",
       "      <th>0</th>\n",
       "      <td>eyb-1025</td>\n",
       "      <td>4529</td>\n",
       "      <td>18</td>\n",
       "    </tr>\n",
       "    <tr>\n",
       "      <th>1</th>\n",
       "      <td>eyb-1027</td>\n",
       "      <td>4529</td>\n",
       "      <td>2</td>\n",
       "    </tr>\n",
       "    <tr>\n",
       "      <th>2</th>\n",
       "      <td>eyb-1029</td>\n",
       "      <td>4529</td>\n",
       "      <td>8</td>\n",
       "    </tr>\n",
       "    <tr>\n",
       "      <th>3</th>\n",
       "      <td>eyb-1031</td>\n",
       "      <td>4529</td>\n",
       "      <td>5</td>\n",
       "    </tr>\n",
       "    <tr>\n",
       "      <th>4</th>\n",
       "      <td>eyb-1298</td>\n",
       "      <td>4529</td>\n",
       "      <td>5</td>\n",
       "    </tr>\n",
       "  </tbody>\n",
       "</table>\n",
       "</div>"
      ],
      "text/plain": [
       "    Task_id  Worker_id  Date\n",
       "0  eyb-1025       4529    18\n",
       "1  eyb-1027       4529     2\n",
       "2  eyb-1029       4529     8\n",
       "3  eyb-1031       4529     5\n",
       "4  eyb-1298       4529     5"
      ]
     },
     "execution_count": 9,
     "metadata": {},
     "output_type": "execute_result"
    }
   ],
   "source": [
    "task_clean.reset_index(level=0, inplace=True)\n",
    "task_clean.head()"
   ]
  },
  {
   "cell_type": "code",
   "execution_count": 40,
   "metadata": {
    "collapsed": false
   },
   "outputs": [
    {
     "data": {
      "text/html": [
       "<div>\n",
       "<table border=\"1\" class=\"dataframe\">\n",
       "  <thead>\n",
       "    <tr style=\"text-align: right;\">\n",
       "      <th></th>\n",
       "      <th>id</th>\n",
       "      <th>label</th>\n",
       "      <th>Cat</th>\n",
       "    </tr>\n",
       "  </thead>\n",
       "  <tbody>\n",
       "    <tr>\n",
       "      <th>0</th>\n",
       "      <td>eyb-1025</td>\n",
       "      <td>eyb-1025</td>\n",
       "      <td>Task</td>\n",
       "    </tr>\n",
       "    <tr>\n",
       "      <th>1</th>\n",
       "      <td>eyb-1027</td>\n",
       "      <td>eyb-1027</td>\n",
       "      <td>Task</td>\n",
       "    </tr>\n",
       "    <tr>\n",
       "      <th>2</th>\n",
       "      <td>eyb-1029</td>\n",
       "      <td>eyb-1029</td>\n",
       "      <td>Task</td>\n",
       "    </tr>\n",
       "    <tr>\n",
       "      <th>3</th>\n",
       "      <td>eyb-1031</td>\n",
       "      <td>eyb-1031</td>\n",
       "      <td>Task</td>\n",
       "    </tr>\n",
       "    <tr>\n",
       "      <th>4</th>\n",
       "      <td>eyb-1298</td>\n",
       "      <td>eyb-1298</td>\n",
       "      <td>Task</td>\n",
       "    </tr>\n",
       "  </tbody>\n",
       "</table>\n",
       "</div>"
      ],
      "text/plain": [
       "         id     label   Cat\n",
       "0  eyb-1025  eyb-1025  Task\n",
       "1  eyb-1027  eyb-1027  Task\n",
       "2  eyb-1029  eyb-1029  Task\n",
       "3  eyb-1031  eyb-1031  Task\n",
       "4  eyb-1298  eyb-1298  Task"
      ]
     },
     "execution_count": 40,
     "metadata": {},
     "output_type": "execute_result"
    }
   ],
   "source": [
    "nodes = pd.DataFrame()\n",
    "nodes['id'] = task_clean.Task_id.unique().tolist() + task_clean.Worker_id.unique().tolist()\n",
    "nodes['label'] = task_clean.Task_id.unique().tolist() + task_clean.Worker_id.unique().tolist()\n",
    "nodes['Cat'] = ['Task']*len(task_clean.Task_id.unique()) + ['Worker'] * len(task_clean.Worker_id.unique())\n",
    "nodes.head()"
   ]
  },
  {
   "cell_type": "code",
   "execution_count": 41,
   "metadata": {
    "collapsed": true
   },
   "outputs": [],
   "source": [
    "nodes.to_csv('nodes.csv')"
   ]
  },
  {
   "cell_type": "code",
   "execution_count": 8,
   "metadata": {
    "collapsed": false
   },
   "outputs": [],
   "source": [
    "task_clean = task_clean.unstack()\n",
    "task_clean.columns = task_clean.columns.droplevel()"
   ]
  },
  {
   "cell_type": "code",
   "execution_count": 9,
   "metadata": {
    "collapsed": false,
    "scrolled": true
   },
   "outputs": [],
   "source": [
    "task_clean = task_clean.fillna(0)"
   ]
  },
  {
   "cell_type": "code",
   "execution_count": 10,
   "metadata": {
    "collapsed": false,
    "scrolled": true
   },
   "outputs": [
    {
     "data": {
      "text/html": [
       "<div>\n",
       "<table border=\"1\" class=\"dataframe\">\n",
       "  <thead>\n",
       "    <tr style=\"text-align: right;\">\n",
       "      <th>Task_id</th>\n",
       "      <th>abb-1196</th>\n",
       "      <th>abb-1224</th>\n",
       "      <th>abb-1229</th>\n",
       "      <th>abb-124</th>\n",
       "      <th>abb-1244</th>\n",
       "      <th>abb-1245</th>\n",
       "      <th>abb-1246</th>\n",
       "      <th>abb-1270</th>\n",
       "      <th>abb-1271</th>\n",
       "      <th>abb-1272</th>\n",
       "      <th>...</th>\n",
       "      <th>zxe-917</th>\n",
       "      <th>zxe-939</th>\n",
       "      <th>zxe-942</th>\n",
       "      <th>zxe-945</th>\n",
       "      <th>zxe-965</th>\n",
       "      <th>zxe-967</th>\n",
       "      <th>zxe-971</th>\n",
       "      <th>zxe-972</th>\n",
       "      <th>zxe-973</th>\n",
       "      <th>zxe-985</th>\n",
       "    </tr>\n",
       "    <tr>\n",
       "      <th>Worker_id</th>\n",
       "      <th></th>\n",
       "      <th></th>\n",
       "      <th></th>\n",
       "      <th></th>\n",
       "      <th></th>\n",
       "      <th></th>\n",
       "      <th></th>\n",
       "      <th></th>\n",
       "      <th></th>\n",
       "      <th></th>\n",
       "      <th></th>\n",
       "      <th></th>\n",
       "      <th></th>\n",
       "      <th></th>\n",
       "      <th></th>\n",
       "      <th></th>\n",
       "      <th></th>\n",
       "      <th></th>\n",
       "      <th></th>\n",
       "      <th></th>\n",
       "      <th></th>\n",
       "    </tr>\n",
       "  </thead>\n",
       "  <tbody>\n",
       "    <tr>\n",
       "      <th>4529</th>\n",
       "      <td>0</td>\n",
       "      <td>0</td>\n",
       "      <td>0</td>\n",
       "      <td>0</td>\n",
       "      <td>0</td>\n",
       "      <td>0</td>\n",
       "      <td>0</td>\n",
       "      <td>0</td>\n",
       "      <td>0</td>\n",
       "      <td>0</td>\n",
       "      <td>...</td>\n",
       "      <td>0</td>\n",
       "      <td>0</td>\n",
       "      <td>0</td>\n",
       "      <td>0</td>\n",
       "      <td>0</td>\n",
       "      <td>0</td>\n",
       "      <td>0</td>\n",
       "      <td>0</td>\n",
       "      <td>0</td>\n",
       "      <td>0</td>\n",
       "    </tr>\n",
       "    <tr>\n",
       "      <th>8181</th>\n",
       "      <td>0</td>\n",
       "      <td>0</td>\n",
       "      <td>0</td>\n",
       "      <td>0</td>\n",
       "      <td>0</td>\n",
       "      <td>0</td>\n",
       "      <td>0</td>\n",
       "      <td>0</td>\n",
       "      <td>0</td>\n",
       "      <td>0</td>\n",
       "      <td>...</td>\n",
       "      <td>0</td>\n",
       "      <td>0</td>\n",
       "      <td>0</td>\n",
       "      <td>0</td>\n",
       "      <td>0</td>\n",
       "      <td>0</td>\n",
       "      <td>0</td>\n",
       "      <td>0</td>\n",
       "      <td>0</td>\n",
       "      <td>0</td>\n",
       "    </tr>\n",
       "    <tr>\n",
       "      <th>9405</th>\n",
       "      <td>0</td>\n",
       "      <td>0</td>\n",
       "      <td>0</td>\n",
       "      <td>0</td>\n",
       "      <td>0</td>\n",
       "      <td>0</td>\n",
       "      <td>0</td>\n",
       "      <td>0</td>\n",
       "      <td>0</td>\n",
       "      <td>0</td>\n",
       "      <td>...</td>\n",
       "      <td>0</td>\n",
       "      <td>0</td>\n",
       "      <td>0</td>\n",
       "      <td>0</td>\n",
       "      <td>0</td>\n",
       "      <td>0</td>\n",
       "      <td>0</td>\n",
       "      <td>0</td>\n",
       "      <td>0</td>\n",
       "      <td>0</td>\n",
       "    </tr>\n",
       "    <tr>\n",
       "      <th>18286</th>\n",
       "      <td>0</td>\n",
       "      <td>0</td>\n",
       "      <td>0</td>\n",
       "      <td>0</td>\n",
       "      <td>0</td>\n",
       "      <td>0</td>\n",
       "      <td>0</td>\n",
       "      <td>0</td>\n",
       "      <td>0</td>\n",
       "      <td>0</td>\n",
       "      <td>...</td>\n",
       "      <td>0</td>\n",
       "      <td>0</td>\n",
       "      <td>0</td>\n",
       "      <td>0</td>\n",
       "      <td>0</td>\n",
       "      <td>0</td>\n",
       "      <td>0</td>\n",
       "      <td>0</td>\n",
       "      <td>0</td>\n",
       "      <td>0</td>\n",
       "    </tr>\n",
       "    <tr>\n",
       "      <th>18302</th>\n",
       "      <td>0</td>\n",
       "      <td>0</td>\n",
       "      <td>0</td>\n",
       "      <td>0</td>\n",
       "      <td>0</td>\n",
       "      <td>0</td>\n",
       "      <td>0</td>\n",
       "      <td>0</td>\n",
       "      <td>0</td>\n",
       "      <td>0</td>\n",
       "      <td>...</td>\n",
       "      <td>0</td>\n",
       "      <td>0</td>\n",
       "      <td>0</td>\n",
       "      <td>0</td>\n",
       "      <td>0</td>\n",
       "      <td>0</td>\n",
       "      <td>0</td>\n",
       "      <td>0</td>\n",
       "      <td>0</td>\n",
       "      <td>0</td>\n",
       "    </tr>\n",
       "  </tbody>\n",
       "</table>\n",
       "<p>5 rows × 76510 columns</p>\n",
       "</div>"
      ],
      "text/plain": [
       "Task_id    abb-1196  abb-1224  abb-1229  abb-124  abb-1244  abb-1245  \\\n",
       "Worker_id                                                              \n",
       "4529              0         0         0        0         0         0   \n",
       "8181              0         0         0        0         0         0   \n",
       "9405              0         0         0        0         0         0   \n",
       "18286             0         0         0        0         0         0   \n",
       "18302             0         0         0        0         0         0   \n",
       "\n",
       "Task_id    abb-1246  abb-1270  abb-1271  abb-1272   ...     zxe-917  zxe-939  \\\n",
       "Worker_id                                           ...                        \n",
       "4529              0         0         0         0   ...           0        0   \n",
       "8181              0         0         0         0   ...           0        0   \n",
       "9405              0         0         0         0   ...           0        0   \n",
       "18286             0         0         0         0   ...           0        0   \n",
       "18302             0         0         0         0   ...           0        0   \n",
       "\n",
       "Task_id    zxe-942  zxe-945  zxe-965  zxe-967  zxe-971  zxe-972  zxe-973  \\\n",
       "Worker_id                                                                  \n",
       "4529             0        0        0        0        0        0        0   \n",
       "8181             0        0        0        0        0        0        0   \n",
       "9405             0        0        0        0        0        0        0   \n",
       "18286            0        0        0        0        0        0        0   \n",
       "18302            0        0        0        0        0        0        0   \n",
       "\n",
       "Task_id    zxe-985  \n",
       "Worker_id           \n",
       "4529             0  \n",
       "8181             0  \n",
       "9405             0  \n",
       "18286            0  \n",
       "18302            0  \n",
       "\n",
       "[5 rows x 76510 columns]"
      ]
     },
     "execution_count": 10,
     "metadata": {},
     "output_type": "execute_result"
    }
   ],
   "source": [
    "task_clean.head()"
   ]
  },
  {
   "cell_type": "code",
   "execution_count": 11,
   "metadata": {
    "collapsed": true
   },
   "outputs": [],
   "source": [
    "task_clean.to_csv('R_matrix.csv')"
   ]
  },
  {
   "cell_type": "code",
   "execution_count": 12,
   "metadata": {
    "collapsed": true
   },
   "outputs": [],
   "source": [
    "task_clean = pd.read_csv('R_matrix.csv') "
   ]
  },
  {
   "cell_type": "code",
   "execution_count": 13,
   "metadata": {
    "collapsed": false
   },
   "outputs": [
    {
     "data": {
      "text/html": [
       "<div>\n",
       "<table border=\"1\" class=\"dataframe\">\n",
       "  <thead>\n",
       "    <tr style=\"text-align: right;\">\n",
       "      <th></th>\n",
       "      <th>Worker_id</th>\n",
       "      <th>abb-1196</th>\n",
       "      <th>abb-1224</th>\n",
       "      <th>abb-1229</th>\n",
       "      <th>abb-124</th>\n",
       "      <th>abb-1244</th>\n",
       "      <th>abb-1245</th>\n",
       "      <th>abb-1246</th>\n",
       "      <th>abb-1270</th>\n",
       "      <th>abb-1271</th>\n",
       "      <th>...</th>\n",
       "      <th>zxe-917</th>\n",
       "      <th>zxe-939</th>\n",
       "      <th>zxe-942</th>\n",
       "      <th>zxe-945</th>\n",
       "      <th>zxe-965</th>\n",
       "      <th>zxe-967</th>\n",
       "      <th>zxe-971</th>\n",
       "      <th>zxe-972</th>\n",
       "      <th>zxe-973</th>\n",
       "      <th>zxe-985</th>\n",
       "    </tr>\n",
       "  </thead>\n",
       "  <tbody>\n",
       "    <tr>\n",
       "      <th>0</th>\n",
       "      <td>4529</td>\n",
       "      <td>0</td>\n",
       "      <td>0</td>\n",
       "      <td>0</td>\n",
       "      <td>0</td>\n",
       "      <td>0</td>\n",
       "      <td>0</td>\n",
       "      <td>0</td>\n",
       "      <td>0</td>\n",
       "      <td>0</td>\n",
       "      <td>...</td>\n",
       "      <td>0</td>\n",
       "      <td>0</td>\n",
       "      <td>0</td>\n",
       "      <td>0</td>\n",
       "      <td>0</td>\n",
       "      <td>0</td>\n",
       "      <td>0</td>\n",
       "      <td>0</td>\n",
       "      <td>0</td>\n",
       "      <td>0</td>\n",
       "    </tr>\n",
       "    <tr>\n",
       "      <th>1</th>\n",
       "      <td>8181</td>\n",
       "      <td>0</td>\n",
       "      <td>0</td>\n",
       "      <td>0</td>\n",
       "      <td>0</td>\n",
       "      <td>0</td>\n",
       "      <td>0</td>\n",
       "      <td>0</td>\n",
       "      <td>0</td>\n",
       "      <td>0</td>\n",
       "      <td>...</td>\n",
       "      <td>0</td>\n",
       "      <td>0</td>\n",
       "      <td>0</td>\n",
       "      <td>0</td>\n",
       "      <td>0</td>\n",
       "      <td>0</td>\n",
       "      <td>0</td>\n",
       "      <td>0</td>\n",
       "      <td>0</td>\n",
       "      <td>0</td>\n",
       "    </tr>\n",
       "    <tr>\n",
       "      <th>2</th>\n",
       "      <td>9405</td>\n",
       "      <td>0</td>\n",
       "      <td>0</td>\n",
       "      <td>0</td>\n",
       "      <td>0</td>\n",
       "      <td>0</td>\n",
       "      <td>0</td>\n",
       "      <td>0</td>\n",
       "      <td>0</td>\n",
       "      <td>0</td>\n",
       "      <td>...</td>\n",
       "      <td>0</td>\n",
       "      <td>0</td>\n",
       "      <td>0</td>\n",
       "      <td>0</td>\n",
       "      <td>0</td>\n",
       "      <td>0</td>\n",
       "      <td>0</td>\n",
       "      <td>0</td>\n",
       "      <td>0</td>\n",
       "      <td>0</td>\n",
       "    </tr>\n",
       "    <tr>\n",
       "      <th>3</th>\n",
       "      <td>18286</td>\n",
       "      <td>0</td>\n",
       "      <td>0</td>\n",
       "      <td>0</td>\n",
       "      <td>0</td>\n",
       "      <td>0</td>\n",
       "      <td>0</td>\n",
       "      <td>0</td>\n",
       "      <td>0</td>\n",
       "      <td>0</td>\n",
       "      <td>...</td>\n",
       "      <td>0</td>\n",
       "      <td>0</td>\n",
       "      <td>0</td>\n",
       "      <td>0</td>\n",
       "      <td>0</td>\n",
       "      <td>0</td>\n",
       "      <td>0</td>\n",
       "      <td>0</td>\n",
       "      <td>0</td>\n",
       "      <td>0</td>\n",
       "    </tr>\n",
       "    <tr>\n",
       "      <th>4</th>\n",
       "      <td>18302</td>\n",
       "      <td>0</td>\n",
       "      <td>0</td>\n",
       "      <td>0</td>\n",
       "      <td>0</td>\n",
       "      <td>0</td>\n",
       "      <td>0</td>\n",
       "      <td>0</td>\n",
       "      <td>0</td>\n",
       "      <td>0</td>\n",
       "      <td>...</td>\n",
       "      <td>0</td>\n",
       "      <td>0</td>\n",
       "      <td>0</td>\n",
       "      <td>0</td>\n",
       "      <td>0</td>\n",
       "      <td>0</td>\n",
       "      <td>0</td>\n",
       "      <td>0</td>\n",
       "      <td>0</td>\n",
       "      <td>0</td>\n",
       "    </tr>\n",
       "  </tbody>\n",
       "</table>\n",
       "<p>5 rows × 76511 columns</p>\n",
       "</div>"
      ],
      "text/plain": [
       "   Worker_id  abb-1196  abb-1224  abb-1229  abb-124  abb-1244  abb-1245  \\\n",
       "0       4529         0         0         0        0         0         0   \n",
       "1       8181         0         0         0        0         0         0   \n",
       "2       9405         0         0         0        0         0         0   \n",
       "3      18286         0         0         0        0         0         0   \n",
       "4      18302         0         0         0        0         0         0   \n",
       "\n",
       "   abb-1246  abb-1270  abb-1271   ...     zxe-917  zxe-939  zxe-942  zxe-945  \\\n",
       "0         0         0         0   ...           0        0        0        0   \n",
       "1         0         0         0   ...           0        0        0        0   \n",
       "2         0         0         0   ...           0        0        0        0   \n",
       "3         0         0         0   ...           0        0        0        0   \n",
       "4         0         0         0   ...           0        0        0        0   \n",
       "\n",
       "   zxe-965  zxe-967  zxe-971  zxe-972  zxe-973  zxe-985  \n",
       "0        0        0        0        0        0        0  \n",
       "1        0        0        0        0        0        0  \n",
       "2        0        0        0        0        0        0  \n",
       "3        0        0        0        0        0        0  \n",
       "4        0        0        0        0        0        0  \n",
       "\n",
       "[5 rows x 76511 columns]"
      ]
     },
     "execution_count": 13,
     "metadata": {},
     "output_type": "execute_result"
    }
   ],
   "source": [
    "task_clean.head()"
   ]
  },
  {
   "cell_type": "code",
   "execution_count": 73,
   "metadata": {
    "collapsed": true
   },
   "outputs": [],
   "source": [
    "task_clean.to_csv('edge.csv')"
   ]
  },
  {
   "cell_type": "code",
   "execution_count": 17,
   "metadata": {
    "collapsed": false
   },
   "outputs": [],
   "source": [
    "taskpivot = taskclean.sort_values(['Worker_id','Date'])"
   ]
  },
  {
   "cell_type": "code",
   "execution_count": 18,
   "metadata": {
    "collapsed": false
   },
   "outputs": [],
   "source": [
    "taskpivot = taskclean.reset_index().drop('index',1)"
   ]
  },
  {
   "cell_type": "code",
   "execution_count": 19,
   "metadata": {
    "collapsed": false
   },
   "outputs": [
    {
     "data": {
      "text/html": [
       "<div>\n",
       "<table border=\"1\" class=\"dataframe\">\n",
       "  <thead>\n",
       "    <tr style=\"text-align: right;\">\n",
       "      <th></th>\n",
       "      <th>Bug_id</th>\n",
       "      <th>Date</th>\n",
       "      <th>Worker_id</th>\n",
       "      <th>Task_id</th>\n",
       "    </tr>\n",
       "  </thead>\n",
       "  <tbody>\n",
       "    <tr>\n",
       "      <th>0</th>\n",
       "      <td>21222939</td>\n",
       "      <td>8-Jul-15</td>\n",
       "      <td>W4529.0</td>\n",
       "      <td>T1029</td>\n",
       "    </tr>\n",
       "    <tr>\n",
       "      <th>1</th>\n",
       "      <td>19148397</td>\n",
       "      <td>24-Aug-15</td>\n",
       "      <td>W4529.0</td>\n",
       "      <td>T867</td>\n",
       "    </tr>\n",
       "    <tr>\n",
       "      <th>2</th>\n",
       "      <td>21293554</td>\n",
       "      <td>1-Aug-15</td>\n",
       "      <td>W4529.0</td>\n",
       "      <td>T1031</td>\n",
       "    </tr>\n",
       "    <tr>\n",
       "      <th>3</th>\n",
       "      <td>21222943</td>\n",
       "      <td>8-Jul-15</td>\n",
       "      <td>W4529.0</td>\n",
       "      <td>T1029</td>\n",
       "    </tr>\n",
       "    <tr>\n",
       "      <th>4</th>\n",
       "      <td>21293555</td>\n",
       "      <td>1-Aug-15</td>\n",
       "      <td>W4529.0</td>\n",
       "      <td>T1031</td>\n",
       "    </tr>\n",
       "  </tbody>\n",
       "</table>\n",
       "</div>"
      ],
      "text/plain": [
       "     Bug_id       Date Worker_id Task_id\n",
       "0  21222939   8-Jul-15   W4529.0   T1029\n",
       "1  19148397  24-Aug-15   W4529.0    T867\n",
       "2  21293554   1-Aug-15   W4529.0   T1031\n",
       "3  21222943   8-Jul-15   W4529.0   T1029\n",
       "4  21293555   1-Aug-15   W4529.0   T1031"
      ]
     },
     "execution_count": 19,
     "metadata": {},
     "output_type": "execute_result"
    }
   ],
   "source": [
    "taskpivot.head()"
   ]
  },
  {
   "cell_type": "code",
   "execution_count": 20,
   "metadata": {
    "collapsed": true
   },
   "outputs": [],
   "source": [
    "taskprepared = taskpivot.groupby(['Worker_id','Task_id']).count()"
   ]
  },
  {
   "cell_type": "code",
   "execution_count": 21,
   "metadata": {
    "collapsed": false
   },
   "outputs": [],
   "source": [
    "taskprepared.columns = ['Bug_cnt','Date_cnt']\n",
    "taskprepared = taskprepared.drop('Bug_cnt',1)"
   ]
  },
  {
   "cell_type": "code",
   "execution_count": 22,
   "metadata": {
    "collapsed": false
   },
   "outputs": [
    {
     "data": {
      "text/html": [
       "<div>\n",
       "<table border=\"1\" class=\"dataframe\">\n",
       "  <thead>\n",
       "    <tr style=\"text-align: right;\">\n",
       "      <th></th>\n",
       "      <th></th>\n",
       "      <th>Date_cnt</th>\n",
       "    </tr>\n",
       "    <tr>\n",
       "      <th>Worker_id</th>\n",
       "      <th>Task_id</th>\n",
       "      <th></th>\n",
       "    </tr>\n",
       "  </thead>\n",
       "  <tbody>\n",
       "    <tr>\n",
       "      <th rowspan=\"5\" valign=\"top\">W100017.0</th>\n",
       "      <th>T10838</th>\n",
       "      <td>5</td>\n",
       "    </tr>\n",
       "    <tr>\n",
       "      <th>T20022</th>\n",
       "      <td>6</td>\n",
       "    </tr>\n",
       "    <tr>\n",
       "      <th>T20280</th>\n",
       "      <td>2</td>\n",
       "    </tr>\n",
       "    <tr>\n",
       "      <th>T20316</th>\n",
       "      <td>6</td>\n",
       "    </tr>\n",
       "    <tr>\n",
       "      <th>T20406</th>\n",
       "      <td>6</td>\n",
       "    </tr>\n",
       "  </tbody>\n",
       "</table>\n",
       "</div>"
      ],
      "text/plain": [
       "                   Date_cnt\n",
       "Worker_id Task_id          \n",
       "W100017.0 T10838          5\n",
       "          T20022          6\n",
       "          T20280          2\n",
       "          T20316          6\n",
       "          T20406          6"
      ]
     },
     "execution_count": 22,
     "metadata": {},
     "output_type": "execute_result"
    }
   ],
   "source": [
    "taskprepared.head()"
   ]
  },
  {
   "cell_type": "code",
   "execution_count": null,
   "metadata": {
    "collapsed": true
   },
   "outputs": [],
   "source": []
  },
  {
   "cell_type": "code",
   "execution_count": 38,
   "metadata": {
    "collapsed": false
   },
   "outputs": [
    {
     "data": {
      "text/plain": [
       "array(['T10838', 'T20022', 'T20280', ..., 'T34491', 'T34794', 'T17839'], dtype=object)"
      ]
     },
     "execution_count": 38,
     "metadata": {},
     "output_type": "execute_result"
    }
   ],
   "source": [
    "taskprepared.Task_id.unique()"
   ]
  },
  {
   "cell_type": "code",
   "execution_count": 39,
   "metadata": {
    "collapsed": false
   },
   "outputs": [
    {
     "data": {
      "text/plain": [
       "array(['T100017.0', 'T100588.0', 'T100662.0', ..., 'T99926341.0',\n",
       "       'T99926548.0', 'T99926721.0'], dtype=object)"
      ]
     },
     "execution_count": 39,
     "metadata": {},
     "output_type": "execute_result"
    }
   ],
   "source": [
    "taskprepared.Worker_id.unique()"
   ]
  },
  {
   "cell_type": "code",
   "execution_count": null,
   "metadata": {
    "collapsed": true
   },
   "outputs": [],
   "source": []
  },
  {
   "cell_type": "code",
   "execution_count": null,
   "metadata": {
    "collapsed": true
   },
   "outputs": [],
   "source": []
  },
  {
   "cell_type": "code",
   "execution_count": 43,
   "metadata": {
    "collapsed": false
   },
   "outputs": [],
   "source": [
    "nodes = pd.DataFrame()\n",
    "nodes['id'] = list(taskprepared.Task_id.unique()) + list(taskprepared.Worker_id.unique())\n",
    "nodes['label'] = list(taskprepared.Task_id.unique()) + list(taskprepared.Worker_id.unique())\n",
    "nodes['Attribute'] = ['Task'] * len(taskprepared.Task_id.unique()) + ['Worker'] * len(list(taskprepared.Worker_id.unique()))\n",
    "nodes.to_csv('nodes.csv')"
   ]
  },
  {
   "cell_type": "code",
   "execution_count": 32,
   "metadata": {
    "collapsed": false
   },
   "outputs": [],
   "source": [
    "taskprepared.reset_index(level=0, inplace=True)\n",
    "taskprepared.reset_index(level=0, inplace=True)"
   ]
  },
  {
   "cell_type": "code",
   "execution_count": 34,
   "metadata": {
    "collapsed": false
   },
   "outputs": [],
   "source": [
    "#taskprepared = taskprepared.drop('index',1)\n",
    "#taskprepared = taskprepared.drop('Date',1)\n",
    "taskprepared.columns = ['Task_id','Worker_id','weight/days']\n",
    "taskprepared.to_csv('Task_edges.csv')"
   ]
  },
  {
   "cell_type": "code",
   "execution_count": 38,
   "metadata": {
    "collapsed": false
   },
   "outputs": [],
   "source": [
    "nodes = pd.DataFrame()\n",
    "nodes['id'] = list(taskprepared.Task_id.unique())+ list(taskprepared.Worker_id.unique())\n",
    "nodes['type'] = ['Task'] * len(taskprepared.Task_id.unique()) + ['Worker'] * len(taskprepared.Worker_id.unique())"
   ]
  },
  {
   "cell_type": "code",
   "execution_count": 42,
   "metadata": {
    "collapsed": false
   },
   "outputs": [],
   "source": [
    "nodes.to_csv('Task_nodes.csv')"
   ]
  },
  {
   "cell_type": "code",
   "execution_count": 46,
   "metadata": {
    "collapsed": false
   },
   "outputs": [],
   "source": [
    "taskprepared = taskprepared.unstack()\n",
    "taskprepared.columns = taskprepared.columns.droplevel()"
   ]
  },
  {
   "cell_type": "code",
   "execution_count": 47,
   "metadata": {
    "collapsed": false
   },
   "outputs": [
    {
     "data": {
      "text/html": [
       "<div>\n",
       "<table border=\"1\" class=\"dataframe\">\n",
       "  <thead>\n",
       "    <tr style=\"text-align: right;\">\n",
       "      <th></th>\n",
       "      <th>0</th>\n",
       "      <th>1</th>\n",
       "      <th>2</th>\n",
       "      <th>3</th>\n",
       "      <th>4</th>\n",
       "      <th>5</th>\n",
       "      <th>6</th>\n",
       "      <th>7</th>\n",
       "      <th>8</th>\n",
       "      <th>9</th>\n",
       "      <th>...</th>\n",
       "      <th>110110</th>\n",
       "      <th>110111</th>\n",
       "      <th>110112</th>\n",
       "      <th>110113</th>\n",
       "      <th>110114</th>\n",
       "      <th>110115</th>\n",
       "      <th>110116</th>\n",
       "      <th>110117</th>\n",
       "      <th>110118</th>\n",
       "      <th>110119</th>\n",
       "    </tr>\n",
       "  </thead>\n",
       "  <tbody>\n",
       "    <tr>\n",
       "      <th>Task_id</th>\n",
       "      <td>T10838</td>\n",
       "      <td>T20022</td>\n",
       "      <td>T20280</td>\n",
       "      <td>T20316</td>\n",
       "      <td>T20406</td>\n",
       "      <td>T20407</td>\n",
       "      <td>T20571</td>\n",
       "      <td>T20789</td>\n",
       "      <td>T20790</td>\n",
       "      <td>T20997</td>\n",
       "      <td>...</td>\n",
       "      <td>T606</td>\n",
       "      <td>T2152</td>\n",
       "      <td>T2158</td>\n",
       "      <td>T2474</td>\n",
       "      <td>T2501</td>\n",
       "      <td>T2505</td>\n",
       "      <td>T586</td>\n",
       "      <td>T1134</td>\n",
       "      <td>T1136</td>\n",
       "      <td>T884</td>\n",
       "    </tr>\n",
       "    <tr>\n",
       "      <th>Worker_id</th>\n",
       "      <td>T100017.0</td>\n",
       "      <td>T100017.0</td>\n",
       "      <td>T100017.0</td>\n",
       "      <td>T100017.0</td>\n",
       "      <td>T100017.0</td>\n",
       "      <td>T100017.0</td>\n",
       "      <td>T100017.0</td>\n",
       "      <td>T100017.0</td>\n",
       "      <td>T100017.0</td>\n",
       "      <td>T100017.0</td>\n",
       "      <td>...</td>\n",
       "      <td>T99926341.0</td>\n",
       "      <td>T99926548.0</td>\n",
       "      <td>T99926548.0</td>\n",
       "      <td>T99926548.0</td>\n",
       "      <td>T99926548.0</td>\n",
       "      <td>T99926548.0</td>\n",
       "      <td>T99926548.0</td>\n",
       "      <td>T99926721.0</td>\n",
       "      <td>T99926721.0</td>\n",
       "      <td>T99926721.0</td>\n",
       "    </tr>\n",
       "    <tr>\n",
       "      <th>Date_cnt</th>\n",
       "      <td>5</td>\n",
       "      <td>6</td>\n",
       "      <td>2</td>\n",
       "      <td>6</td>\n",
       "      <td>6</td>\n",
       "      <td>7</td>\n",
       "      <td>6</td>\n",
       "      <td>2</td>\n",
       "      <td>2</td>\n",
       "      <td>3</td>\n",
       "      <td>...</td>\n",
       "      <td>8</td>\n",
       "      <td>2</td>\n",
       "      <td>2</td>\n",
       "      <td>2</td>\n",
       "      <td>2</td>\n",
       "      <td>2</td>\n",
       "      <td>2</td>\n",
       "      <td>3</td>\n",
       "      <td>4</td>\n",
       "      <td>28</td>\n",
       "    </tr>\n",
       "  </tbody>\n",
       "</table>\n",
       "<p>3 rows × 110120 columns</p>\n",
       "</div>"
      ],
      "text/plain": [
       "              0          1          2          3          4          5       \\\n",
       "Task_id       T10838     T20022     T20280     T20316     T20406     T20407   \n",
       "Worker_id  T100017.0  T100017.0  T100017.0  T100017.0  T100017.0  T100017.0   \n",
       "Date_cnt           5          6          2          6          6          7   \n",
       "\n",
       "              6          7          8          9          ...       \\\n",
       "Task_id       T20571     T20789     T20790     T20997     ...        \n",
       "Worker_id  T100017.0  T100017.0  T100017.0  T100017.0     ...        \n",
       "Date_cnt           6          2          2          3     ...        \n",
       "\n",
       "                110110       110111       110112       110113       110114  \\\n",
       "Task_id           T606        T2152        T2158        T2474        T2501   \n",
       "Worker_id  T99926341.0  T99926548.0  T99926548.0  T99926548.0  T99926548.0   \n",
       "Date_cnt             8            2            2            2            2   \n",
       "\n",
       "                110115       110116       110117       110118       110119  \n",
       "Task_id          T2505         T586        T1134        T1136         T884  \n",
       "Worker_id  T99926548.0  T99926548.0  T99926721.0  T99926721.0  T99926721.0  \n",
       "Date_cnt             2            2            3            4           28  \n",
       "\n",
       "[3 rows x 110120 columns]"
      ]
     },
     "execution_count": 47,
     "metadata": {},
     "output_type": "execute_result"
    }
   ],
   "source": [
    "taskprepared.head()"
   ]
  },
  {
   "cell_type": "code",
   "execution_count": 30,
   "metadata": {
    "collapsed": false
   },
   "outputs": [
    {
     "data": {
      "text/plain": [
       "Index([u'Date_cnt'], dtype='object')"
      ]
     },
     "execution_count": 30,
     "metadata": {},
     "output_type": "execute_result"
    }
   ],
   "source": [
    "taskprepared.columns"
   ]
  },
  {
   "cell_type": "code",
   "execution_count": 31,
   "metadata": {
    "collapsed": false
   },
   "outputs": [
    {
     "data": {
      "text/html": [
       "<div>\n",
       "<table border=\"1\" class=\"dataframe\">\n",
       "  <thead>\n",
       "    <tr style=\"text-align: right;\">\n",
       "      <th></th>\n",
       "      <th></th>\n",
       "      <th>Date_cnt</th>\n",
       "    </tr>\n",
       "    <tr>\n",
       "      <th>Worker_id</th>\n",
       "      <th>Task_id</th>\n",
       "      <th></th>\n",
       "    </tr>\n",
       "  </thead>\n",
       "  <tbody>\n",
       "    <tr>\n",
       "      <th rowspan=\"5\" valign=\"top\">T100017.0</th>\n",
       "      <th>T10838</th>\n",
       "      <td>5</td>\n",
       "    </tr>\n",
       "    <tr>\n",
       "      <th>T20022</th>\n",
       "      <td>6</td>\n",
       "    </tr>\n",
       "    <tr>\n",
       "      <th>T20280</th>\n",
       "      <td>2</td>\n",
       "    </tr>\n",
       "    <tr>\n",
       "      <th>T20316</th>\n",
       "      <td>6</td>\n",
       "    </tr>\n",
       "    <tr>\n",
       "      <th>T20406</th>\n",
       "      <td>6</td>\n",
       "    </tr>\n",
       "  </tbody>\n",
       "</table>\n",
       "</div>"
      ],
      "text/plain": [
       "                   Date_cnt\n",
       "Worker_id Task_id          \n",
       "T100017.0 T10838          5\n",
       "          T20022          6\n",
       "          T20280          2\n",
       "          T20316          6\n",
       "          T20406          6"
      ]
     },
     "execution_count": 31,
     "metadata": {},
     "output_type": "execute_result"
    }
   ],
   "source": [
    "taskprepared.head()"
   ]
  },
  {
   "cell_type": "code",
   "execution_count": 33,
   "metadata": {
    "collapsed": false
   },
   "outputs": [],
   "source": [
    "taskprepared.fillna(0).sort_index().to_csv('task_matrix.csv')"
   ]
  },
  {
   "cell_type": "code",
   "execution_count": 38,
   "metadata": {
    "collapsed": false
   },
   "outputs": [
    {
     "data": {
      "text/html": [
       "<div>\n",
       "<table border=\"1\" class=\"dataframe\">\n",
       "  <thead>\n",
       "    <tr style=\"text-align: right;\">\n",
       "      <th></th>\n",
       "      <th>Task0</th>\n",
       "      <th>Task1</th>\n",
       "      <th>Task2</th>\n",
       "      <th>Task3</th>\n",
       "      <th>Task4</th>\n",
       "      <th>Task5</th>\n",
       "      <th>Task6</th>\n",
       "      <th>Task7</th>\n",
       "      <th>Task8</th>\n",
       "      <th>Task9</th>\n",
       "      <th>...</th>\n",
       "      <th>Task26166</th>\n",
       "      <th>Task26167</th>\n",
       "      <th>Task26168</th>\n",
       "      <th>Task26169</th>\n",
       "      <th>Task26170</th>\n",
       "      <th>Task26171</th>\n",
       "      <th>Task26172</th>\n",
       "      <th>Task26173</th>\n",
       "      <th>Task26174</th>\n",
       "      <th>Task26175</th>\n",
       "    </tr>\n",
       "  </thead>\n",
       "  <tbody>\n",
       "    <tr>\n",
       "      <th>W0</th>\n",
       "      <td>0</td>\n",
       "      <td>0</td>\n",
       "      <td>0</td>\n",
       "      <td>0</td>\n",
       "      <td>0</td>\n",
       "      <td>0</td>\n",
       "      <td>0</td>\n",
       "      <td>0</td>\n",
       "      <td>0</td>\n",
       "      <td>0</td>\n",
       "      <td>...</td>\n",
       "      <td>0</td>\n",
       "      <td>0</td>\n",
       "      <td>0</td>\n",
       "      <td>0</td>\n",
       "      <td>0</td>\n",
       "      <td>0</td>\n",
       "      <td>0</td>\n",
       "      <td>0</td>\n",
       "      <td>0</td>\n",
       "      <td>0</td>\n",
       "    </tr>\n",
       "    <tr>\n",
       "      <th>W1</th>\n",
       "      <td>0</td>\n",
       "      <td>0</td>\n",
       "      <td>0</td>\n",
       "      <td>0</td>\n",
       "      <td>0</td>\n",
       "      <td>0</td>\n",
       "      <td>0</td>\n",
       "      <td>0</td>\n",
       "      <td>0</td>\n",
       "      <td>0</td>\n",
       "      <td>...</td>\n",
       "      <td>0</td>\n",
       "      <td>0</td>\n",
       "      <td>0</td>\n",
       "      <td>0</td>\n",
       "      <td>0</td>\n",
       "      <td>0</td>\n",
       "      <td>0</td>\n",
       "      <td>0</td>\n",
       "      <td>0</td>\n",
       "      <td>0</td>\n",
       "    </tr>\n",
       "    <tr>\n",
       "      <th>W2</th>\n",
       "      <td>0</td>\n",
       "      <td>0</td>\n",
       "      <td>0</td>\n",
       "      <td>0</td>\n",
       "      <td>0</td>\n",
       "      <td>0</td>\n",
       "      <td>0</td>\n",
       "      <td>0</td>\n",
       "      <td>0</td>\n",
       "      <td>0</td>\n",
       "      <td>...</td>\n",
       "      <td>0</td>\n",
       "      <td>0</td>\n",
       "      <td>0</td>\n",
       "      <td>0</td>\n",
       "      <td>0</td>\n",
       "      <td>0</td>\n",
       "      <td>0</td>\n",
       "      <td>0</td>\n",
       "      <td>0</td>\n",
       "      <td>0</td>\n",
       "    </tr>\n",
       "    <tr>\n",
       "      <th>W3</th>\n",
       "      <td>0</td>\n",
       "      <td>0</td>\n",
       "      <td>0</td>\n",
       "      <td>0</td>\n",
       "      <td>0</td>\n",
       "      <td>0</td>\n",
       "      <td>0</td>\n",
       "      <td>0</td>\n",
       "      <td>0</td>\n",
       "      <td>0</td>\n",
       "      <td>...</td>\n",
       "      <td>0</td>\n",
       "      <td>0</td>\n",
       "      <td>0</td>\n",
       "      <td>0</td>\n",
       "      <td>0</td>\n",
       "      <td>0</td>\n",
       "      <td>0</td>\n",
       "      <td>0</td>\n",
       "      <td>0</td>\n",
       "      <td>0</td>\n",
       "    </tr>\n",
       "    <tr>\n",
       "      <th>W4</th>\n",
       "      <td>0</td>\n",
       "      <td>0</td>\n",
       "      <td>0</td>\n",
       "      <td>0</td>\n",
       "      <td>0</td>\n",
       "      <td>0</td>\n",
       "      <td>0</td>\n",
       "      <td>0</td>\n",
       "      <td>0</td>\n",
       "      <td>0</td>\n",
       "      <td>...</td>\n",
       "      <td>0</td>\n",
       "      <td>0</td>\n",
       "      <td>0</td>\n",
       "      <td>0</td>\n",
       "      <td>0</td>\n",
       "      <td>0</td>\n",
       "      <td>0</td>\n",
       "      <td>0</td>\n",
       "      <td>0</td>\n",
       "      <td>0</td>\n",
       "    </tr>\n",
       "  </tbody>\n",
       "</table>\n",
       "<p>5 rows × 26176 columns</p>\n",
       "</div>"
      ],
      "text/plain": [
       "    Task0  Task1  Task2  Task3  Task4  Task5  Task6  Task7  Task8  Task9  \\\n",
       "W0      0      0      0      0      0      0      0      0      0      0   \n",
       "W1      0      0      0      0      0      0      0      0      0      0   \n",
       "W2      0      0      0      0      0      0      0      0      0      0   \n",
       "W3      0      0      0      0      0      0      0      0      0      0   \n",
       "W4      0      0      0      0      0      0      0      0      0      0   \n",
       "\n",
       "      ...      Task26166  Task26167  Task26168  Task26169  Task26170  \\\n",
       "W0    ...              0          0          0          0          0   \n",
       "W1    ...              0          0          0          0          0   \n",
       "W2    ...              0          0          0          0          0   \n",
       "W3    ...              0          0          0          0          0   \n",
       "W4    ...              0          0          0          0          0   \n",
       "\n",
       "    Task26171  Task26172  Task26173  Task26174  Task26175  \n",
       "W0          0          0          0          0          0  \n",
       "W1          0          0          0          0          0  \n",
       "W2          0          0          0          0          0  \n",
       "W3          0          0          0          0          0  \n",
       "W4          0          0          0          0          0  \n",
       "\n",
       "[5 rows x 26176 columns]"
      ]
     },
     "execution_count": 38,
     "metadata": {},
     "output_type": "execute_result"
    }
   ],
   "source": [
    "taskprepared.fillna(0).head()"
   ]
  },
  {
   "cell_type": "code",
   "execution_count": 68,
   "metadata": {
    "collapsed": false
   },
   "outputs": [
    {
     "data": {
      "text/html": [
       "<div>\n",
       "<table border=\"1\" class=\"dataframe\">\n",
       "  <thead>\n",
       "    <tr style=\"text-align: right;\">\n",
       "      <th></th>\n",
       "      <th>Bug_id</th>\n",
       "      <th>Date</th>\n",
       "      <th>Worker_id</th>\n",
       "      <th>Task_id</th>\n",
       "    </tr>\n",
       "  </thead>\n",
       "  <tbody>\n",
       "    <tr>\n",
       "      <th>30933</th>\n",
       "      <td>21222939</td>\n",
       "      <td>8-Jul-15</td>\n",
       "      <td>4529</td>\n",
       "      <td>1029</td>\n",
       "    </tr>\n",
       "    <tr>\n",
       "      <th>296337</th>\n",
       "      <td>19148397</td>\n",
       "      <td>24-Aug-15</td>\n",
       "      <td>4529</td>\n",
       "      <td>867</td>\n",
       "    </tr>\n",
       "    <tr>\n",
       "      <th>177389</th>\n",
       "      <td>21293554</td>\n",
       "      <td>1-Aug-15</td>\n",
       "      <td>4529</td>\n",
       "      <td>1031</td>\n",
       "    </tr>\n",
       "    <tr>\n",
       "      <th>30937</th>\n",
       "      <td>21222943</td>\n",
       "      <td>8-Jul-15</td>\n",
       "      <td>4529</td>\n",
       "      <td>1029</td>\n",
       "    </tr>\n",
       "    <tr>\n",
       "      <th>177390</th>\n",
       "      <td>21293555</td>\n",
       "      <td>1-Aug-15</td>\n",
       "      <td>4529</td>\n",
       "      <td>1031</td>\n",
       "    </tr>\n",
       "  </tbody>\n",
       "</table>\n",
       "</div>"
      ],
      "text/plain": [
       "          Bug_id       Date  Worker_id  Task_id\n",
       "30933   21222939   8-Jul-15       4529     1029\n",
       "296337  19148397  24-Aug-15       4529      867\n",
       "177389  21293554   1-Aug-15       4529     1031\n",
       "30937   21222943   8-Jul-15       4529     1029\n",
       "177390  21293555   1-Aug-15       4529     1031"
      ]
     },
     "execution_count": 68,
     "metadata": {},
     "output_type": "execute_result"
    }
   ],
   "source": [
    "taskclean.head()"
   ]
  },
  {
   "cell_type": "code",
   "execution_count": 69,
   "metadata": {
    "collapsed": false
   },
   "outputs": [],
   "source": [
    "Worker_id = []\n",
    "Task_id = []\n",
    "worker_ori = taskclean.Worker_id.tolist()\n",
    "\n",
    "for i in range(len(worker_ori)):\n",
    "    x = 'W'+str(worker_ori[i])\n",
    "    Worker_id.append(x)\n",
    "taskclean['Worker_id'] = Worker_id"
   ]
  },
  {
   "cell_type": "code",
   "execution_count": 70,
   "metadata": {
    "collapsed": false
   },
   "outputs": [],
   "source": [
    "task_ori = taskclean.Task_id.tolist()\n",
    "for i in range(len(task_ori)):\n",
    "    x = 'T'+str(task_ori[i])\n",
    "    Task_id.append(x)\n",
    "taskclean['Task_id'] = Task_id"
   ]
  },
  {
   "cell_type": "code",
   "execution_count": 71,
   "metadata": {
    "collapsed": false
   },
   "outputs": [
    {
     "data": {
      "text/html": [
       "<div>\n",
       "<table border=\"1\" class=\"dataframe\">\n",
       "  <thead>\n",
       "    <tr style=\"text-align: right;\">\n",
       "      <th></th>\n",
       "      <th>Bug_id</th>\n",
       "      <th>Date</th>\n",
       "      <th>Worker_id</th>\n",
       "      <th>Task_id</th>\n",
       "    </tr>\n",
       "  </thead>\n",
       "  <tbody>\n",
       "    <tr>\n",
       "      <th>30933</th>\n",
       "      <td>21222939</td>\n",
       "      <td>8-Jul-15</td>\n",
       "      <td>W4529.0</td>\n",
       "      <td>T1029</td>\n",
       "    </tr>\n",
       "    <tr>\n",
       "      <th>296337</th>\n",
       "      <td>19148397</td>\n",
       "      <td>24-Aug-15</td>\n",
       "      <td>W4529.0</td>\n",
       "      <td>T867</td>\n",
       "    </tr>\n",
       "    <tr>\n",
       "      <th>177389</th>\n",
       "      <td>21293554</td>\n",
       "      <td>1-Aug-15</td>\n",
       "      <td>W4529.0</td>\n",
       "      <td>T1031</td>\n",
       "    </tr>\n",
       "    <tr>\n",
       "      <th>30937</th>\n",
       "      <td>21222943</td>\n",
       "      <td>8-Jul-15</td>\n",
       "      <td>W4529.0</td>\n",
       "      <td>T1029</td>\n",
       "    </tr>\n",
       "    <tr>\n",
       "      <th>177390</th>\n",
       "      <td>21293555</td>\n",
       "      <td>1-Aug-15</td>\n",
       "      <td>W4529.0</td>\n",
       "      <td>T1031</td>\n",
       "    </tr>\n",
       "  </tbody>\n",
       "</table>\n",
       "</div>"
      ],
      "text/plain": [
       "          Bug_id       Date Worker_id Task_id\n",
       "30933   21222939   8-Jul-15   W4529.0   T1029\n",
       "296337  19148397  24-Aug-15   W4529.0    T867\n",
       "177389  21293554   1-Aug-15   W4529.0   T1031\n",
       "30937   21222943   8-Jul-15   W4529.0   T1029\n",
       "177390  21293555   1-Aug-15   W4529.0   T1031"
      ]
     },
     "execution_count": 71,
     "metadata": {},
     "output_type": "execute_result"
    }
   ],
   "source": [
    "taskclean.head()"
   ]
  },
  {
   "cell_type": "code",
   "execution_count": 78,
   "metadata": {
    "collapsed": false
   },
   "outputs": [
    {
     "data": {
      "text/plain": [
       "array(['W4529.0', 'W8181.0', 'W9405.0', ..., 'W99926341.0', 'W99926548.0',\n",
       "       'W99926721.0'], dtype=object)"
      ]
     },
     "execution_count": 78,
     "metadata": {},
     "output_type": "execute_result"
    }
   ],
   "source": [
    "taskclean.Worker_id.unique()"
   ]
  },
  {
   "cell_type": "code",
   "execution_count": 89,
   "metadata": {
    "collapsed": false
   },
   "outputs": [
    {
     "data": {
      "text/html": [
       "<div>\n",
       "<table border=\"1\" class=\"dataframe\">\n",
       "  <thead>\n",
       "    <tr style=\"text-align: right;\">\n",
       "      <th></th>\n",
       "      <th>id</th>\n",
       "      <th>type</th>\n",
       "    </tr>\n",
       "  </thead>\n",
       "  <tbody>\n",
       "    <tr>\n",
       "      <th>0</th>\n",
       "      <td>W4529.0</td>\n",
       "      <td>Worker</td>\n",
       "    </tr>\n",
       "    <tr>\n",
       "      <th>1</th>\n",
       "      <td>W8181.0</td>\n",
       "      <td>Worker</td>\n",
       "    </tr>\n",
       "    <tr>\n",
       "      <th>2</th>\n",
       "      <td>W9405.0</td>\n",
       "      <td>Worker</td>\n",
       "    </tr>\n",
       "    <tr>\n",
       "      <th>3</th>\n",
       "      <td>W18286.0</td>\n",
       "      <td>Worker</td>\n",
       "    </tr>\n",
       "    <tr>\n",
       "      <th>4</th>\n",
       "      <td>W18302.0</td>\n",
       "      <td>Worker</td>\n",
       "    </tr>\n",
       "  </tbody>\n",
       "</table>\n",
       "</div>"
      ],
      "text/plain": [
       "         id    type\n",
       "0   W4529.0  Worker\n",
       "1   W8181.0  Worker\n",
       "2   W9405.0  Worker\n",
       "3  W18286.0  Worker\n",
       "4  W18302.0  Worker"
      ]
     },
     "execution_count": 89,
     "metadata": {},
     "output_type": "execute_result"
    }
   ],
   "source": [
    "worker_list = ['Worker'] * len(taskclean.Worker_id.unique())\n",
    "worker = pd.DataFrame()\n",
    "worker['id'] = taskclean.Worker_id.unique()\n",
    "worker['type'] = worker_list\n",
    "worker.head()"
   ]
  },
  {
   "cell_type": "code",
   "execution_count": 90,
   "metadata": {
    "collapsed": false
   },
   "outputs": [
    {
     "data": {
      "text/html": [
       "<div>\n",
       "<table border=\"1\" class=\"dataframe\">\n",
       "  <thead>\n",
       "    <tr style=\"text-align: right;\">\n",
       "      <th></th>\n",
       "      <th>id</th>\n",
       "      <th>type</th>\n",
       "    </tr>\n",
       "  </thead>\n",
       "  <tbody>\n",
       "    <tr>\n",
       "      <th>0</th>\n",
       "      <td>T1029</td>\n",
       "      <td>Task</td>\n",
       "    </tr>\n",
       "    <tr>\n",
       "      <th>1</th>\n",
       "      <td>T867</td>\n",
       "      <td>Task</td>\n",
       "    </tr>\n",
       "    <tr>\n",
       "      <th>2</th>\n",
       "      <td>T1031</td>\n",
       "      <td>Task</td>\n",
       "    </tr>\n",
       "    <tr>\n",
       "      <th>3</th>\n",
       "      <td>T864</td>\n",
       "      <td>Task</td>\n",
       "    </tr>\n",
       "    <tr>\n",
       "      <th>4</th>\n",
       "      <td>T872</td>\n",
       "      <td>Task</td>\n",
       "    </tr>\n",
       "  </tbody>\n",
       "</table>\n",
       "</div>"
      ],
      "text/plain": [
       "      id  type\n",
       "0  T1029  Task\n",
       "1   T867  Task\n",
       "2  T1031  Task\n",
       "3   T864  Task\n",
       "4   T872  Task"
      ]
     },
     "execution_count": 90,
     "metadata": {},
     "output_type": "execute_result"
    }
   ],
   "source": [
    "task_list = ['Task'] * len(taskclean.Task_id.unique())\n",
    "TASK = pd.DataFrame()\n",
    "TASK['id'] = taskclean.Task_id.unique()\n",
    "TASK['type'] = task_list\n",
    "TASK.head()"
   ]
  },
  {
   "cell_type": "code",
   "execution_count": 91,
   "metadata": {
    "collapsed": false
   },
   "outputs": [],
   "source": [
    "node = pd.concat([worker,TASK],ignore_index = True)"
   ]
  },
  {
   "cell_type": "code",
   "execution_count": 93,
   "metadata": {
    "collapsed": false
   },
   "outputs": [],
   "source": [
    "node.to_csv('Task_matrix_node.csv')"
   ]
  }
 ],
 "metadata": {
  "kernelspec": {
   "display_name": "Python 2",
   "language": "python",
   "name": "python2"
  },
  "language_info": {
   "codemirror_mode": {
    "name": "ipython",
    "version": 2
   },
   "file_extension": ".py",
   "mimetype": "text/x-python",
   "name": "python",
   "nbconvert_exporter": "python",
   "pygments_lexer": "ipython2",
   "version": "2.7.10"
  }
 },
 "nbformat": 4,
 "nbformat_minor": 0
}
