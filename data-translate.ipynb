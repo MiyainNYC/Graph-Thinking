{
 "cells": [
  {
   "cell_type": "code",
   "execution_count": 1,
   "metadata": {
    "collapsed": true
   },
   "outputs": [],
   "source": [
    "import pandas as pd"
   ]
  },
  {
   "cell_type": "code",
   "execution_count": 2,
   "metadata": {
    "collapsed": true
   },
   "outputs": [],
   "source": [
    "data = pd.read_csv(\"repositories.csv\")"
   ]
  },
  {
   "cell_type": "code",
   "execution_count": 5,
   "metadata": {
    "collapsed": false
   },
   "outputs": [
    {
     "data": {
      "text/html": [
       "<div>\n",
       "<table border=\"1\" class=\"dataframe\">\n",
       "  <thead>\n",
       "    <tr style=\"text-align: right;\">\n",
       "      <th></th>\n",
       "      <th>Worker ID</th>\n",
       "      <th>Repo</th>\n",
       "      <th>Coding Effort</th>\n",
       "      <th>Month, Day, Year of Date</th>\n",
       "    </tr>\n",
       "  </thead>\n",
       "  <tbody>\n",
       "    <tr>\n",
       "      <th>0</th>\n",
       "      <td>8181</td>\n",
       "      <td>1199</td>\n",
       "      <td>0.00</td>\n",
       "      <td>7/1/2015</td>\n",
       "    </tr>\n",
       "    <tr>\n",
       "      <th>1</th>\n",
       "      <td>77176</td>\n",
       "      <td>121</td>\n",
       "      <td>5.00</td>\n",
       "      <td>7/1/2015</td>\n",
       "    </tr>\n",
       "    <tr>\n",
       "      <th>2</th>\n",
       "      <td>107550</td>\n",
       "      <td>122</td>\n",
       "      <td>4.73</td>\n",
       "      <td>7/1/2015</td>\n",
       "    </tr>\n",
       "    <tr>\n",
       "      <th>3</th>\n",
       "      <td>107550</td>\n",
       "      <td>123</td>\n",
       "      <td>0.26</td>\n",
       "      <td>7/1/2015</td>\n",
       "    </tr>\n",
       "    <tr>\n",
       "      <th>4</th>\n",
       "      <td>116880</td>\n",
       "      <td>126</td>\n",
       "      <td>5.00</td>\n",
       "      <td>7/1/2015</td>\n",
       "    </tr>\n",
       "  </tbody>\n",
       "</table>\n",
       "</div>"
      ],
      "text/plain": [
       "   Worker ID  Repo  Coding Effort Month, Day, Year of Date\n",
       "0       8181  1199           0.00                 7/1/2015\n",
       "1      77176   121           5.00                 7/1/2015\n",
       "2     107550   122           4.73                 7/1/2015\n",
       "3     107550   123           0.26                 7/1/2015\n",
       "4     116880   126           5.00                 7/1/2015"
      ]
     },
     "execution_count": 5,
     "metadata": {},
     "output_type": "execute_result"
    }
   ],
   "source": [
    "data.head()"
   ]
  },
  {
   "cell_type": "code",
   "execution_count": 6,
   "metadata": {
    "collapsed": false
   },
   "outputs": [],
   "source": [
    "worker_unique = data['Worker ID'].unique()"
   ]
  },
  {
   "cell_type": "code",
   "execution_count": 7,
   "metadata": {
    "collapsed": true
   },
   "outputs": [],
   "source": [
    "repo_unique = data['Repo'].unique()"
   ]
  },
  {
   "cell_type": "code",
   "execution_count": 8,
   "metadata": {
    "collapsed": false
   },
   "outputs": [
    {
     "data": {
      "text/plain": [
       "2621"
      ]
     },
     "execution_count": 8,
     "metadata": {},
     "output_type": "execute_result"
    }
   ],
   "source": [
    "len(worker_unique)"
   ]
  },
  {
   "cell_type": "code",
   "execution_count": 9,
   "metadata": {
    "collapsed": false
   },
   "outputs": [
    {
     "data": {
      "text/plain": [
       "1705"
      ]
     },
     "execution_count": 9,
     "metadata": {},
     "output_type": "execute_result"
    }
   ],
   "source": [
    "len(repo_unique)"
   ]
  },
  {
   "cell_type": "code",
   "execution_count": 11,
   "metadata": {
    "collapsed": false
   },
   "outputs": [
    {
     "data": {
      "text/plain": [
       "17576"
      ]
     },
     "execution_count": 11,
     "metadata": {},
     "output_type": "execute_result"
    }
   ],
   "source": [
    "26*26*26"
   ]
  },
  {
   "cell_type": "code",
   "execution_count": 18,
   "metadata": {
    "collapsed": false
   },
   "outputs": [],
   "source": [
    "worker_id = ['a','b','c','d','e','f','g','h','i','j','k','l','m','n','o','p','q','r','s','t','u','v','w','x','y','z']"
   ]
  },
  {
   "cell_type": "code",
   "execution_count": 27,
   "metadata": {
    "collapsed": false
   },
   "outputs": [],
   "source": [
    "worker_unique_refined = []\n",
    "i = 0\n",
    "refined_id = 'aaa'\n",
    "while i<2621:\n",
    "    if refined_id not in worker_unique_refined:\n",
    "        worker_unique_refined.append(refined_id)\n",
    "        i = i+1\n",
    "    else:\n",
    "        index_1 = randint(0,25)\n",
    "        letter_1 = worker_id[index_1]\n",
    "        index_2 = randint(0,25)\n",
    "        letter_2 = worker_id[index_2]\n",
    "        index_3 = randint(0,25)\n",
    "        letter_3 = worker_id[index_3]\n",
    "        refined_id = letter_1+letter_2+letter_3"
   ]
  },
  {
   "cell_type": "code",
   "execution_count": 28,
   "metadata": {
    "collapsed": false
   },
   "outputs": [
    {
     "data": {
      "text/plain": [
       "2621"
      ]
     },
     "execution_count": 28,
     "metadata": {},
     "output_type": "execute_result"
    }
   ],
   "source": [
    "len(worker_unique_refined)"
   ]
  },
  {
   "cell_type": "code",
   "execution_count": 16,
   "metadata": {
    "collapsed": false
   },
   "outputs": [
    {
     "data": {
      "text/plain": [
       "6"
      ]
     },
     "execution_count": 16,
     "metadata": {},
     "output_type": "execute_result"
    }
   ],
   "source": [
    "worker_id = ['a','b','c','d','e','f','g','h','i','j','k','l','m','n','o','p','q','r','s','t','u','v','w','x','y','z']"
   ]
  },
  {
   "cell_type": "code",
   "execution_count": 26,
   "metadata": {
    "collapsed": false
   },
   "outputs": [],
   "source": [
    "repo_id = [i.upper() for i in worker_id]"
   ]
  },
  {
   "cell_type": "code",
   "execution_count": 29,
   "metadata": {
    "collapsed": true
   },
   "outputs": [],
   "source": [
    "repo_unique_refined = []\n",
    "i = 0\n",
    "refined_id = 'AAA'\n",
    "while i<1705:\n",
    "    if refined_id not in repo_unique_refined:\n",
    "        repo_unique_refined.append(refined_id)\n",
    "        i = i+1\n",
    "    else:\n",
    "        index_1 = randint(0,25)\n",
    "        letter_1 = repo_id[index_1]\n",
    "        index_2 = randint(0,25)\n",
    "        letter_2 = repo_id[index_2]\n",
    "        index_3 = randint(0,25)\n",
    "        letter_3 = repo_id[index_3]\n",
    "        refined_id = letter_1+letter_2+letter_3"
   ]
  },
  {
   "cell_type": "code",
   "execution_count": 30,
   "metadata": {
    "collapsed": false
   },
   "outputs": [
    {
     "data": {
      "text/plain": [
       "1705"
      ]
     },
     "execution_count": 30,
     "metadata": {},
     "output_type": "execute_result"
    }
   ],
   "source": [
    "len(repo_unique_refined)"
   ]
  },
  {
   "cell_type": "code",
   "execution_count": 32,
   "metadata": {
    "collapsed": false
   },
   "outputs": [],
   "source": [
    "worker_dict = {i[0]:i[1] for i in zip(worker_unique, worker_unique_refined)}"
   ]
  },
  {
   "cell_type": "code",
   "execution_count": 34,
   "metadata": {
    "collapsed": false
   },
   "outputs": [],
   "source": [
    "repo_dict = {i[0]:i[1] for i in zip(repo_unique, repo_unique_refined)}"
   ]
  },
  {
   "cell_type": "code",
   "execution_count": 39,
   "metadata": {
    "collapsed": false
   },
   "outputs": [],
   "source": [
    "data['repo_refined'] = map(lambda x: repo_dict[x],data['Repo'])"
   ]
  },
  {
   "cell_type": "code",
   "execution_count": 40,
   "metadata": {
    "collapsed": true
   },
   "outputs": [],
   "source": [
    "data['Worker_refined'] = map(lambda x: worker_dict[x],data['Worker ID'])"
   ]
  },
  {
   "cell_type": "code",
   "execution_count": 41,
   "metadata": {
    "collapsed": false
   },
   "outputs": [
    {
     "data": {
      "text/html": [
       "<div>\n",
       "<table border=\"1\" class=\"dataframe\">\n",
       "  <thead>\n",
       "    <tr style=\"text-align: right;\">\n",
       "      <th></th>\n",
       "      <th>Worker ID</th>\n",
       "      <th>Repo</th>\n",
       "      <th>Coding Effort</th>\n",
       "      <th>Month, Day, Year of Date</th>\n",
       "      <th>repo_refined</th>\n",
       "      <th>Worker_refined</th>\n",
       "    </tr>\n",
       "  </thead>\n",
       "  <tbody>\n",
       "    <tr>\n",
       "      <th>0</th>\n",
       "      <td>8181</td>\n",
       "      <td>1199</td>\n",
       "      <td>0.00</td>\n",
       "      <td>7/1/2015</td>\n",
       "      <td>AAA</td>\n",
       "      <td>aaa</td>\n",
       "    </tr>\n",
       "    <tr>\n",
       "      <th>1</th>\n",
       "      <td>77176</td>\n",
       "      <td>121</td>\n",
       "      <td>5.00</td>\n",
       "      <td>7/1/2015</td>\n",
       "      <td>HEL</td>\n",
       "      <td>dxw</td>\n",
       "    </tr>\n",
       "    <tr>\n",
       "      <th>2</th>\n",
       "      <td>107550</td>\n",
       "      <td>122</td>\n",
       "      <td>4.73</td>\n",
       "      <td>7/1/2015</td>\n",
       "      <td>WHS</td>\n",
       "      <td>woe</td>\n",
       "    </tr>\n",
       "    <tr>\n",
       "      <th>3</th>\n",
       "      <td>107550</td>\n",
       "      <td>123</td>\n",
       "      <td>0.26</td>\n",
       "      <td>7/1/2015</td>\n",
       "      <td>EZR</td>\n",
       "      <td>woe</td>\n",
       "    </tr>\n",
       "    <tr>\n",
       "      <th>4</th>\n",
       "      <td>116880</td>\n",
       "      <td>126</td>\n",
       "      <td>5.00</td>\n",
       "      <td>7/1/2015</td>\n",
       "      <td>RJA</td>\n",
       "      <td>wlk</td>\n",
       "    </tr>\n",
       "  </tbody>\n",
       "</table>\n",
       "</div>"
      ],
      "text/plain": [
       "   Worker ID  Repo  Coding Effort Month, Day, Year of Date repo_refined  \\\n",
       "0       8181  1199           0.00                 7/1/2015          AAA   \n",
       "1      77176   121           5.00                 7/1/2015          HEL   \n",
       "2     107550   122           4.73                 7/1/2015          WHS   \n",
       "3     107550   123           0.26                 7/1/2015          EZR   \n",
       "4     116880   126           5.00                 7/1/2015          RJA   \n",
       "\n",
       "  Worker_refined  \n",
       "0            aaa  \n",
       "1            dxw  \n",
       "2            woe  \n",
       "3            woe  \n",
       "4            wlk  "
      ]
     },
     "execution_count": 41,
     "metadata": {},
     "output_type": "execute_result"
    }
   ],
   "source": [
    "data.head()"
   ]
  },
  {
   "cell_type": "code",
   "execution_count": 42,
   "metadata": {
    "collapsed": true
   },
   "outputs": [],
   "source": [
    "data = data.drop('Worker ID', 1)"
   ]
  },
  {
   "cell_type": "code",
   "execution_count": 43,
   "metadata": {
    "collapsed": true
   },
   "outputs": [],
   "source": [
    "data = data.drop('Repo',1)"
   ]
  },
  {
   "cell_type": "code",
   "execution_count": 44,
   "metadata": {
    "collapsed": false
   },
   "outputs": [
    {
     "data": {
      "text/html": [
       "<div>\n",
       "<table border=\"1\" class=\"dataframe\">\n",
       "  <thead>\n",
       "    <tr style=\"text-align: right;\">\n",
       "      <th></th>\n",
       "      <th>Coding Effort</th>\n",
       "      <th>Month, Day, Year of Date</th>\n",
       "      <th>repo_refined</th>\n",
       "      <th>Worker_refined</th>\n",
       "    </tr>\n",
       "  </thead>\n",
       "  <tbody>\n",
       "    <tr>\n",
       "      <th>0</th>\n",
       "      <td>0.00</td>\n",
       "      <td>7/1/2015</td>\n",
       "      <td>AAA</td>\n",
       "      <td>aaa</td>\n",
       "    </tr>\n",
       "    <tr>\n",
       "      <th>1</th>\n",
       "      <td>5.00</td>\n",
       "      <td>7/1/2015</td>\n",
       "      <td>HEL</td>\n",
       "      <td>dxw</td>\n",
       "    </tr>\n",
       "    <tr>\n",
       "      <th>2</th>\n",
       "      <td>4.73</td>\n",
       "      <td>7/1/2015</td>\n",
       "      <td>WHS</td>\n",
       "      <td>woe</td>\n",
       "    </tr>\n",
       "    <tr>\n",
       "      <th>3</th>\n",
       "      <td>0.26</td>\n",
       "      <td>7/1/2015</td>\n",
       "      <td>EZR</td>\n",
       "      <td>woe</td>\n",
       "    </tr>\n",
       "    <tr>\n",
       "      <th>4</th>\n",
       "      <td>5.00</td>\n",
       "      <td>7/1/2015</td>\n",
       "      <td>RJA</td>\n",
       "      <td>wlk</td>\n",
       "    </tr>\n",
       "  </tbody>\n",
       "</table>\n",
       "</div>"
      ],
      "text/plain": [
       "   Coding Effort Month, Day, Year of Date repo_refined Worker_refined\n",
       "0           0.00                 7/1/2015          AAA            aaa\n",
       "1           5.00                 7/1/2015          HEL            dxw\n",
       "2           4.73                 7/1/2015          WHS            woe\n",
       "3           0.26                 7/1/2015          EZR            woe\n",
       "4           5.00                 7/1/2015          RJA            wlk"
      ]
     },
     "execution_count": 44,
     "metadata": {},
     "output_type": "execute_result"
    }
   ],
   "source": [
    "data.head()"
   ]
  },
  {
   "cell_type": "code",
   "execution_count": 45,
   "metadata": {
    "collapsed": true
   },
   "outputs": [],
   "source": [
    "data.to_csv(\"repositories_refined.csv\")"
   ]
  },
  {
   "cell_type": "code",
   "execution_count": null,
   "metadata": {
    "collapsed": true
   },
   "outputs": [],
   "source": []
  }
 ],
 "metadata": {
  "anaconda-cloud": {},
  "kernelspec": {
   "display_name": "Python [default]",
   "language": "python",
   "name": "python2"
  },
  "language_info": {
   "codemirror_mode": {
    "name": "ipython",
    "version": 2
   },
   "file_extension": ".py",
   "mimetype": "text/x-python",
   "name": "python",
   "nbconvert_exporter": "python",
   "pygments_lexer": "ipython2",
   "version": "2.7.12"
  }
 },
 "nbformat": 4,
 "nbformat_minor": 1
}
