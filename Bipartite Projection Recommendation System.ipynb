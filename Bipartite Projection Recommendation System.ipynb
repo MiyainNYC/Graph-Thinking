{
 "cells": [
  {
   "cell_type": "code",
   "execution_count": 1,
   "metadata": {},
   "outputs": [
    {
     "name": "stdout",
     "output_type": "stream",
     "text": [
      "C:\\Users\\Miya\\Desktop\\cna\\dataset\n"
     ]
    }
   ],
   "source": [
    "cd dataset"
   ]
  },
  {
   "cell_type": "code",
   "execution_count": 590,
   "metadata": {
    "collapsed": true
   },
   "outputs": [],
   "source": [
    "import pandas as pd\n",
    "import numpy as np\n",
    "import matplotlib.pyplot as plt\n",
    "%matplotlib inline\n",
    "import warnings\n",
    "warnings.filterwarnings('ignore')\n",
    "data = pd.read_csv('repositories_refined.csv',parse_dates=['Month, Day, Year of Date'])\n",
    "#data = data[data['Coding Effort']!=0]\n",
    "data.columns= ['Worker ID','Repository ID','Coding Effort','Month, Day, Year of Date']"
   ]
  },
  {
   "cell_type": "code",
   "execution_count": 591,
   "metadata": {},
   "outputs": [
    {
     "data": {
      "text/html": [
       "<div>\n",
       "<style>\n",
       "    .dataframe thead tr:only-child th {\n",
       "        text-align: right;\n",
       "    }\n",
       "\n",
       "    .dataframe thead th {\n",
       "        text-align: left;\n",
       "    }\n",
       "\n",
       "    .dataframe tbody tr th {\n",
       "        vertical-align: top;\n",
       "    }\n",
       "</style>\n",
       "<table border=\"1\" class=\"dataframe\">\n",
       "  <thead>\n",
       "    <tr style=\"text-align: right;\">\n",
       "      <th></th>\n",
       "      <th>Worker ID</th>\n",
       "      <th>Repository ID</th>\n",
       "      <th>Coding Effort</th>\n",
       "      <th>Month, Day, Year of Date</th>\n",
       "    </tr>\n",
       "  </thead>\n",
       "  <tbody>\n",
       "    <tr>\n",
       "      <th>0</th>\n",
       "      <td>aaa</td>\n",
       "      <td>AAA</td>\n",
       "      <td>0.00</td>\n",
       "      <td>2015-07-01</td>\n",
       "    </tr>\n",
       "    <tr>\n",
       "      <th>1</th>\n",
       "      <td>dxw</td>\n",
       "      <td>HEL</td>\n",
       "      <td>5.00</td>\n",
       "      <td>2015-07-01</td>\n",
       "    </tr>\n",
       "    <tr>\n",
       "      <th>2</th>\n",
       "      <td>woe</td>\n",
       "      <td>WHS</td>\n",
       "      <td>4.73</td>\n",
       "      <td>2015-07-01</td>\n",
       "    </tr>\n",
       "    <tr>\n",
       "      <th>3</th>\n",
       "      <td>woe</td>\n",
       "      <td>EZR</td>\n",
       "      <td>0.26</td>\n",
       "      <td>2015-07-01</td>\n",
       "    </tr>\n",
       "    <tr>\n",
       "      <th>4</th>\n",
       "      <td>wlk</td>\n",
       "      <td>RJA</td>\n",
       "      <td>5.00</td>\n",
       "      <td>2015-07-01</td>\n",
       "    </tr>\n",
       "  </tbody>\n",
       "</table>\n",
       "</div>"
      ],
      "text/plain": [
       "  Worker ID Repository ID  Coding Effort Month, Day, Year of Date\n",
       "0       aaa           AAA           0.00               2015-07-01\n",
       "1       dxw           HEL           5.00               2015-07-01\n",
       "2       woe           WHS           4.73               2015-07-01\n",
       "3       woe           EZR           0.26               2015-07-01\n",
       "4       wlk           RJA           5.00               2015-07-01"
      ]
     },
     "execution_count": 591,
     "metadata": {},
     "output_type": "execute_result"
    }
   ],
   "source": [
    "data.head()"
   ]
  },
  {
   "cell_type": "code",
   "execution_count": 626,
   "metadata": {
    "collapsed": true
   },
   "outputs": [],
   "source": [
    "X_test = data[data['Month, Day, Year of Date']>='2015-08-31']\n",
    "X_train = data[data['Month, Day, Year of Date']<'2015-08-31']"
   ]
  },
  {
   "cell_type": "code",
   "execution_count": 627,
   "metadata": {},
   "outputs": [
    {
     "name": "stdout",
     "output_type": "stream",
     "text": [
      "(113034, 4)\n",
      "(59320, 4)\n"
     ]
    }
   ],
   "source": [
    "print(X_train.shape)\n",
    "print(X_test.shape)"
   ]
  },
  {
   "cell_type": "code",
   "execution_count": 628,
   "metadata": {
    "collapsed": true
   },
   "outputs": [],
   "source": [
    "deve_nodes_train = list(set(X_train.values[:,0]))\n",
    "deve_nodes_test = list(set(X_test.values[:,0]))"
   ]
  },
  {
   "cell_type": "code",
   "execution_count": 629,
   "metadata": {
    "collapsed": true
   },
   "outputs": [],
   "source": [
    "X_test = X_test[X_test['Worker ID'].isin([test for test in deve_nodes_test if test in deve_nodes_train])]"
   ]
  },
  {
   "cell_type": "code",
   "execution_count": 630,
   "metadata": {
    "collapsed": true
   },
   "outputs": [],
   "source": [
    "X_test = X_test.groupby(['Worker ID','Repository ID']).sum().reset_index()"
   ]
  },
  {
   "cell_type": "code",
   "execution_count": 631,
   "metadata": {
    "collapsed": true
   },
   "outputs": [],
   "source": [
    "t1 = pd.DataFrame(X_train['Worker ID']+X_train['Repository ID'],columns = ['temp'])\n",
    "t2 = pd.DataFrame(X_test['Worker ID']+X_test['Repository ID'],columns = ['temp'])"
   ]
  },
  {
   "cell_type": "code",
   "execution_count": 632,
   "metadata": {
    "collapsed": true
   },
   "outputs": [],
   "source": [
    "X_test = X_test[~t2['temp'].isin(t1['temp'])]"
   ]
  },
  {
   "cell_type": "code",
   "execution_count": 633,
   "metadata": {
    "collapsed": true
   },
   "outputs": [],
   "source": [
    "X_train = X_train.groupby(['Worker ID','Repository ID']).sum().reset_index().values"
   ]
  },
  {
   "cell_type": "code",
   "execution_count": 634,
   "metadata": {
    "collapsed": true
   },
   "outputs": [],
   "source": [
    "popular_rs = data[data['Month, Day, Year of Date']<'2015-09-21'].groupby(['Worker ID',\n",
    "                                                             'Repository ID']).count()['Coding Effort'].reset_index().groupby('Worker ID').head(6)"
   ]
  },
  {
   "cell_type": "code",
   "execution_count": 635,
   "metadata": {
    "collapsed": true
   },
   "outputs": [],
   "source": [
    "popular_rs = popular_rs.sort_values(['Worker ID','Coding Effort'],ascending =False)"
   ]
  },
  {
   "cell_type": "code",
   "execution_count": 636,
   "metadata": {
    "collapsed": true
   },
   "outputs": [],
   "source": [
    "popular_rs[popular_rs['Worker ID'].isin(to_predict_deve)]\n",
    "popular_rs_list = []\n",
    "\n",
    "for dev in to_predict_deve:\n",
    "    popular_rs_list.append(list(popular_rs[popular_rs['Worker ID']==dev]['Repository ID'].values))"
   ]
  },
  {
   "cell_type": "code",
   "execution_count": 637,
   "metadata": {},
   "outputs": [
    {
     "data": {
      "text/plain": [
       "0.15922977226439547"
      ]
     },
     "execution_count": 637,
     "metadata": {},
     "output_type": "execute_result"
    }
   ],
   "source": [
    "X_test.shape[0]/X_train.shape[0]"
   ]
  },
  {
   "cell_type": "code",
   "execution_count": 602,
   "metadata": {},
   "outputs": [
    {
     "data": {
      "text/plain": [
       "array([['aaa', 'AAA', 0.0],\n",
       "       ['aah', 'KNU', 0.0],\n",
       "       ['aaj', 'NLY', 70.05],\n",
       "       ..., \n",
       "       ['zzr', 'LWW', 35.959999999999994],\n",
       "       ['zzs', 'XWQ', 215.31],\n",
       "       ['zzu', 'QCN', 51.730000000000004]], dtype=object)"
      ]
     },
     "execution_count": 602,
     "metadata": {},
     "output_type": "execute_result"
    }
   ],
   "source": [
    "X_train"
   ]
  },
  {
   "cell_type": "code",
   "execution_count": 638,
   "metadata": {},
   "outputs": [
    {
     "name": "stdout",
     "output_type": "stream",
     "text": [
      "431\n"
     ]
    }
   ],
   "source": [
    "actual_list = []\n",
    "to_predict_deve = set(X_test['Worker ID'])\n",
    "print(len(to_predict_deve))\n",
    "for dev in to_predict_deve:\n",
    "    repo = X_test[X_test['Worker ID']==dev]['Repository ID'].values\n",
    "    actual_list.append(list(repo))"
   ]
  },
  {
   "cell_type": "code",
   "execution_count": 639,
   "metadata": {},
   "outputs": [
    {
     "name": "stdout",
     "output_type": "stream",
     "text": [
      "431\n"
     ]
    }
   ],
   "source": [
    "print(len(to_predict_deve))"
   ]
  },
  {
   "cell_type": "code",
   "execution_count": 640,
   "metadata": {
    "collapsed": true
   },
   "outputs": [],
   "source": [
    "import networkx as nx\n",
    "%matplotlib inline\n",
    "from networkx.algorithms import bipartite\n",
    "G_train = nx.Graph()\n",
    "for i,v,j in zip(X_train[:,0],X_train[:,1],X_train[:,2]):\n",
    "    G_train.add_edge(i,v,weight = j)"
   ]
  },
  {
   "cell_type": "code",
   "execution_count": 641,
   "metadata": {
    "collapsed": true
   },
   "outputs": [],
   "source": [
    "nx.write_gml(G_train,'g_2.gml')"
   ]
  },
  {
   "cell_type": "code",
   "execution_count": 643,
   "metadata": {},
   "outputs": [],
   "source": [
    "deve_nodes = list(set(X_train[:,0]))\n",
    "\n",
    "def normalize(x):\n",
    "    if x==0:\n",
    "        x = 1\n",
    "    else:\n",
    "        x\n",
    "    return x\n",
    "\n",
    "def my_weight(G_train, u, v, weight='weight'):\n",
    "    w = 0\n",
    "    for nbr in set(G_train[u]) & set(G_train[v]):\n",
    "        u_sum = normalize(sum(list(map(lambda x:x['weight'],G_train[u].values()))))\n",
    "        v_sum = normalize(sum(list(map(lambda x:x['weight'],G_train[v].values()))))\n",
    "        nbr_sum = normalize(sum(list(map(lambda x:x['weight'],G_train[nbr].values()))))\n",
    "        \n",
    "        w += (G_train.edge[u][nbr].get(weight,1)/u_sum) * (G_train.edge[v][nbr].get(weight,1)/nbr_sum)\n",
    "        return w \n",
    "    \n",
    "    \n",
    "def jaccard(G, u, v):\n",
    "    unbrs = set(G[u])\n",
    "    vnbrs = set(G[v])\n",
    "    return float(len(unbrs & vnbrs)) / len(unbrs)\n",
    "    "
   ]
  },
  {
   "cell_type": "code",
   "execution_count": 664,
   "metadata": {},
   "outputs": [
    {
     "data": {
      "text/html": [
       "<div>\n",
       "<style>\n",
       "    .dataframe thead tr:only-child th {\n",
       "        text-align: right;\n",
       "    }\n",
       "\n",
       "    .dataframe thead th {\n",
       "        text-align: left;\n",
       "    }\n",
       "\n",
       "    .dataframe tbody tr th {\n",
       "        vertical-align: top;\n",
       "    }\n",
       "</style>\n",
       "<table border=\"1\" class=\"dataframe\">\n",
       "  <thead>\n",
       "    <tr style=\"text-align: right;\">\n",
       "      <th></th>\n",
       "      <th>ml_member</th>\n",
       "      <th>info_member</th>\n",
       "      <th>wt_member</th>\n",
       "      <th>fg_member</th>\n",
       "      <th>lp_member</th>\n",
       "      <th>kmeans</th>\n",
       "    </tr>\n",
       "    <tr>\n",
       "      <th>nodes</th>\n",
       "      <th></th>\n",
       "      <th></th>\n",
       "      <th></th>\n",
       "      <th></th>\n",
       "      <th></th>\n",
       "      <th></th>\n",
       "    </tr>\n",
       "  </thead>\n",
       "  <tbody>\n",
       "    <tr>\n",
       "      <th>aaa</th>\n",
       "      <td>1</td>\n",
       "      <td>469</td>\n",
       "      <td>258</td>\n",
       "      <td>305</td>\n",
       "      <td>1</td>\n",
       "      <td>25</td>\n",
       "    </tr>\n",
       "    <tr>\n",
       "      <th>aah</th>\n",
       "      <td>2</td>\n",
       "      <td>463</td>\n",
       "      <td>164</td>\n",
       "      <td>306</td>\n",
       "      <td>2</td>\n",
       "      <td>0</td>\n",
       "    </tr>\n",
       "    <tr>\n",
       "      <th>aaj</th>\n",
       "      <td>387</td>\n",
       "      <td>161</td>\n",
       "      <td>253</td>\n",
       "      <td>63</td>\n",
       "      <td>3</td>\n",
       "      <td>0</td>\n",
       "    </tr>\n",
       "    <tr>\n",
       "      <th>aaq</th>\n",
       "      <td>348</td>\n",
       "      <td>1</td>\n",
       "      <td>259</td>\n",
       "      <td>47</td>\n",
       "      <td>4</td>\n",
       "      <td>27</td>\n",
       "    </tr>\n",
       "    <tr>\n",
       "      <th>aau</th>\n",
       "      <td>234</td>\n",
       "      <td>351</td>\n",
       "      <td>258</td>\n",
       "      <td>43</td>\n",
       "      <td>5</td>\n",
       "      <td>3</td>\n",
       "    </tr>\n",
       "  </tbody>\n",
       "</table>\n",
       "</div>"
      ],
      "text/plain": [
       "       ml_member  info_member  wt_member  fg_member  lp_member  kmeans\n",
       "nodes                                                                 \n",
       "aaa            1          469        258        305          1      25\n",
       "aah            2          463        164        306          2       0\n",
       "aaj          387          161        253         63          3       0\n",
       "aaq          348            1        259         47          4      27\n",
       "aau          234          351        258         43          5       3"
      ]
     },
     "execution_count": 664,
     "metadata": {},
     "output_type": "execute_result"
    }
   ],
   "source": [
    "pd.read_csv('assign.csv').set_index('nodes').head()"
   ]
  },
  {
   "cell_type": "code",
   "execution_count": 665,
   "metadata": {
    "collapsed": true
   },
   "outputs": [],
   "source": [
    "import itertools\n",
    "def neighbors_cluster(node):\n",
    "    \n",
    "    refer = pd.read_csv('assign.csv').set_index('nodes')    \n",
    "    ml = refer.ix[node,0]\n",
    "    info = refer.ix[node,1]\n",
    "    wt = refer.ix[node,2]\n",
    "    fg = refer.ix[node,3]\n",
    "    lp = refer.ix[node,4]\n",
    "    kmeans = refer.ix[node,5]\n",
    "    \n",
    "    ml_nn = refer[refer['ml_member']==ml].index\n",
    "    wt_nn = refer[refer['wt_member']==wt].index\n",
    "    info_nn = refer[refer['info_member']==info].index\n",
    "    fg_nn = refer[refer['fg_member']==fg].index\n",
    "    lp_nn = refer[refer['lp_member']==lp].index\n",
    "    kmeans_nn = refer[refer['kmeans']==kmeans].index\n",
    "    \n",
    "    cluster_nn = list(itertools.chain(wt_nn,kmeans_nn,lp_nn,fg_nn)) #ml_nn,info_nn\n",
    "    \n",
    "    return cluster_nn"
   ]
  },
  {
   "cell_type": "code",
   "execution_count": 666,
   "metadata": {
    "collapsed": true
   },
   "outputs": [],
   "source": [
    "def neighbors_cluster_weighted(node):\n",
    "    \n",
    "    refer = pd.read_csv('assign.csv').set_index('nodes')\n",
    "    \n",
    "    ml = refer.ix[node,0]\n",
    "    info = refer.ix[node,1]\n",
    "    wt = refer.ix[node,2]\n",
    "    fg = refer.ix[node,3]\n",
    "    lp = refer.ix[node,4]\n",
    "    kmeans = refer.ix[node,5]\n",
    "    \n",
    "    ml_nn = refer[refer['ml_member']==ml].index\n",
    "    wt_nn = refer[refer['wt_member']==wt].index\n",
    "    info_nn = refer[refer['info_member']==info].index\n",
    "    fg_nn = refer[refer['fg_member']==fg].index\n",
    "    lp_nn = refer[refer['lp_member']==lp].index\n",
    "    kmeans_nn = refer[refer['kmeans']==kmeans].index\n",
    "    \n",
    "\n",
    "    \n",
    "    return wt_nn,kmeans_nn,ml_nn,info_nn,fg_nn,lp_nn"
   ]
  },
  {
   "cell_type": "code",
   "execution_count": 667,
   "metadata": {
    "collapsed": true
   },
   "outputs": [],
   "source": [
    "K = 100\n",
    "def limit_k(rs_list, k = K):\n",
    "    if len(rs_list)<k:\n",
    "        return rs_list\n",
    "    else:\n",
    "        return rs_list[:k]  "
   ]
  },
  {
   "cell_type": "code",
   "execution_count": 668,
   "metadata": {
    "collapsed": true
   },
   "outputs": [],
   "source": [
    "def ensemble_similarity(node,wf):\n",
    "    nns = bipartite.generic_weighted_projected_graph(G_train, [node], weight_function= wf).edges(data=True)\n",
    "    cluster_nn = neighbors_cluster(node)\n",
    "    \n",
    "    dict_rs = dict()\n",
    "    \n",
    "    for nn_sug in nns:\n",
    "        nn = nn_sug[1]\n",
    "        we = nn_sug[2]['weight']\n",
    "        \n",
    "        for repo_sug in G_train[nn].items():\n",
    "            repo = repo_sug[0]\n",
    "            ce = repo_sug[1]['weight']\n",
    "            dict_rs[repo] = dict_rs.get(repo,0.0) + ce*np.exp(we)\n",
    "\n",
    "        \n",
    "    for nn in cluster_nn:\n",
    "        for repo_sug in G_train[nn].items():\n",
    "            repo = repo_sug[0]\n",
    "            ce = repo_sug[1]['weight']\n",
    "            dict_rs[repo] = dict_rs.get(repo,0.0) + ce*1\n",
    "        \n",
    "        \n",
    "    rs_list = sorted(dict_rs.items(),key = lambda x:x[1],reverse = True)\n",
    "    \n",
    "    rs_list = limit_k(rs_list)\n",
    "    \n",
    "    rs_list = list(map(lambda x: x[0],rs_list))\n",
    "    \n",
    "    return rs_list"
   ]
  },
  {
   "cell_type": "code",
   "execution_count": 669,
   "metadata": {
    "collapsed": true
   },
   "outputs": [],
   "source": [
    "def community_weight():\n",
    "    df = pd.read_csv('assign.csv').set_index('nodes')\n",
    "    wt_w = len(df['wt_member'].unique())/100\n",
    "    ml_w = len(df['ml_member'].unique())/100\n",
    "    info_w = len(df['info_member'].unique())/100\n",
    "    fg_w = len(df['fg_member'].unique())/100\n",
    "    lp_w = len(df['lp_member'].unique())/100\n",
    "    \n",
    "    return wt_w,ml_w,info_w,fg_w,lp_w"
   ]
  },
  {
   "cell_type": "code",
   "execution_count": 670,
   "metadata": {
    "collapsed": true
   },
   "outputs": [],
   "source": [
    "def ensemble_similarity_weighted(node,wf):\n",
    "    \n",
    "    nns = bipartite.generic_weighted_projected_graph(G_train, [node], weight_function= wf).edges(data=True)\n",
    "    \n",
    "    wt_nn,kmeans_nn,ml_nn,info_nn,fg_nn,lp_nn = neighbors_cluster_weighted(node)\n",
    "    \n",
    "    wt_w,ml_w,info_w,fg_w,lp_w = community_weight()\n",
    "     \n",
    "    dict_rs = dict()\n",
    "    \n",
    "    for nn_sug in nns:\n",
    "        nn = nn_sug[1]\n",
    "        we = nn_sug[2]['weight']\n",
    "        \n",
    "        for repo_sug in G_train[nn].items():\n",
    "            repo = repo_sug[0]\n",
    "            ce = repo_sug[1]['weight']\n",
    "            dict_rs[repo] = dict_rs.get(repo,0.0) + ce*np.exp(we)\n",
    "\n",
    "        \n",
    "    for nn in wt_nn:\n",
    "        for repo_sug in G_train[nn].items():\n",
    "            repo = repo_sug[0]\n",
    "            ce = repo_sug[1]['weight']\n",
    "            dict_rs[repo] = dict_rs.get(repo,0.0) + ce*wt_w\n",
    "\n",
    "    for nn in ml_nn:\n",
    "        for repo_sug in G_train[nn].items():\n",
    "            repo = repo_sug[0]\n",
    "            ce = repo_sug[1]['weight']\n",
    "            dict_rs[repo] = dict_rs.get(repo,0.0) + ce*ml_w\n",
    "\n",
    "    for nn in info_nn:\n",
    "        for repo_sug in G_train[nn].items():\n",
    "            repo = repo_sug[0]\n",
    "            ce = repo_sug[1]['weight']\n",
    "            dict_rs[repo] = dict_rs.get(repo,0.0) + ce*info_w\n",
    "            \n",
    "    for nn in kmeans_nn:\n",
    "        for repo_sug in G_train[nn].items():\n",
    "            repo = repo_sug[0]\n",
    "            ce = repo_sug[1]['weight']\n",
    "            dict_rs[repo] = dict_rs.get(repo,0.0) + ce*30/100\n",
    "            \n",
    "    for nn in fg_nn:\n",
    "        for repo_sug in G_train[nn].items():\n",
    "            repo = repo_sug[0]\n",
    "            ce = repo_sug[1]['weight']\n",
    "            dict_rs[repo] = dict_rs.get(repo,0.0) + ce*fg_w\n",
    "            \n",
    "    for nn in lp_nn:\n",
    "        for repo_sug in G_train[nn].items():\n",
    "            repo = repo_sug[0]\n",
    "            ce = repo_sug[1]['weight']\n",
    "            dict_rs[repo] = dict_rs.get(repo,0.0) + ce*lp_w\n",
    "        \n",
    "        \n",
    "    rs_list = sorted(dict_rs.items(),key = lambda x:x[1],reverse = True)\n",
    "    \n",
    "    rs_list = limit_k(rs_list)\n",
    "    \n",
    "    rs_list = list(map(lambda x: x[0],rs_list))\n",
    "    \n",
    "    return rs_list"
   ]
  },
  {
   "cell_type": "code",
   "execution_count": 671,
   "metadata": {
    "collapsed": true
   },
   "outputs": [],
   "source": [
    "def projection_similarity(node,wf):\n",
    "    nns = bipartite.generic_weighted_projected_graph(G_train, [node], weight_function= wf).edges(data=True)\n",
    "    cluster_nn = neighbors_cluster(node)\n",
    "    \n",
    "    dict_rs = dict()\n",
    "    \n",
    "    for nn_sug in nns:\n",
    "        nn = nn_sug[1]\n",
    "        we = nn_sug[2]['weight']\n",
    "        \n",
    "        for repo_sug in G_train[nn].items():\n",
    "            repo = repo_sug[0]\n",
    "            ce = repo_sug[1]['weight']\n",
    "            dict_rs[repo] = dict_rs.get(repo,0.0) + ce*np.exp(we)\n",
    "        \n",
    "        \n",
    "    rs_list = sorted(dict_rs.items(),key = lambda x:x[1],reverse = True)\n",
    "    \n",
    "    rs_list = limit_k(rs_list)\n",
    "    \n",
    "    rs_list = list(map(lambda x: x[0],rs_list))\n",
    "    \n",
    "    return rs_list"
   ]
  },
  {
   "cell_type": "code",
   "execution_count": 672,
   "metadata": {
    "collapsed": true
   },
   "outputs": [],
   "source": [
    "def cluster_similarity(node):\n",
    "    \n",
    "    dict_rs = dict()\n",
    "    cluster_nn = neighbors_cluster(node)\n",
    "\n",
    "    for nn in cluster_nn:\n",
    "        for repo_sug in G_train[nn].items():\n",
    "            repo = repo_sug[0]\n",
    "            ce = repo_sug[1]['weight']\n",
    "            dict_rs[repo] = dict_rs.get(repo,0.0) + ce\n",
    "        \n",
    "        \n",
    "    rs_list = sorted(dict_rs.items(),key = lambda x:x[1],reverse = True)\n",
    "    \n",
    "    rs_list = limit_k(rs_list)\n",
    "    \n",
    "    rs_list = list(map(lambda x: x[0],rs_list))\n",
    "    \n",
    "    return rs_list"
   ]
  },
  {
   "cell_type": "code",
   "execution_count": 673,
   "metadata": {
    "collapsed": true
   },
   "outputs": [],
   "source": [
    "def cluster_similarity_weighted(node):\n",
    "    \n",
    "    dict_rs = dict()\n",
    "    \n",
    "    wt_nn,kmeans_nn,ml_nn,info_nn,fg_nn,lp_nn = neighbors_cluster_weighted(node)\n",
    "    \n",
    "    wt_w,ml_w,info_w,fg_w,lp_w = community_weight()\n",
    "\n",
    "    for nn in wt_nn:\n",
    "        for repo_sug in G_train[nn].items():\n",
    "            repo = repo_sug[0]\n",
    "            ce = repo_sug[1]['weight']\n",
    "            dict_rs[repo] = dict_rs.get(repo,0.0) + ce*wt_w\n",
    "\n",
    "    for nn in ml_nn:\n",
    "        for repo_sug in G_train[nn].items():\n",
    "            repo = repo_sug[0]\n",
    "            ce = repo_sug[1]['weight']\n",
    "            dict_rs[repo] = dict_rs.get(repo,0.0) + ce*ml_w\n",
    "\n",
    "    for nn in info_nn:\n",
    "        for repo_sug in G_train[nn].items():\n",
    "            repo = repo_sug[0]\n",
    "            ce = repo_sug[1]['weight']\n",
    "            dict_rs[repo] = dict_rs.get(repo,0.0) + ce*info_w\n",
    "            \n",
    "    for nn in kmeans_nn:\n",
    "        for repo_sug in G_train[nn].items():\n",
    "            repo = repo_sug[0]\n",
    "            ce = repo_sug[1]['weight']\n",
    "            dict_rs[repo] = dict_rs.get(repo,0.0) + ce*30/100\n",
    "            \n",
    "    for nn in fg_nn:\n",
    "        for repo_sug in G_train[nn].items():\n",
    "            repo = repo_sug[0]\n",
    "            ce = repo_sug[1]['weight']\n",
    "            dict_rs[repo] = dict_rs.get(repo,0.0) + ce*fg_w\n",
    "            \n",
    "    for nn in lp_nn:\n",
    "        for repo_sug in G_train[nn].items():\n",
    "            repo = repo_sug[0]\n",
    "            ce = repo_sug[1]['weight']\n",
    "            dict_rs[repo] = dict_rs.get(repo,0.0) + ce*lp_w\n",
    "        \n",
    "        \n",
    "        \n",
    "    rs_list = sorted(dict_rs.items(),key = lambda x:x[1],reverse = True)\n",
    "    \n",
    "    rs_list = limit_k(rs_list)\n",
    "    \n",
    "    rs_list = list(map(lambda x: x[0],rs_list))\n",
    "    \n",
    "    return rs_list"
   ]
  },
  {
   "cell_type": "code",
   "execution_count": 674,
   "metadata": {
    "collapsed": true
   },
   "outputs": [],
   "source": [
    "def similarity_rs(node_list, method = \"projection_similarity\",wf = my_weight):\n",
    "    \n",
    "    dict_rs = dict()\n",
    "    for node in node_list:\n",
    "        if method == 'projection_similarity':\n",
    "             rs_list = projection_similarity(node,wf)\n",
    "        if method == 'cluster_similarity':\n",
    "             rs_list = cluster_similarity(node)\n",
    "        if method == 'cluster_similarity_weighted':\n",
    "             rs_list = cluster_similarity_weighted(node)\n",
    "        if method == 'ensemble_similarity_weighted':\n",
    "             rs_list = ensemble_similarity_weighted(node,wf)\n",
    "        if method == 'ensemble_similarity':\n",
    "             rs_list = ensemble_similarity(node,wf)\n",
    "        if method == 'ensemble_similarity_weighted_half':\n",
    "            rs_list1 = cluster_similarity_weighted(node)\n",
    "            rs_list1 = limit_k(rs_list1, k = 2)\n",
    "            rs_list2 = projection_similarity(node,wf)\n",
    "            rs_list2 = limit_k(rs_list2, k = 4)\n",
    "            rs_list = rs_list1 + rs_list2\n",
    "            \n",
    "    \n",
    "        dict_rs[node] = rs_list\n",
    "    \n",
    "    return dict_rs"
   ]
  },
  {
   "cell_type": "code",
   "execution_count": 675,
   "metadata": {
    "collapsed": true
   },
   "outputs": [],
   "source": [
    "def apk(actual, predicted, k= K):\n",
    "    \"\"\"\n",
    "    Computes the average precision at k.\n",
    "    This function computes the average prescision at k between two lists of\n",
    "    items.\n",
    "    Parameters\n",
    "    ----------\n",
    "    actual : list\n",
    "             A list of elements that are to be predicted (order doesn't matter)\n",
    "    predicted : list\n",
    "                A list of predicted elements (order does matter)\n",
    "    k : int, optional\n",
    "        The maximum number of predicted elements\n",
    "    Returns\n",
    "    -------\n",
    "    score : double\n",
    "            The average precision at k over the input lists\n",
    "    \"\"\"\n",
    "    if len(predicted)>k:\n",
    "        predicted = predicted[:k]\n",
    "\n",
    "    score = 0.0\n",
    "    num_hits = 0.0\n",
    "\n",
    "    for i,p in enumerate(predicted):\n",
    "        if p in actual and p not in predicted[:i]:\n",
    "            num_hits += 1.0\n",
    "            score += num_hits / (i+1.0)\n",
    "\n",
    "    if not actual:\n",
    "        return 0.0\n",
    "\n",
    "    return score / min(len(actual), k)\n",
    "\n",
    "def mapk(actual_list, predicted_list, k= 20):\n",
    "    \"\"\"\n",
    "    Computes the mean average precision at k.\n",
    "    This function computes the mean average prescision at k between two lists\n",
    "    of lists of items.\n",
    "    Parameters\n",
    "    ----------\n",
    "    actual : list\n",
    "             A list of lists of elements that are to be predicted \n",
    "             (order doesn't matter in the lists)\n",
    "    predicted : list\n",
    "                A list of lists of predicted elements\n",
    "                (order matters in the lists)\n",
    "    k : int, optional\n",
    "        The maximum number of predicted elements\n",
    "    Returns\n",
    "    -------\n",
    "    score : double\n",
    "            The mean average precision at k over the input lists\n",
    "            \n",
    "    \"\"\"\n",
    "    return np.mean([apk(a,p,k) for a,p in zip(actual_list, predicted_list)])"
   ]
  },
  {
   "cell_type": "code",
   "execution_count": null,
   "metadata": {
    "collapsed": true
   },
   "outputs": [],
   "source": []
  },
  {
   "cell_type": "code",
   "execution_count": 676,
   "metadata": {
    "collapsed": true
   },
   "outputs": [],
   "source": [
    "y_predict_dict_p = similarity_rs(to_predict_deve, method = \"projection_similarity\",wf = my_weight)"
   ]
  },
  {
   "cell_type": "code",
   "execution_count": 677,
   "metadata": {
    "collapsed": true
   },
   "outputs": [],
   "source": [
    "y_predict_dict_p_j = similarity_rs(to_predict_deve, method = \"projection_similarity\",wf = jaccard)"
   ]
  },
  {
   "cell_type": "code",
   "execution_count": 678,
   "metadata": {
    "collapsed": true
   },
   "outputs": [],
   "source": [
    "y_predict_dict_c = similarity_rs(to_predict_deve, method = \"cluster_similarity\",wf = my_weight)"
   ]
  },
  {
   "cell_type": "code",
   "execution_count": 679,
   "metadata": {
    "collapsed": true
   },
   "outputs": [],
   "source": [
    "y_predict_dict_cw = similarity_rs(to_predict_deve, method = \"cluster_similarity_weighted\",wf = my_weight)"
   ]
  },
  {
   "cell_type": "code",
   "execution_count": 680,
   "metadata": {
    "collapsed": true
   },
   "outputs": [],
   "source": [
    "y_predict_dict_e = similarity_rs(to_predict_deve, method = \"ensemble_similarity\",wf = my_weight)"
   ]
  },
  {
   "cell_type": "code",
   "execution_count": 681,
   "metadata": {
    "collapsed": true
   },
   "outputs": [],
   "source": [
    "y_predict_dict_e_w = similarity_rs(to_predict_deve, method = \"ensemble_similarity_weighted\",wf = my_weight)"
   ]
  },
  {
   "cell_type": "code",
   "execution_count": 682,
   "metadata": {
    "collapsed": true
   },
   "outputs": [],
   "source": [
    "y_predict_dict_e_w_h = similarity_rs(to_predict_deve, method = \"ensemble_similarity_weighted_half\",wf = my_weight)"
   ]
  },
  {
   "cell_type": "code",
   "execution_count": 683,
   "metadata": {},
   "outputs": [
    {
     "data": {
      "text/plain": [
       "431"
      ]
     },
     "execution_count": 683,
     "metadata": {},
     "output_type": "execute_result"
    }
   ],
   "source": [
    "len(to_predict_deve)"
   ]
  },
  {
   "cell_type": "code",
   "execution_count": 685,
   "metadata": {
    "collapsed": true
   },
   "outputs": [
    {
     "data": {
      "text/plain": [
       "[['LEG'],\n",
       " ['JSQ'],\n",
       " ['SAA'],\n",
       " ['KEN'],\n",
       " ['UXF'],\n",
       " ['JMR'],\n",
       " ['EZU', 'MRR'],\n",
       " ['GVD'],\n",
       " ['LPC', 'NQN', 'WLS'],\n",
       " ['FKJ'],\n",
       " ['TZA'],\n",
       " ['VBQ', 'VGL'],\n",
       " ['NIK', 'QKF', 'QLP'],\n",
       " ['FAB', 'YCS'],\n",
       " ['UWL'],\n",
       " ['MQB'],\n",
       " ['CCP'],\n",
       " ['GJO'],\n",
       " ['TDK'],\n",
       " ['GXB'],\n",
       " ['LGU'],\n",
       " ['DGI', 'DQU', 'QCD'],\n",
       " ['DKD', 'GGJ', 'JJN', 'KOX', 'KZK', 'LEY', 'LSL', 'PDP', 'PJE'],\n",
       " ['KHE'],\n",
       " ['WHG'],\n",
       " ['ZSI'],\n",
       " ['HCA'],\n",
       " ['DZD'],\n",
       " ['OOT'],\n",
       " ['ECK'],\n",
       " ['FXV', 'LCM', 'LTW', 'QOH', 'SPY', 'UEE'],\n",
       " ['JIV'],\n",
       " ['BKV',\n",
       "  'BMA',\n",
       "  'DNE',\n",
       "  'DXH',\n",
       "  'EVF',\n",
       "  'FGU',\n",
       "  'FKF',\n",
       "  'FOW',\n",
       "  'FQR',\n",
       "  'GWU',\n",
       "  'HAT',\n",
       "  'HGX',\n",
       "  'HTV',\n",
       "  'IEA',\n",
       "  'KOB',\n",
       "  'LMO',\n",
       "  'LPU',\n",
       "  'RMP',\n",
       "  'VNN',\n",
       "  'WFL',\n",
       "  'XUY'],\n",
       " ['QKX'],\n",
       " ['HJR', 'JBQ', 'SVV'],\n",
       " ['CWM', 'YPP'],\n",
       " ['CBW', 'DCA', 'PAS', 'QVX', 'SOK', 'XRI'],\n",
       " ['XMW'],\n",
       " ['GTX', 'RIT', 'ZOI'],\n",
       " ['HWZ', 'KRW'],\n",
       " ['FKA', 'LRQ', 'ZDL', 'ZQQ'],\n",
       " ['XHS'],\n",
       " ['JYX'],\n",
       " ['BZB', 'ETT', 'FKV', 'GJO', 'GOV', 'KGL', 'LCU', 'LNZ', 'OSD', 'RIX', 'SLP'],\n",
       " ['AVF', 'CFV', 'ECO'],\n",
       " ['QIW'],\n",
       " ['AFK', 'MXP', 'TOT'],\n",
       " ['EWC', 'FGU', 'GTX', 'GWU', 'HAT', 'IEA', 'NIH', 'UBG', 'UDG', 'VAQ'],\n",
       " ['DIU', 'FOU', 'IVN', 'SWQ', 'YTU'],\n",
       " ['GHF'],\n",
       " ['UHH'],\n",
       " ['CAH'],\n",
       " ['PNC', 'QQS'],\n",
       " ['CZT', 'PBW'],\n",
       " ['AXC', 'HXJ', 'JKU', 'ORV'],\n",
       " ['BVQ'],\n",
       " ['VBZ'],\n",
       " ['APM', 'RRW'],\n",
       " ['FFZ'],\n",
       " ['LXM'],\n",
       " ['HEJ'],\n",
       " ['RAW'],\n",
       " ['EJB', 'ISR', 'PEC', 'PJB', 'TNZ', 'URZ', 'VGI', 'XPY'],\n",
       " ['LOC'],\n",
       " ['GMY'],\n",
       " ['SSY'],\n",
       " ['SLK'],\n",
       " ['NDR'],\n",
       " ['LZG', 'MZC', 'YJX'],\n",
       " ['SUE'],\n",
       " ['KVM'],\n",
       " ['GNM'],\n",
       " ['TBM', 'USA'],\n",
       " ['ECK'],\n",
       " ['KRL'],\n",
       " ['NZM', 'YHM'],\n",
       " ['LNQ'],\n",
       " ['CQO', 'KSD', 'THG'],\n",
       " ['RSO'],\n",
       " ['HWK'],\n",
       " ['KGD'],\n",
       " ['CDN', 'ZGY'],\n",
       " ['MYN'],\n",
       " ['QQS', 'TWW'],\n",
       " ['TNL'],\n",
       " ['QQX'],\n",
       " ['CNR', 'EVB', 'UON'],\n",
       " ['KYT', 'STC'],\n",
       " ['WBD'],\n",
       " ['DZD'],\n",
       " ['FBH', 'SYL', 'ZTB'],\n",
       " ['GPW'],\n",
       " ['DJB', 'DQY', 'EUQ'],\n",
       " ['LXI'],\n",
       " ['HIM'],\n",
       " ['KSD', 'THG'],\n",
       " ['NDJ'],\n",
       " ['RIT'],\n",
       " ['EPX', 'QOS'],\n",
       " ['SYL'],\n",
       " ['VYW'],\n",
       " ['KJB'],\n",
       " ['CXP', 'KVM'],\n",
       " ['DQQ', 'LCU', 'ROM', 'SXZ', 'WDH'],\n",
       " ['BCI', 'DML', 'HNL', 'JVX', 'JYB', 'RZI', 'SHA', 'WWZ'],\n",
       " ['OOT'],\n",
       " ['DCA', 'HWK', 'ILN', 'PAS'],\n",
       " ['BVM', 'IEA', 'UBG', 'VAQ', 'XUY'],\n",
       " ['SFT'],\n",
       " ['JJI'],\n",
       " ['FBN', 'FLP', 'MQF', 'QRS'],\n",
       " ['CUE'],\n",
       " ['YFQ'],\n",
       " ['SXP', 'UCU'],\n",
       " ['WQH'],\n",
       " ['FKJ'],\n",
       " ['RAW'],\n",
       " ['TCS'],\n",
       " ['JBQ', 'TZT'],\n",
       " ['EDB', 'EST', 'PBJ', 'ROR', 'SGT', 'UDY'],\n",
       " ['FPZ'],\n",
       " ['RJU'],\n",
       " ['LZH'],\n",
       " ['YAM'],\n",
       " ['IFQ'],\n",
       " ['MNG'],\n",
       " ['HEL'],\n",
       " ['BZZ', 'XUL'],\n",
       " ['HWK'],\n",
       " ['XWX'],\n",
       " ['CXP'],\n",
       " ['QXO'],\n",
       " ['HWK'],\n",
       " ['OUY'],\n",
       " ['VBZ'],\n",
       " ['RSO'],\n",
       " ['PVV'],\n",
       " ['LQD', 'NQG'],\n",
       " ['FOW', 'OOL', 'RIT'],\n",
       " ['HWK'],\n",
       " ['KPP'],\n",
       " ['LNZ'],\n",
       " ['OYH', 'PBW', 'PDE'],\n",
       " ['DML', 'DOL', 'DXH', 'EFF', 'KOB', 'VNN', 'WFL'],\n",
       " ['NHV', 'OUA'],\n",
       " ['GOV', 'LZN'],\n",
       " ['REA'],\n",
       " ['CZS', 'DMH', 'EIG', 'RAC', 'UPY'],\n",
       " ['EKN', 'WZI'],\n",
       " ['KOW'],\n",
       " ['FRA'],\n",
       " ['LQD'],\n",
       " ['VKA', 'VME'],\n",
       " ['NMH', 'UPD'],\n",
       " ['HST', 'RTJ', 'UXF', 'VMI'],\n",
       " ['ZFM'],\n",
       " ['XAI'],\n",
       " ['CZT'],\n",
       " ['CQO'],\n",
       " ['DCM'],\n",
       " ['XHS'],\n",
       " ['KRL'],\n",
       " ['YTT'],\n",
       " ['FQR', 'JIW', 'MZL', 'XMY', 'YBM', 'ZGM'],\n",
       " ['TYF', 'XJJ'],\n",
       " ['AJZ', 'IMZ', 'OTM'],\n",
       " ['REA', 'RXS', 'XKI'],\n",
       " ['QLR', 'SKK'],\n",
       " ['OAO', 'STT'],\n",
       " ['PLS'],\n",
       " ['KFV', 'PDE', 'WDW'],\n",
       " ['PBW'],\n",
       " ['DOI', 'EFF', 'FQR', 'KNC', 'MZL', 'RMP', 'YBM', 'YRW'],\n",
       " ['USA'],\n",
       " ['AVN', 'MWT', 'QQS', 'SKG'],\n",
       " ['HCF'],\n",
       " ['RKY'],\n",
       " ['PKG'],\n",
       " ['VKE'],\n",
       " ['NTU', 'OVI'],\n",
       " ['LBX'],\n",
       " ['QAT'],\n",
       " ['FBN', 'GJW', 'QQX'],\n",
       " ['HWK'],\n",
       " ['MBY'],\n",
       " ['BVQ', 'ORR'],\n",
       " ['OOT'],\n",
       " ['MRX'],\n",
       " ['PUX'],\n",
       " ['RLM', 'VME'],\n",
       " ['RCK'],\n",
       " ['EZU'],\n",
       " ['IGJ'],\n",
       " ['HFZ'],\n",
       " ['XUY'],\n",
       " ['KSD', 'VMI'],\n",
       " ['RKJ'],\n",
       " ['KGD'],\n",
       " ['XHS'],\n",
       " ['GQX', 'UFZ'],\n",
       " ['ECK', 'MNG'],\n",
       " ['HBZ'],\n",
       " ['MHI'],\n",
       " ['LZA'],\n",
       " ['MZL', 'YBM'],\n",
       " ['HJR'],\n",
       " ['KLW'],\n",
       " ['FPM'],\n",
       " ['KGD'],\n",
       " ['HWK'],\n",
       " ['AES', 'AVD'],\n",
       " ['AVD'],\n",
       " ['JNA'],\n",
       " ['JHQ'],\n",
       " ['NBX'],\n",
       " ['NEY'],\n",
       " ['CBW', 'DCA', 'ILN', 'PAS', 'RAW', 'RZU', 'XRI'],\n",
       " ['JKV'],\n",
       " ['RLM'],\n",
       " ['TBN'],\n",
       " ['NBX'],\n",
       " ['LCI', 'YGM'],\n",
       " ['RKY'],\n",
       " ['DUR'],\n",
       " ['EGC', 'GTX', 'KTO', 'YRW'],\n",
       " ['BBZ', 'MTQ', 'VRU', 'XFV'],\n",
       " ['RKY'],\n",
       " ['CUE'],\n",
       " ['GYY', 'MTK', 'XJS'],\n",
       " ['ENN'],\n",
       " ['SJR'],\n",
       " ['BCI', 'HNL', 'HTV', 'IEU', 'JVX', 'QEW', 'SHA', 'WWZ', 'ZOI'],\n",
       " ['JHR'],\n",
       " ['DOI', 'LYV', 'ZOI'],\n",
       " ['MYN'],\n",
       " ['GYI', 'WTN'],\n",
       " ['VMT'],\n",
       " ['NGQ', 'SBZ', 'YWD', 'YWT'],\n",
       " ['XHS'],\n",
       " ['KGD'],\n",
       " ['LJG'],\n",
       " ['HWK'],\n",
       " ['UPQ'],\n",
       " ['EGL'],\n",
       " ['RJU'],\n",
       " ['XLK'],\n",
       " ['MPV'],\n",
       " ['EXI', 'JHR', 'UPD', 'WAG'],\n",
       " ['KZX', 'QJB'],\n",
       " ['BVM'],\n",
       " ['DLB', 'LTW', 'LZG'],\n",
       " ['GRL'],\n",
       " ['QTY'],\n",
       " ['GXB'],\n",
       " ['QKZ'],\n",
       " ['FLP'],\n",
       " ['PVV'],\n",
       " ['HAR', 'WPO'],\n",
       " ['GHF', 'GYQ'],\n",
       " ['LRF'],\n",
       " ['WSO'],\n",
       " ['GEV', 'MNG'],\n",
       " ['LFW'],\n",
       " ['QKI'],\n",
       " ['IHW'],\n",
       " ['FKJ'],\n",
       " ['BZZ'],\n",
       " ['MZA'],\n",
       " ['HWK', 'RXD'],\n",
       " ['LZH'],\n",
       " ['XXM'],\n",
       " ['TBM', 'USA'],\n",
       " ['KPJ', 'NGQ', 'RYL', 'XDC', 'YVI', 'YWD', 'YWT'],\n",
       " ['LQD'],\n",
       " ['QJK'],\n",
       " ['AFK', 'GYM', 'PZX', 'SEF', 'ZVV'],\n",
       " ['MKJ'],\n",
       " ['DFU'],\n",
       " ['STT'],\n",
       " ['SYL'],\n",
       " ['TAC'],\n",
       " ['DJV'],\n",
       " ['QMW'],\n",
       " ['CQO', 'IDP', 'LHC'],\n",
       " ['WUD'],\n",
       " ['SJY'],\n",
       " ['SBI'],\n",
       " ['KGD'],\n",
       " ['QGD'],\n",
       " ['EBB'],\n",
       " ['KRL'],\n",
       " ['IIJ'],\n",
       " ['UBG', 'YFQ', 'YRW'],\n",
       " ['VRS'],\n",
       " ['QJK'],\n",
       " ['XHS'],\n",
       " ['CXP'],\n",
       " ['FAB'],\n",
       " ['CQO', 'CQW', 'VMI'],\n",
       " ['CUE'],\n",
       " ['OYH'],\n",
       " ['DCA'],\n",
       " ['ONL'],\n",
       " ['WBE'],\n",
       " ['GZJ', 'KJV', 'OLQ'],\n",
       " ['GVQ'],\n",
       " ['DCM', 'VKE'],\n",
       " ['GUZ', 'JWO'],\n",
       " ['ECK'],\n",
       " ['MWT', 'PCN'],\n",
       " ['KNU'],\n",
       " ['XHS'],\n",
       " ['XYZ'],\n",
       " ['FOW', 'IEA', 'RIT'],\n",
       " ['KGD', 'WME'],\n",
       " ['DEI'],\n",
       " ['ACW',\n",
       "  'AKI',\n",
       "  'AWB',\n",
       "  'BHM',\n",
       "  'BJZ',\n",
       "  'HJJ',\n",
       "  'HSQ',\n",
       "  'HWK',\n",
       "  'IIV',\n",
       "  'IQU',\n",
       "  'LES',\n",
       "  'QVK',\n",
       "  'SZF',\n",
       "  'TFJ',\n",
       "  'TZQ',\n",
       "  'VVU',\n",
       "  'WQI',\n",
       "  'YSO'],\n",
       " ['GJW', 'JHQ', 'QRS'],\n",
       " ['IDP', 'LHC'],\n",
       " ['OSZ'],\n",
       " ['GHF', 'IDP', 'LHC'],\n",
       " ['FAX'],\n",
       " ['PNC'],\n",
       " ['ILT', 'JQG', 'KZW', 'MFW', 'RCK'],\n",
       " ['VMI'],\n",
       " ['CQO'],\n",
       " ['CXP'],\n",
       " ['GGL'],\n",
       " ['CIH', 'CNT', 'GWN', 'KSB', 'OAZ', 'VFR', 'VSF', 'XUG', 'XVU', 'YVH'],\n",
       " ['GQY', 'UOI'],\n",
       " ['LRQ', 'QWY'],\n",
       " ['JEJ'],\n",
       " ['AWU', 'HZL', 'PMS', 'QKX', 'XJN', 'ZWL'],\n",
       " ['VHN'],\n",
       " ['WAT'],\n",
       " ['MEY', 'RSO'],\n",
       " ['NEU', 'QGD'],\n",
       " ['AXF'],\n",
       " ['NAA', 'TDX'],\n",
       " ['UXF'],\n",
       " ['BFF', 'KVD', 'VGA'],\n",
       " ['FKA', 'LZH', 'OEH'],\n",
       " ['PGC', 'VKG'],\n",
       " ['EJG', 'FFX', 'FKA', 'XXS'],\n",
       " ['MKX', 'RIT', 'UYG'],\n",
       " ['CQO', 'IDP', 'VMI'],\n",
       " ['KRL'],\n",
       " ['MKJ', 'XBY'],\n",
       " ['MZL', 'RMP', 'YBM'],\n",
       " ['YNE'],\n",
       " ['KNU'],\n",
       " ['JJF', 'MMK', 'XCF'],\n",
       " ['KRL'],\n",
       " ['KIE'],\n",
       " ['BLK', 'HWK'],\n",
       " ['SME'],\n",
       " ['NMU'],\n",
       " ['HEY', 'JIY', 'MNP', 'NQV'],\n",
       " ['DZZ', 'PXD', 'YOM'],\n",
       " ['MCW'],\n",
       " ['GXB'],\n",
       " ['SGT', 'VOX'],\n",
       " ['DPI', 'DRX', 'MHI', 'OSZ', 'YWK'],\n",
       " ['NTU'],\n",
       " ['YAM'],\n",
       " ['UON'],\n",
       " ['EFV'],\n",
       " ['XDJ'],\n",
       " ['HJT', 'YMI'],\n",
       " ['FLP', 'ZIG'],\n",
       " ['BCI', 'BMA', 'DML', 'HNL', 'JYB', 'RZI', 'SHA', 'WWZ'],\n",
       " ['DLZ'],\n",
       " ['FAB', 'RSO'],\n",
       " ['AVB'],\n",
       " ['BKE', 'FFS', 'HDZ'],\n",
       " ['YFQ'],\n",
       " ['EKN'],\n",
       " ['GHF'],\n",
       " ['BRE',\n",
       "  'FFQ',\n",
       "  'FLH',\n",
       "  'FTV',\n",
       "  'HIM',\n",
       "  'JHY',\n",
       "  'KGX',\n",
       "  'KOZ',\n",
       "  'LNQ',\n",
       "  'LNR',\n",
       "  'MXD',\n",
       "  'NQL',\n",
       "  'ODU',\n",
       "  'PXD',\n",
       "  'QCQ',\n",
       "  'VKV',\n",
       "  'YQN',\n",
       "  'ZZV'],\n",
       " ['PXD'],\n",
       " ['XQB'],\n",
       " ['PUX'],\n",
       " ['ATX',\n",
       "  'BLR',\n",
       "  'BMA',\n",
       "  'DNE',\n",
       "  'DOI',\n",
       "  'DUP',\n",
       "  'EFF',\n",
       "  'EVF',\n",
       "  'FKF',\n",
       "  'GHX',\n",
       "  'GQY',\n",
       "  'HGX',\n",
       "  'HTV',\n",
       "  'LYV',\n",
       "  'NIH',\n",
       "  'TJK',\n",
       "  'VNN',\n",
       "  'WSY',\n",
       "  'ZOI',\n",
       "  'ZSA'],\n",
       " ['SAR', 'VKN'],\n",
       " ['SEF'],\n",
       " ['BSU', 'XAA'],\n",
       " ['MFW', 'MWG', 'NYX'],\n",
       " ['SKJ'],\n",
       " ['OPF', 'QEJ', 'YGD', 'ZNE'],\n",
       " ['QMW'],\n",
       " ['QEM'],\n",
       " ['GEV'],\n",
       " ['DRX', 'MHI', 'OSZ'],\n",
       " ['DOL', 'EFF', 'EVF', 'FKF', 'JNA', 'LPU'],\n",
       " ['CQO', 'HYF'],\n",
       " ['UON'],\n",
       " ['PCS'],\n",
       " ['CQO', 'PKG'],\n",
       " ['FBM'],\n",
       " ['MKX', 'UYG'],\n",
       " ['EGC', 'EWC', 'FKF', 'GWU', 'HAT', 'IEA', 'LMO', 'MKX', 'UBG', 'VAQ', 'ZSA'],\n",
       " ['FKA', 'GIP', 'XLB'],\n",
       " ['RIP'],\n",
       " ['AVN'],\n",
       " ['WQD'],\n",
       " ['BZZ', 'VMI'],\n",
       " ['JIV'],\n",
       " ['FAX'],\n",
       " ['PHU', 'SGI'],\n",
       " ['LXM'],\n",
       " ['PNZ'],\n",
       " ['MRX'],\n",
       " ['DRX', 'FBH', 'FHA', 'ORV'],\n",
       " ['JIY', 'MNP', 'ZSE'],\n",
       " ['GGL'],\n",
       " ['WDW'],\n",
       " ['KGD', 'ZOD'],\n",
       " ['CKZ', 'LTA'],\n",
       " ['JIV'],\n",
       " ['BGB', 'FBF'],\n",
       " ['AXC', 'JKU'],\n",
       " ['MHY'],\n",
       " ['MAU'],\n",
       " ['NIK', 'QLP'],\n",
       " ['UPQ'],\n",
       " ['MNG'],\n",
       " ['RSO'],\n",
       " ['LXM'],\n",
       " ['AES'],\n",
       " ['CMR', 'EXW', 'HWK', 'PDA'],\n",
       " ['PPY']]"
      ]
     },
     "execution_count": 685,
     "metadata": {},
     "output_type": "execute_result"
    }
   ],
   "source": [
    "actual_list"
   ]
  },
  {
   "cell_type": "code",
   "execution_count": 684,
   "metadata": {},
   "outputs": [
    {
     "data": {
      "text/plain": [
       "0.25834686774941995"
      ]
     },
     "execution_count": 684,
     "metadata": {},
     "output_type": "execute_result"
    }
   ],
   "source": [
    "mapk(actual_list, popular_rs_list, k= 6)"
   ]
  },
  {
   "cell_type": "code",
   "execution_count": 621,
   "metadata": {},
   "outputs": [
    {
     "data": {
      "text/plain": [
       "0.11023290857977631"
      ]
     },
     "execution_count": 621,
     "metadata": {},
     "output_type": "execute_result"
    }
   ],
   "source": [
    "mapk(actual_list, y_predict_dict_p.values(), k= 10)"
   ]
  },
  {
   "cell_type": "code",
   "execution_count": 624,
   "metadata": {},
   "outputs": [
    {
     "data": {
      "text/plain": [
       "0.1131566493573454"
      ]
     },
     "execution_count": 624,
     "metadata": {},
     "output_type": "execute_result"
    }
   ],
   "source": [
    "mapk(actual_list, y_predict_dict_p_j.values(), k= 10)"
   ]
  },
  {
   "cell_type": "code",
   "execution_count": 422,
   "metadata": {},
   "outputs": [
    {
     "data": {
      "text/plain": [
       "0.38988839833210692"
      ]
     },
     "execution_count": 422,
     "metadata": {},
     "output_type": "execute_result"
    }
   ],
   "source": [
    "mapk(actual_list, y_predict_dict_c.values(), k= 6)"
   ]
  },
  {
   "cell_type": "code",
   "execution_count": 435,
   "metadata": {},
   "outputs": [
    {
     "data": {
      "text/plain": [
       "0.65136460632818249"
      ]
     },
     "execution_count": 435,
     "metadata": {},
     "output_type": "execute_result"
    }
   ],
   "source": [
    "mapk(actual_list, y_predict_dict_cw.values(), k= 6)"
   ]
  },
  {
   "cell_type": "code",
   "execution_count": 373,
   "metadata": {},
   "outputs": [
    {
     "data": {
      "text/plain": [
       "0.38067893058621532"
      ]
     },
     "execution_count": 373,
     "metadata": {},
     "output_type": "execute_result"
    }
   ],
   "source": [
    "mapk(actual_list, y_predict_dict_e.values(), k= 6)"
   ]
  },
  {
   "cell_type": "code",
   "execution_count": 374,
   "metadata": {},
   "outputs": [
    {
     "data": {
      "text/plain": [
       "0.52254819720382639"
      ]
     },
     "execution_count": 374,
     "metadata": {},
     "output_type": "execute_result"
    }
   ],
   "source": [
    "mapk(actual_list, y_predict_dict_e_w.values(), k= 6)"
   ]
  },
  {
   "cell_type": "code",
   "execution_count": 431,
   "metadata": {},
   "outputs": [
    {
     "data": {
      "text/plain": [
       "0.67428035320088298"
      ]
     },
     "execution_count": 431,
     "metadata": {},
     "output_type": "execute_result"
    }
   ],
   "source": [
    "mapk(actual_list, y_predict_dict_e_w_h.values(), k= 6)"
   ]
  },
  {
   "cell_type": "code",
   "execution_count": null,
   "metadata": {
    "collapsed": true
   },
   "outputs": [],
   "source": []
  },
  {
   "cell_type": "code",
   "execution_count": 645,
   "metadata": {
    "collapsed": true
   },
   "outputs": [],
   "source": [
    "wt = pd.read_csv('wt_df.csv')\n",
    "wt.columns = ['wt_member','nodes']\n",
    "\n",
    "ml = pd.read_csv('ml_df.csv')\n",
    "ml.columns = ['ml_member','nodes']\n",
    "\n",
    "info = pd.read_csv('info_df.csv')\n",
    "info.columns = ['info_member','nodes']\n",
    "\n",
    "fg = pd.read_csv('fg_df.csv')\n",
    "fg.columns = ['fg_member','nodes']\n",
    "\n",
    "lp = pd.read_csv('lp_df.csv')\n",
    "lp.columns = ['lp_member','nodes']"
   ]
  },
  {
   "cell_type": "code",
   "execution_count": 646,
   "metadata": {},
   "outputs": [
    {
     "data": {
      "text/plain": [
       "259"
      ]
     },
     "execution_count": 646,
     "metadata": {},
     "output_type": "execute_result"
    }
   ],
   "source": [
    "len(wt['wt_member'].unique())"
   ]
  },
  {
   "cell_type": "code",
   "execution_count": 647,
   "metadata": {},
   "outputs": [
    {
     "data": {
      "text/plain": [
       "590"
      ]
     },
     "execution_count": 647,
     "metadata": {},
     "output_type": "execute_result"
    }
   ],
   "source": [
    "len(lp['lp_member'].unique())"
   ]
  },
  {
   "cell_type": "code",
   "execution_count": 649,
   "metadata": {},
   "outputs": [
    {
     "data": {
      "text/plain": [
       "729"
      ]
     },
     "execution_count": 649,
     "metadata": {},
     "output_type": "execute_result"
    }
   ],
   "source": [
    "len(fg['fg_member'].unique())"
   ]
  },
  {
   "cell_type": "code",
   "execution_count": 650,
   "metadata": {},
   "outputs": [
    {
     "data": {
      "text/plain": [
       "728"
      ]
     },
     "execution_count": 650,
     "metadata": {},
     "output_type": "execute_result"
    }
   ],
   "source": [
    "len(ml['ml_member'].unique())"
   ]
  },
  {
   "cell_type": "code",
   "execution_count": 651,
   "metadata": {},
   "outputs": [
    {
     "data": {
      "text/plain": [
       "882"
      ]
     },
     "execution_count": 651,
     "metadata": {},
     "output_type": "execute_result"
    }
   ],
   "source": [
    "len(info['info_member'].unique())"
   ]
  },
  {
   "cell_type": "code",
   "execution_count": 652,
   "metadata": {},
   "outputs": [
    {
     "data": {
      "text/plain": [
       "True"
      ]
     },
     "execution_count": 652,
     "metadata": {},
     "output_type": "execute_result"
    }
   ],
   "source": [
    "len(ml)==len(info)==len(wt)"
   ]
  },
  {
   "cell_type": "code",
   "execution_count": 653,
   "metadata": {
    "collapsed": true
   },
   "outputs": [],
   "source": [
    "temp = pd.merge(ml,info, how='inner', on='nodes')\n",
    "temp = pd.merge(temp,wt, how='inner', on='nodes')\n",
    "temp = pd.merge(temp,fg, how='inner', on='nodes')\n",
    "temp = pd.merge(temp,lp, how='inner', on='nodes')"
   ]
  },
  {
   "cell_type": "code",
   "execution_count": null,
   "metadata": {
    "collapsed": true
   },
   "outputs": [],
   "source": []
  },
  {
   "cell_type": "code",
   "execution_count": 654,
   "metadata": {
    "collapsed": true
   },
   "outputs": [],
   "source": [
    "degree_df = pd.DataFrame.from_dict({'nodes':list(nx.degree(G_train).keys()),'Degree':list(nx.degree(G_train).values())})\n",
    "betweenness_df = pd.DataFrame({'between':list(nx.betweenness_centrality(G_train).values())})\n",
    "close_df = pd.DataFrame({'close':list(nx.closeness_centrality(G_train).values())})\n",
    "eigen_df = pd.DataFrame({'eigen':list(nx.eigenvector_centrality_numpy(G_train).values())})\n",
    "\n",
    "temp2 = pd.concat([degree_df,betweenness_df,close_df,eigen_df],axis = 1,join = 'inner')\n",
    "temp2 = temp2[temp2['nodes'].isin(deve_nodes)].set_index('nodes')"
   ]
  },
  {
   "cell_type": "code",
   "execution_count": 655,
   "metadata": {},
   "outputs": [
    {
     "data": {
      "text/plain": [
       "2519"
      ]
     },
     "execution_count": 655,
     "metadata": {},
     "output_type": "execute_result"
    }
   ],
   "source": [
    "len(temp2)"
   ]
  },
  {
   "cell_type": "code",
   "execution_count": 656,
   "metadata": {
    "collapsed": true
   },
   "outputs": [],
   "source": [
    "#X_kmeans = np.exp(temp2.values)\n",
    "X_kmeans = temp2.values"
   ]
  },
  {
   "cell_type": "code",
   "execution_count": 657,
   "metadata": {
    "collapsed": true
   },
   "outputs": [],
   "source": [
    "from sklearn.cluster import KMeans\n",
    "from scipy.spatial.distance import cdist\n",
    "\n",
    "K = range(1,50)\n",
    "distortions = []\n",
    "for k in K:\n",
    "    kmeanModel = KMeans(n_clusters=k).fit(X_kmeans)\n",
    "    kmeanModel.fit(X_kmeans)\n",
    "    distortions.append(sum(np.min(cdist(X_kmeans, kmeanModel.cluster_centers_, 'cosine'), axis=1)) / X_kmeans.shape[0])"
   ]
  },
  {
   "cell_type": "code",
   "execution_count": 658,
   "metadata": {},
   "outputs": [
    {
     "data": {
      "image/png": "[encoded data removed]",
      "text/plain": [
       "<matplotlib.figure.Figure at 0xa3c39b46a0>"
      ]
     },
     "metadata": {},
     "output_type": "display_data"
    },
    {
     "data": {
      "text/plain": [
       "<matplotlib.figure.Figure at 0xa3c39b4ac8>"
      ]
     },
     "metadata": {},
     "output_type": "display_data"
    }
   ],
   "source": [
    "plt.plot(K, distortions, 'bx-')\n",
    "plt.xlabel('k')\n",
    "plt.ylabel('Distortion')\n",
    "plt.title('The Elbow Method showing the optimal k')\n",
    "plt.show()\n",
    "plt.savefig('elbow.png')"
   ]
  },
  {
   "cell_type": "code",
   "execution_count": 659,
   "metadata": {
    "collapsed": true
   },
   "outputs": [],
   "source": [
    "kmeans = KMeans(n_clusters= 30).fit(X_kmeans)\n",
    "kmeans_assign = kmeans.labels_"
   ]
  },
  {
   "cell_type": "code",
   "execution_count": 660,
   "metadata": {
    "collapsed": true
   },
   "outputs": [],
   "source": [
    "kmeans_df = pd.DataFrame(np.asarray([temp2.index, kmeans_assign]).T,columns = ['nodes','kmeans'])"
   ]
  },
  {
   "cell_type": "code",
   "execution_count": null,
   "metadata": {
    "collapsed": true
   },
   "outputs": [],
   "source": []
  },
  {
   "cell_type": "code",
   "execution_count": 661,
   "metadata": {
    "collapsed": true
   },
   "outputs": [],
   "source": [
    "assign_all = pd.merge(temp,kmeans_df, how='inner', on='nodes').set_index('nodes')\n",
    "assign_all.to_csv('assign.csv')"
   ]
  },
  {
   "cell_type": "code",
   "execution_count": 662,
   "metadata": {},
   "outputs": [
    {
     "data": {
      "text/html": [
       "<div>\n",
       "<style>\n",
       "    .dataframe thead tr:only-child th {\n",
       "        text-align: right;\n",
       "    }\n",
       "\n",
       "    .dataframe thead th {\n",
       "        text-align: left;\n",
       "    }\n",
       "\n",
       "    .dataframe tbody tr th {\n",
       "        vertical-align: top;\n",
       "    }\n",
       "</style>\n",
       "<table border=\"1\" class=\"dataframe\">\n",
       "  <thead>\n",
       "    <tr style=\"text-align: right;\">\n",
       "      <th></th>\n",
       "      <th>ml_member</th>\n",
       "      <th>info_member</th>\n",
       "      <th>wt_member</th>\n",
       "      <th>fg_member</th>\n",
       "      <th>lp_member</th>\n",
       "      <th>kmeans</th>\n",
       "    </tr>\n",
       "    <tr>\n",
       "      <th>nodes</th>\n",
       "      <th></th>\n",
       "      <th></th>\n",
       "      <th></th>\n",
       "      <th></th>\n",
       "      <th></th>\n",
       "      <th></th>\n",
       "    </tr>\n",
       "  </thead>\n",
       "  <tbody>\n",
       "    <tr>\n",
       "      <th>aaa</th>\n",
       "      <td>1</td>\n",
       "      <td>469</td>\n",
       "      <td>258</td>\n",
       "      <td>305</td>\n",
       "      <td>1</td>\n",
       "      <td>25</td>\n",
       "    </tr>\n",
       "    <tr>\n",
       "      <th>aah</th>\n",
       "      <td>2</td>\n",
       "      <td>463</td>\n",
       "      <td>164</td>\n",
       "      <td>306</td>\n",
       "      <td>2</td>\n",
       "      <td>0</td>\n",
       "    </tr>\n",
       "    <tr>\n",
       "      <th>aaj</th>\n",
       "      <td>387</td>\n",
       "      <td>161</td>\n",
       "      <td>253</td>\n",
       "      <td>63</td>\n",
       "      <td>3</td>\n",
       "      <td>0</td>\n",
       "    </tr>\n",
       "    <tr>\n",
       "      <th>aaq</th>\n",
       "      <td>348</td>\n",
       "      <td>1</td>\n",
       "      <td>259</td>\n",
       "      <td>47</td>\n",
       "      <td>4</td>\n",
       "      <td>27</td>\n",
       "    </tr>\n",
       "    <tr>\n",
       "      <th>aau</th>\n",
       "      <td>234</td>\n",
       "      <td>351</td>\n",
       "      <td>258</td>\n",
       "      <td>43</td>\n",
       "      <td>5</td>\n",
       "      <td>3</td>\n",
       "    </tr>\n",
       "  </tbody>\n",
       "</table>\n",
       "</div>"
      ],
      "text/plain": [
       "       ml_member  info_member  wt_member  fg_member  lp_member kmeans\n",
       "nodes                                                                \n",
       "aaa            1          469        258        305          1     25\n",
       "aah            2          463        164        306          2      0\n",
       "aaj          387          161        253         63          3      0\n",
       "aaq          348            1        259         47          4     27\n",
       "aau          234          351        258         43          5      3"
      ]
     },
     "execution_count": 662,
     "metadata": {},
     "output_type": "execute_result"
    }
   ],
   "source": [
    "assign_all.head()"
   ]
  },
  {
   "cell_type": "code",
   "execution_count": null,
   "metadata": {
    "collapsed": true
   },
   "outputs": [],
   "source": []
  },
  {
   "cell_type": "code",
   "execution_count": null,
   "metadata": {
    "collapsed": true
   },
   "outputs": [],
   "source": []
  }
 ],
 "metadata": {
  "kernelspec": {
   "display_name": "Python 3",
   "language": "python",
   "name": "python3"
  },
  "language_info": {
   "codemirror_mode": {
    "name": "ipython",
    "version": 3
   },
   "file_extension": ".py",
   "mimetype": "text/x-python",
   "name": "python",
   "nbconvert_exporter": "python",
   "pygments_lexer": "ipython3",
   "version": "3.6.2"
  }
 },
 "nbformat": 4,
 "nbformat_minor": 2
}
