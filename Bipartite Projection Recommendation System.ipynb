{
 "cells": [
  {
   "cell_type": "code",
   "execution_count": 1,
   "metadata": {},
   "outputs": [
    {
     "name": "stdout",
     "output_type": "stream",
     "text": [
      "C:\\Users\\Miya\\Desktop\\cna\\dataset\n"
     ]
    }
   ],
   "source": [
    "cd dataset"
   ]
  },
  {
   "cell_type": "code",
   "execution_count": 2,
   "metadata": {
    "collapsed": true
   },
   "outputs": [],
   "source": [
    "import pandas as pd\n",
    "import numpy as np\n",
    "import matplotlib.pyplot as plt\n",
    "%matplotlib inline\n",
    "import warnings\n",
    "warnings.filterwarnings('ignore')\n",
    "data = pd.read_csv('repositories_refined.csv',parse_dates=['Month, Day, Year of Date'])\n",
    "#data = data[data['Coding Effort']!=0]\n",
    "data.columns= ['Worker ID','Repository ID','Coding Effort','Month, Day, Year of Date']"
   ]
  },
  {
   "cell_type": "code",
   "execution_count": 4,
   "metadata": {},
   "outputs": [
    {
     "data": {
      "text/html": [
       "<div>\n",
       "<style>\n",
       "    .dataframe thead tr:only-child th {\n",
       "        text-align: right;\n",
       "    }\n",
       "\n",
       "    .dataframe thead th {\n",
       "        text-align: left;\n",
       "    }\n",
       "\n",
       "    .dataframe tbody tr th {\n",
       "        vertical-align: top;\n",
       "    }\n",
       "</style>\n",
       "<table border=\"1\" class=\"dataframe\">\n",
       "  <thead>\n",
       "    <tr style=\"text-align: right;\">\n",
       "      <th></th>\n",
       "      <th>Worker ID</th>\n",
       "      <th>Repository ID</th>\n",
       "      <th>Coding Effort</th>\n",
       "      <th>Month, Day, Year of Date</th>\n",
       "    </tr>\n",
       "  </thead>\n",
       "  <tbody>\n",
       "    <tr>\n",
       "      <th>0</th>\n",
       "      <td>aaa</td>\n",
       "      <td>AAA</td>\n",
       "      <td>0.00</td>\n",
       "      <td>2015-07-01</td>\n",
       "    </tr>\n",
       "    <tr>\n",
       "      <th>1</th>\n",
       "      <td>dxw</td>\n",
       "      <td>HEL</td>\n",
       "      <td>5.00</td>\n",
       "      <td>2015-07-01</td>\n",
       "    </tr>\n",
       "    <tr>\n",
       "      <th>2</th>\n",
       "      <td>woe</td>\n",
       "      <td>WHS</td>\n",
       "      <td>4.73</td>\n",
       "      <td>2015-07-01</td>\n",
       "    </tr>\n",
       "    <tr>\n",
       "      <th>3</th>\n",
       "      <td>woe</td>\n",
       "      <td>EZR</td>\n",
       "      <td>0.26</td>\n",
       "      <td>2015-07-01</td>\n",
       "    </tr>\n",
       "    <tr>\n",
       "      <th>4</th>\n",
       "      <td>wlk</td>\n",
       "      <td>RJA</td>\n",
       "      <td>5.00</td>\n",
       "      <td>2015-07-01</td>\n",
       "    </tr>\n",
       "  </tbody>\n",
       "</table>\n",
       "</div>"
      ],
      "text/plain": [
       "  Worker ID Repository ID  Coding Effort Month, Day, Year of Date\n",
       "0       aaa           AAA           0.00               2015-07-01\n",
       "1       dxw           HEL           5.00               2015-07-01\n",
       "2       woe           WHS           4.73               2015-07-01\n",
       "3       woe           EZR           0.26               2015-07-01\n",
       "4       wlk           RJA           5.00               2015-07-01"
      ]
     },
     "execution_count": 4,
     "metadata": {},
     "output_type": "execute_result"
    }
   ],
   "source": [
    "data.head()"
   ]
  },
  {
   "cell_type": "code",
   "execution_count": 3,
   "metadata": {
    "collapsed": true
   },
   "outputs": [],
   "source": [
    "X_test = data[data['Month, Day, Year of Date']>='2015-07-08']\n",
    "X_train = data[data['Month, Day, Year of Date']<'2015-07-08']"
   ]
  },
  {
   "cell_type": "code",
   "execution_count": 4,
   "metadata": {},
   "outputs": [
    {
     "data": {
      "text/html": [
       "<div>\n",
       "<style>\n",
       "    .dataframe thead tr:only-child th {\n",
       "        text-align: right;\n",
       "    }\n",
       "\n",
       "    .dataframe thead th {\n",
       "        text-align: left;\n",
       "    }\n",
       "\n",
       "    .dataframe tbody tr th {\n",
       "        vertical-align: top;\n",
       "    }\n",
       "</style>\n",
       "<table border=\"1\" class=\"dataframe\">\n",
       "  <thead>\n",
       "    <tr style=\"text-align: right;\">\n",
       "      <th></th>\n",
       "      <th>Worker ID</th>\n",
       "      <th>Repository ID</th>\n",
       "      <th>Coding Effort</th>\n",
       "      <th>Month, Day, Year of Date</th>\n",
       "    </tr>\n",
       "  </thead>\n",
       "  <tbody>\n",
       "    <tr>\n",
       "      <th>0</th>\n",
       "      <td>aaa</td>\n",
       "      <td>AAA</td>\n",
       "      <td>0.00</td>\n",
       "      <td>2015-07-01</td>\n",
       "    </tr>\n",
       "    <tr>\n",
       "      <th>1</th>\n",
       "      <td>dxw</td>\n",
       "      <td>HEL</td>\n",
       "      <td>5.00</td>\n",
       "      <td>2015-07-01</td>\n",
       "    </tr>\n",
       "    <tr>\n",
       "      <th>2</th>\n",
       "      <td>woe</td>\n",
       "      <td>WHS</td>\n",
       "      <td>4.73</td>\n",
       "      <td>2015-07-01</td>\n",
       "    </tr>\n",
       "    <tr>\n",
       "      <th>3</th>\n",
       "      <td>woe</td>\n",
       "      <td>EZR</td>\n",
       "      <td>0.26</td>\n",
       "      <td>2015-07-01</td>\n",
       "    </tr>\n",
       "    <tr>\n",
       "      <th>4</th>\n",
       "      <td>wlk</td>\n",
       "      <td>RJA</td>\n",
       "      <td>5.00</td>\n",
       "      <td>2015-07-01</td>\n",
       "    </tr>\n",
       "  </tbody>\n",
       "</table>\n",
       "</div>"
      ],
      "text/plain": [
       "  Worker ID Repository ID  Coding Effort Month, Day, Year of Date\n",
       "0       aaa           AAA           0.00               2015-07-01\n",
       "1       dxw           HEL           5.00               2015-07-01\n",
       "2       woe           WHS           4.73               2015-07-01\n",
       "3       woe           EZR           0.26               2015-07-01\n",
       "4       wlk           RJA           5.00               2015-07-01"
      ]
     },
     "execution_count": 4,
     "metadata": {},
     "output_type": "execute_result"
    }
   ],
   "source": [
    "data[data['Month, Day, Year of Date']<'2015-07-08'].head()"
   ]
  },
  {
   "cell_type": "code",
   "execution_count": 5,
   "metadata": {
    "collapsed": true
   },
   "outputs": [],
   "source": [
    "def dirty_model():\n",
    "    pred_base = []\n",
    "    tp = data[data['Month, Day, Year of Date']<'2015-07-08'].groupby(['Worker ID','Repository ID']).sum().reset_index()\n",
    "    for deve in to_predict_deve:\n",
    "        old = tp[tp['Worker ID']==deve]['Repository ID']\n",
    "        new = [i for i in Most_popu_repo if i not in old]\n",
    "    pred_base.append(new)\n",
    "    \n",
    "    return pred_base"
   ]
  },
  {
   "cell_type": "code",
   "execution_count": 6,
   "metadata": {
    "collapsed": true
   },
   "outputs": [],
   "source": [
    "Most_popu_repo = data[data['Month, Day, Year of Date']<'2015-07-08'].groupby('Repository ID').count().sort_values('Worker ID',ascending = False).index"
   ]
  },
  {
   "cell_type": "code",
   "execution_count": 7,
   "metadata": {},
   "outputs": [
    {
     "name": "stdout",
     "output_type": "stream",
     "text": [
      "(13155, 4)\n",
      "(159199, 4)\n"
     ]
    }
   ],
   "source": [
    "print(X_train.shape)\n",
    "print(X_test.shape)"
   ]
  },
  {
   "cell_type": "code",
   "execution_count": 8,
   "metadata": {
    "collapsed": true
   },
   "outputs": [],
   "source": [
    "deve_nodes_train = list(set(X_train.values[:,0]))\n",
    "deve_nodes_test = list(set(X_test.values[:,0]))"
   ]
  },
  {
   "cell_type": "code",
   "execution_count": 9,
   "metadata": {
    "collapsed": true
   },
   "outputs": [],
   "source": [
    "X_test = X_test[X_test['Worker ID'].isin([test for test in deve_nodes_test if test in deve_nodes_train])]"
   ]
  },
  {
   "cell_type": "code",
   "execution_count": 10,
   "metadata": {
    "collapsed": true
   },
   "outputs": [],
   "source": [
    "X_test = X_test.groupby(['Worker ID','Repository ID']).sum().reset_index()"
   ]
  },
  {
   "cell_type": "code",
   "execution_count": 11,
   "metadata": {
    "collapsed": true
   },
   "outputs": [],
   "source": [
    "t1 = pd.DataFrame(X_train['Worker ID']+X_train['Repository ID'],columns = ['temp'])\n",
    "t2 = pd.DataFrame(X_test['Worker ID']+X_test['Repository ID'],columns = ['temp'])"
   ]
  },
  {
   "cell_type": "code",
   "execution_count": 12,
   "metadata": {
    "collapsed": true
   },
   "outputs": [],
   "source": [
    "X_test = X_test[~t2['temp'].isin(t1['temp'])]"
   ]
  },
  {
   "cell_type": "code",
   "execution_count": 13,
   "metadata": {},
   "outputs": [
    {
     "data": {
      "text/plain": [
       "0"
      ]
     },
     "execution_count": 13,
     "metadata": {},
     "output_type": "execute_result"
    }
   ],
   "source": [
    "sum(pd.DataFrame(X_test[\"Worker ID\"]+X_test[\"Repository ID\"])[0].isin(t1['temp']))"
   ]
  },
  {
   "cell_type": "code",
   "execution_count": 14,
   "metadata": {},
   "outputs": [
    {
     "data": {
      "text/plain": [
       "(2775, 3)"
      ]
     },
     "execution_count": 14,
     "metadata": {},
     "output_type": "execute_result"
    }
   ],
   "source": [
    "X_test.shape"
   ]
  },
  {
   "cell_type": "code",
   "execution_count": 15,
   "metadata": {},
   "outputs": [
    {
     "data": {
      "text/plain": [
       "945"
      ]
     },
     "execution_count": 15,
     "metadata": {},
     "output_type": "execute_result"
    }
   ],
   "source": [
    "len(list(set(X_test.values[:,0])))"
   ]
  },
  {
   "cell_type": "code",
   "execution_count": 16,
   "metadata": {},
   "outputs": [
    {
     "data": {
      "text/plain": [
       "2321"
      ]
     },
     "execution_count": 16,
     "metadata": {},
     "output_type": "execute_result"
    }
   ],
   "source": [
    "len(list(set(X_train.values[:,0])))"
   ]
  },
  {
   "cell_type": "code",
   "execution_count": 17,
   "metadata": {
    "collapsed": true
   },
   "outputs": [],
   "source": [
    "X_train = X_train.groupby(['Worker ID','Repository ID']).sum().reset_index().values"
   ]
  },
  {
   "cell_type": "code",
   "execution_count": 18,
   "metadata": {},
   "outputs": [
    {
     "data": {
      "text/plain": [
       "0.8748423707440101"
      ]
     },
     "execution_count": 18,
     "metadata": {},
     "output_type": "execute_result"
    }
   ],
   "source": [
    "X_test.shape[0]/X_train.shape[0]"
   ]
  },
  {
   "cell_type": "code",
   "execution_count": 19,
   "metadata": {},
   "outputs": [
    {
     "name": "stdout",
     "output_type": "stream",
     "text": [
      "945\n"
     ]
    }
   ],
   "source": [
    "actual_list = []\n",
    "to_predict_deve = set(X_test['Worker ID'])\n",
    "print(len(to_predict_deve))\n",
    "for dev in to_predict_deve:\n",
    "    repo = X_test[X_test['Worker ID']==dev]['Repository ID'].values\n",
    "    actual_list.append(list(repo))"
   ]
  },
  {
   "cell_type": "code",
   "execution_count": 20,
   "metadata": {
    "collapsed": true
   },
   "outputs": [],
   "source": [
    "import networkx as nx\n",
    "%matplotlib inline\n",
    "from networkx.algorithms import bipartite\n",
    "G_train = nx.Graph()\n",
    "for i,v,j in zip(X_train[:,0],X_train[:,1],X_train[:,2]):\n",
    "    G_train.add_edge(i,v,weight = j)"
   ]
  },
  {
   "cell_type": "code",
   "execution_count": 21,
   "metadata": {
    "collapsed": true
   },
   "outputs": [],
   "source": [
    "nx.write_gml(G_train,'g_2.gml')"
   ]
  },
  {
   "cell_type": "code",
   "execution_count": 22,
   "metadata": {
    "collapsed": true
   },
   "outputs": [],
   "source": [
    "deve_nodes = list(set(X_train[:,0]))"
   ]
  },
  {
   "cell_type": "code",
   "execution_count": 23,
   "metadata": {
    "collapsed": true
   },
   "outputs": [],
   "source": [
    "def normalize(x):\n",
    "    if x==0:\n",
    "        x = 1\n",
    "    else:\n",
    "        x\n",
    "    return x\n",
    "\n",
    "def my_weight(G_train, u, v, weight='weight'):\n",
    "    w = 0\n",
    "    for nbr in set(G_train[u]) & set(G_train[v]):\n",
    "        u_sum = normalize(sum(list(map(lambda x:x['weight'],G_train[u].values()))))\n",
    "        v_sum = normalize(sum(list(map(lambda x:x['weight'],G_train[v].values()))))\n",
    "        nbr_sum = normalize(sum(list(map(lambda x:x['weight'],G_train[nbr].values()))))\n",
    "        \n",
    "        w += (G_train.edge[u][nbr].get(weight,1)/u_sum) * (G_train.edge[v][nbr].get(weight,1)/nbr_sum)\n",
    "        return w \n",
    "    \n",
    "    \n",
    "def jaccard(G, u, v):\n",
    "    unbrs = set(G[u])\n",
    "    vnbrs = set(G[v])\n",
    "    return float(len(unbrs & vnbrs)) / len(unbrs)"
   ]
  },
  {
   "cell_type": "code",
   "execution_count": 24,
   "metadata": {
    "collapsed": true
   },
   "outputs": [],
   "source": [
    "def project_graph(G_train,method = 'binary'):\n",
    "    \n",
    "    if method =='binary':\n",
    "        graph = nx.projected_graph(G_train,deve_nodes)\n",
    "    if method == 'my_weight':\n",
    "        graph = bipartite.generic_weighted_projected_graph(G_train, deve_nodes, weight_function= my_weight)\n",
    "        graph = nx.Graph(graph) \n",
    "    if method == 'jaccard':\n",
    "        graph = bipartite.generic_weighted_projected_graph(G_train, deve_nodes, weight_function= jaccard)\n",
    "        graph = nx.Graph(graph) \n",
    "\n",
    "    return graph\n",
    "\n",
    "for m in ['binary','my_weight','jaccard']:\n",
    "    graph = project_graph(G_train,method = m)\n",
    "    nx.write_gml(graph,m+'.gml')"
   ]
  },
  {
   "cell_type": "code",
   "execution_count": 28,
   "metadata": {},
   "outputs": [],
   "source": [
    "import itertools\n",
    "def neighbors_cluster(node, method = 'binary' ):\n",
    "    \n",
    "    refer = pd.read_csv(method+'.csv').set_index('nodes')    \n",
    "    ml = refer.ix[node,0]\n",
    "    info = refer.ix[node,1]\n",
    "    wt = refer.ix[node,2]\n",
    "    fg = refer.ix[node,3]\n",
    "    lp = refer.ix[node,4]\n",
    "    kmeans = refer.ix[node,5]\n",
    "    gmm = refer.ix[node,6]\n",
    "    \n",
    "    ml_nn = refer[refer['ml_member']==ml].index\n",
    "    wt_nn = refer[refer['wt_member']==wt].index\n",
    "    info_nn = refer[refer['info_member']==info].index\n",
    "    fg_nn = refer[refer['fg_member']==fg].index\n",
    "    lp_nn = refer[refer['lp_member']==lp].index\n",
    "    kmeans_nn = refer[refer['kmeans']==kmeans].index\n",
    "    gmm_nn = refer[refer['gmm']==kmeans].index\n",
    "    \n",
    "    cluster_nn = list(itertools.chain(wt_nn,kmeans_nn,lp_nn,fg_nn,gmm_nn)) #ml_nn,info_nn\n",
    "    \n",
    "    return cluster_nn"
   ]
  },
  {
   "cell_type": "code",
   "execution_count": 30,
   "metadata": {},
   "outputs": [],
   "source": [
    "def neighbors_cluster_weighted(node, method = 'binary'):\n",
    "    \n",
    "    refer = pd.read_csv(method+'.csv').set_index('nodes') \n",
    "    \n",
    "    ml = refer.ix[node,0]\n",
    "    info = refer.ix[node,1]\n",
    "    wt = refer.ix[node,2]\n",
    "    fg = refer.ix[node,3]\n",
    "    lp = refer.ix[node,4]\n",
    "    kmeans = refer.ix[node,5]\n",
    "    gmm = refer.ix[node,6]\n",
    "    \n",
    "    ml_nn = refer[refer['ml_member']==ml].index\n",
    "    wt_nn = refer[refer['wt_member']==wt].index\n",
    "    info_nn = refer[refer['info_member']==info].index\n",
    "    fg_nn = refer[refer['fg_member']==fg].index\n",
    "    lp_nn = refer[refer['lp_member']==lp].index\n",
    "    kmeans_nn = refer[refer['kmeans']==kmeans].index\n",
    "    gmm_nn = refer[refer['gmm']==kmeans].index\n",
    "    \n",
    "\n",
    "    \n",
    "    return wt_nn,kmeans_nn,ml_nn,info_nn,fg_nn,lp_nn,gmm_nn"
   ]
  },
  {
   "cell_type": "code",
   "execution_count": 31,
   "metadata": {
    "collapsed": true
   },
   "outputs": [],
   "source": [
    "K = 100\n",
    "def limit_k(rs_list, k = K):\n",
    "    if len(rs_list)<k:\n",
    "        return rs_list\n",
    "    else:\n",
    "        return rs_list[:k]  "
   ]
  },
  {
   "cell_type": "code",
   "execution_count": 34,
   "metadata": {
    "collapsed": true
   },
   "outputs": [],
   "source": [
    "def ensemble_similarity(node,wf):\n",
    "    \n",
    "    nns = bipartite.generic_weighted_projected_graph(G_train, [node], weight_function= wf).edges(data=True)\n",
    "    cluster_nn = neighbors_cluster(node,method = 'binary')\n",
    "    \n",
    "    dict_rs = dict()\n",
    "    \n",
    "    for nn_sug in nns:\n",
    "        nn = nn_sug[1]\n",
    "        we = nn_sug[2]['weight']\n",
    "        \n",
    "        for repo_sug in G_train[nn].items():\n",
    "            repo = repo_sug[0]\n",
    "            ce = repo_sug[1]['weight']\n",
    "            dict_rs[repo] = dict_rs.get(repo,0.0) + ce*np.exp(we)\n",
    "\n",
    "        \n",
    "    for nn in cluster_nn:\n",
    "        for repo_sug in G_train[nn].items():\n",
    "            repo = repo_sug[0]\n",
    "            ce = repo_sug[1]['weight']\n",
    "            dict_rs[repo] = dict_rs.get(repo,0.0) + ce*1\n",
    "        \n",
    "        \n",
    "    rs_list = sorted(dict_rs.items(),key = lambda x:x[1],reverse = True)\n",
    "    \n",
    "    rs_list = limit_k(rs_list)\n",
    "    \n",
    "    rs_list = list(map(lambda x: x[0],rs_list))\n",
    "    \n",
    "    return rs_list"
   ]
  },
  {
   "cell_type": "code",
   "execution_count": 50,
   "metadata": {
    "collapsed": true
   },
   "outputs": [],
   "source": [
    "def community_weight(method = 'binary'):\n",
    "    \n",
    "    df = pd.read_csv(method +'.csv').set_index('nodes')\n",
    "    wt_w = len(df['wt_member'].unique())/100\n",
    "    ml_w = len(df['ml_member'].unique())/100\n",
    "    info_w = len(df['info_member'].unique())/100\n",
    "    fg_w = len(df['fg_member'].unique())/100\n",
    "    lp_w = len(df['lp_member'].unique())/100\n",
    "    \n",
    "    return wt_w,ml_w,info_w,fg_w,lp_w"
   ]
  },
  {
   "cell_type": "code",
   "execution_count": 36,
   "metadata": {
    "collapsed": true
   },
   "outputs": [],
   "source": [
    "def ensemble_similarity_weighted(node,wf,method = 'binary'):\n",
    "    \n",
    "    nns = bipartite.generic_weighted_projected_graph(G_train, [node], weight_function= wf).edges(data=True)\n",
    "    \n",
    "    wt_nn,kmeans_nn,ml_nn,info_nn,fg_nn,lp_nn,gmm_nn = neighbors_cluster_weighted(node, method = 'binary')\n",
    "    \n",
    "    wt_w,ml_w,info_w,fg_w,lp_w = community_weight()\n",
    "     \n",
    "    dict_rs = dict()\n",
    "    \n",
    "    for nn_sug in nns:\n",
    "        nn = nn_sug[1]\n",
    "        we = nn_sug[2]['weight']\n",
    "        \n",
    "        for repo_sug in G_train[nn].items():\n",
    "            repo = repo_sug[0]\n",
    "            ce = repo_sug[1]['weight']\n",
    "            dict_rs[repo] = dict_rs.get(repo,0.0) + ce*np.exp(we)\n",
    "\n",
    "        \n",
    "    for nn in wt_nn:\n",
    "        for repo_sug in G_train[nn].items():\n",
    "            repo = repo_sug[0]\n",
    "            ce = repo_sug[1]['weight']\n",
    "            dict_rs[repo] = dict_rs.get(repo,0.0) + ce*wt_w\n",
    "\n",
    "    for nn in ml_nn:\n",
    "        for repo_sug in G_train[nn].items():\n",
    "            repo = repo_sug[0]\n",
    "            ce = repo_sug[1]['weight']\n",
    "            dict_rs[repo] = dict_rs.get(repo,0.0) + ce*ml_w\n",
    "\n",
    "    for nn in info_nn:\n",
    "        for repo_sug in G_train[nn].items():\n",
    "            repo = repo_sug[0]\n",
    "            ce = repo_sug[1]['weight']\n",
    "            dict_rs[repo] = dict_rs.get(repo,0.0) + ce*info_w\n",
    "            \n",
    "    for nn in kmeans_nn:\n",
    "        for repo_sug in G_train[nn].items():\n",
    "            repo = repo_sug[0]\n",
    "            ce = repo_sug[1]['weight']\n",
    "            dict_rs[repo] = dict_rs.get(repo,0.0) + ce*n_clusters/100\n",
    "            \n",
    "    for nn in fg_nn:\n",
    "        for repo_sug in G_train[nn].items():\n",
    "            repo = repo_sug[0]\n",
    "            ce = repo_sug[1]['weight']\n",
    "            dict_rs[repo] = dict_rs.get(repo,0.0) + ce*fg_w\n",
    "            \n",
    "    for nn in lp_nn:\n",
    "        for repo_sug in G_train[nn].items():\n",
    "            repo = repo_sug[0]\n",
    "            ce = repo_sug[1]['weight']\n",
    "            dict_rs[repo] = dict_rs.get(repo,0.0) + ce*lp_w\n",
    "            \n",
    "    for nn in gmm_nn:\n",
    "        for repo_sug in G_train[nn].items():\n",
    "            repo = repo_sug[0]\n",
    "            ce = repo_sug[1]['weight']\n",
    "            dict_rs[repo] = dict_rs.get(repo,0.0) + ce*cluster_gmm/100\n",
    "        \n",
    "        \n",
    "    rs_list = sorted(dict_rs.items(),key = lambda x:x[1],reverse = True)\n",
    "    \n",
    "    rs_list = limit_k(rs_list)\n",
    "    \n",
    "    rs_list = list(map(lambda x: x[0],rs_list))\n",
    "    \n",
    "    return rs_list"
   ]
  },
  {
   "cell_type": "code",
   "execution_count": 37,
   "metadata": {
    "collapsed": true
   },
   "outputs": [],
   "source": [
    "def projection_similarity(node,wf):\n",
    "    nns = bipartite.generic_weighted_projected_graph(G_train, [node], weight_function= wf).edges(data=True)\n",
    "    \n",
    "    dict_rs = dict()\n",
    "    \n",
    "    for nn_sug in nns:\n",
    "        nn = nn_sug[1]\n",
    "        we = nn_sug[2]['weight']\n",
    "        \n",
    "        for repo_sug in G_train[nn].items():\n",
    "            repo = repo_sug[0]\n",
    "            ce = repo_sug[1]['weight']\n",
    "            dict_rs[repo] = dict_rs.get(repo,0.0) + ce*np.exp(we)\n",
    "        \n",
    "        \n",
    "    rs_list = sorted(dict_rs.items(),key = lambda x:x[1],reverse = True)\n",
    "    \n",
    "    rs_list = limit_k(rs_list)\n",
    "    \n",
    "    rs_list = list(map(lambda x: x[0],rs_list))\n",
    "    \n",
    "    return rs_list"
   ]
  },
  {
   "cell_type": "code",
   "execution_count": 38,
   "metadata": {
    "collapsed": true
   },
   "outputs": [],
   "source": [
    "def cluster_similarity(node):\n",
    "    \n",
    "    dict_rs = dict()\n",
    "    cluster_nn = neighbors_cluster(node, method = 'binary')\n",
    "\n",
    "    for nn in cluster_nn:\n",
    "        for repo_sug in G_train[nn].items():\n",
    "            repo = repo_sug[0]\n",
    "            ce = repo_sug[1]['weight']\n",
    "            dict_rs[repo] = dict_rs.get(repo,0.0) + ce\n",
    "        \n",
    "        \n",
    "    rs_list = sorted(dict_rs.items(),key = lambda x:x[1],reverse = True)\n",
    "    \n",
    "    rs_list = limit_k(rs_list)\n",
    "    \n",
    "    rs_list = list(map(lambda x: x[0],rs_list))\n",
    "    \n",
    "    return rs_list"
   ]
  },
  {
   "cell_type": "code",
   "execution_count": 39,
   "metadata": {
    "collapsed": true
   },
   "outputs": [],
   "source": [
    "def cluster_similarity_weighted(node):\n",
    "    \n",
    "    dict_rs = dict()\n",
    "    \n",
    "    wt_nn,kmeans_nn,ml_nn,info_nn,fg_nn,lp_nn,gmm_nn = neighbors_cluster_weighted(node, method = 'binary')\n",
    "    \n",
    "    wt_w,ml_w,info_w,fg_w,lp_w = community_weight()\n",
    "\n",
    "    for nn in wt_nn:\n",
    "        for repo_sug in G_train[nn].items():\n",
    "            repo = repo_sug[0]\n",
    "            ce = repo_sug[1]['weight']\n",
    "            dict_rs[repo] = dict_rs.get(repo,0.0) + ce*wt_w\n",
    "\n",
    "    for nn in ml_nn:\n",
    "        for repo_sug in G_train[nn].items():\n",
    "            repo = repo_sug[0]\n",
    "            ce = repo_sug[1]['weight']\n",
    "            dict_rs[repo] = dict_rs.get(repo,0.0) + ce*ml_w\n",
    "\n",
    "    for nn in info_nn:\n",
    "        for repo_sug in G_train[nn].items():\n",
    "            repo = repo_sug[0]\n",
    "            ce = repo_sug[1]['weight']\n",
    "            dict_rs[repo] = dict_rs.get(repo,0.0) + ce*info_w\n",
    "            \n",
    "    for nn in kmeans_nn:\n",
    "        for repo_sug in G_train[nn].items():\n",
    "            repo = repo_sug[0]\n",
    "            ce = repo_sug[1]['weight']\n",
    "            dict_rs[repo] = dict_rs.get(repo,0.0) + ce*n_clusters/100\n",
    "            \n",
    "    for nn in fg_nn:\n",
    "        for repo_sug in G_train[nn].items():\n",
    "            repo = repo_sug[0]\n",
    "            ce = repo_sug[1]['weight']\n",
    "            dict_rs[repo] = dict_rs.get(repo,0.0) + ce*fg_w\n",
    "            \n",
    "    for nn in lp_nn:\n",
    "        for repo_sug in G_train[nn].items():\n",
    "            repo = repo_sug[0]\n",
    "            ce = repo_sug[1]['weight']\n",
    "            dict_rs[repo] = dict_rs.get(repo,0.0) + ce*lp_w\n",
    "\n",
    "    for nn in gmm_nn:\n",
    "        for repo_sug in G_train[nn].items():\n",
    "            repo = repo_sug[0]\n",
    "            ce = repo_sug[1]['weight']\n",
    "            dict_rs[repo] = dict_rs.get(repo,0.0) + ce*cluster_gmm/100\n",
    "        \n",
    "        \n",
    "        \n",
    "    rs_list = sorted(dict_rs.items(),key = lambda x:x[1],reverse = True)\n",
    "    \n",
    "    rs_list = limit_k(rs_list)\n",
    "    \n",
    "    rs_list = list(map(lambda x: x[0],rs_list))\n",
    "    \n",
    "    return rs_list"
   ]
  },
  {
   "cell_type": "code",
   "execution_count": 40,
   "metadata": {
    "collapsed": true
   },
   "outputs": [],
   "source": [
    "def accuracy(actual, predicted, k= K):\n",
    "    if len(predicted)>k:\n",
    "        predicted = predicted[:k]\n",
    "    \n",
    "    eva = [p for p in predicted if p in actual]\n",
    "    \n",
    "    if len(eva)!=0:\n",
    "        score  = 1\n",
    "    else:\n",
    "        score = 0 \n",
    "\n",
    "    return score \n",
    "\n",
    "def accuracy_mean(actual_list, predicted_list, k= 20):\n",
    "\n",
    "    return np.mean([accuracy(a,p,k) for a,p in zip(actual_list, predicted_list)])\n",
    "    "
   ]
  },
  {
   "cell_type": "code",
   "execution_count": 41,
   "metadata": {
    "collapsed": true
   },
   "outputs": [],
   "source": [
    "def apk(actual, predicted, k= K):\n",
    "    \"\"\"\n",
    "    Computes the average precision at k.\n",
    "    This function computes the average prescision at k between two lists of\n",
    "    items.\n",
    "    Parameters\n",
    "    ----------\n",
    "    actual : list\n",
    "             A list of elements that are to be predicted (order doesn't matter)\n",
    "    predicted : list\n",
    "                A list of predicted elements (order does matter)\n",
    "    k : int, optional\n",
    "        The maximum number of predicted elements\n",
    "    Returns\n",
    "    -------\n",
    "    score : double\n",
    "            The average precision at k over the input lists\n",
    "    \"\"\"\n",
    "    if len(predicted)>k:\n",
    "        predicted = predicted[:k]\n",
    "\n",
    "    score = 0.0\n",
    "    num_hits = 0.0\n",
    "\n",
    "    for i,p in enumerate(predicted):\n",
    "        if p in actual and p not in predicted[:i]:\n",
    "            num_hits += 1.0\n",
    "            score += num_hits / (i+1.0)\n",
    "\n",
    "    if not actual:\n",
    "        return 0.0\n",
    "\n",
    "    return score / min(len(actual), k)\n",
    "\n",
    "def mapk(actual_list, predicted_list, k= 20):\n",
    "    \"\"\"\n",
    "    Computes the mean average precision at k.\n",
    "    This function computes the mean average prescision at k between two lists\n",
    "    of lists of items.\n",
    "    Parameters\n",
    "    ----------\n",
    "    actual : list\n",
    "             A list of lists of elements that are to be predicted \n",
    "             (order doesn't matter in the lists)\n",
    "    predicted : list\n",
    "                A list of lists of predicted elements\n",
    "                (order matters in the lists)\n",
    "    k : int, optional\n",
    "        The maximum number of predicted elements\n",
    "    Returns\n",
    "    -------\n",
    "    score : double\n",
    "            The mean average precision at k over the input lists\n",
    "            \n",
    "    \"\"\"\n",
    "    return np.mean([apk(a,p,k) for a,p in zip(actual_list, predicted_list)])"
   ]
  },
  {
   "cell_type": "code",
   "execution_count": 42,
   "metadata": {
    "collapsed": true
   },
   "outputs": [],
   "source": [
    "def similarity_rs(node_list, choice = \"projection_similarity\",wf = my_weight):\n",
    "    \n",
    "    tp = data[data['Month, Day, Year of Date']<'2015-07-08'].groupby(['Worker ID','Repository ID']).sum().reset_index()\n",
    "    \n",
    "    dict_rs = dict()\n",
    "    \n",
    "    for node in node_list:\n",
    "        if choice == 'projection_similarity':\n",
    "             rs_list = projection_similarity(node,wf)\n",
    "        if choice == 'cluster_similarity':\n",
    "             rs_list = cluster_similarity(node)\n",
    "        if choice == 'cluster_similarity_weighted':\n",
    "             rs_list = cluster_similarity_weighted(node)\n",
    "        if choice == 'ensemble_similarity_weighted':\n",
    "             rs_list = ensemble_similarity_weighted(node,wf)\n",
    "        if choice == 'ensemble_similarity':\n",
    "             rs_list = ensemble_similarity(node,wf)\n",
    "        if choice == 'ensemble_similarity_weighted_half':\n",
    "            rs_list=[]\n",
    "            rs_list1 = cluster_similarity_weighted(node)\n",
    "            rs_list2 = projection_similarity(node,wf)\n",
    "            for p, sw in zip(rs_list2, rs_list1):\n",
    "                rs_list.append(p)\n",
    "                rs_list.append(sw)\n",
    "            rs_list = limit_k(list(set(rs_list)),k=100)\n",
    "            \n",
    "            \n",
    "        old = tp[tp['Worker ID']==node]['Repository ID']\n",
    "        rs_list = [i for i in rs_list if i not in old]\n",
    "            \n",
    "    \n",
    "        dict_rs[node] = rs_list\n",
    "    \n",
    "    return dict_rs"
   ]
  },
  {
   "cell_type": "code",
   "execution_count": null,
   "metadata": {
    "collapsed": true
   },
   "outputs": [],
   "source": []
  },
  {
   "cell_type": "markdown",
   "metadata": {},
   "source": [
    "**Base Model:** binary projection + cluster + community detection\n",
    "\n",
    "** Models:** \n",
    "* my_weight projection \n",
    "* jaccard projection\n",
    "* my_weight projection + cluster \n",
    "* jaccard projection + cluster \n",
    "* my_weight projection + cluster weighted \n",
    "* jaccard projection + cluster weighted\n"
   ]
  },
  {
   "cell_type": "code",
   "execution_count": 43,
   "metadata": {
    "collapsed": true
   },
   "outputs": [],
   "source": [
    "cluster_gmm = 75\n",
    "n_clusters= 20\n",
    "top_K = 10"
   ]
  },
  {
   "cell_type": "markdown",
   "metadata": {},
   "source": [
    "# baseline model"
   ]
  },
  {
   "cell_type": "code",
   "execution_count": 44,
   "metadata": {},
   "outputs": [],
   "source": [
    "method = 'binary'\n",
    "\n",
    "y_predict_dict_c = similarity_rs(to_predict_deve, choice = \"cluster_similarity\",wf = my_weight)"
   ]
  },
  {
   "cell_type": "code",
   "execution_count": 45,
   "metadata": {},
   "outputs": [
    {
     "name": "stdout",
     "output_type": "stream",
     "text": [
      "0.293121693122\n",
      "0.0798091948714\n"
     ]
    }
   ],
   "source": [
    "print(accuracy_mean(actual_list, y_predict_dict_c.values(), k=  top_K))\n",
    "print(mapk(actual_list, y_predict_dict_c.values(), k= top_K))"
   ]
  },
  {
   "cell_type": "markdown",
   "metadata": {},
   "source": [
    "# Weighted Projection"
   ]
  },
  {
   "cell_type": "code",
   "execution_count": 46,
   "metadata": {
    "collapsed": true
   },
   "outputs": [],
   "source": [
    "y_predict_dict_p = similarity_rs(to_predict_deve, choice = \"projection_similarity\",wf = my_weight)\n",
    "y_predict_dict_p_j = similarity_rs(to_predict_deve, choice = \"projection_similarity\",wf = jaccard)"
   ]
  },
  {
   "cell_type": "code",
   "execution_count": 47,
   "metadata": {},
   "outputs": [
    {
     "name": "stdout",
     "output_type": "stream",
     "text": [
      "0.500529100529\n",
      "0.500529100529\n",
      "0.146479660824\n",
      "0.146488262207\n"
     ]
    }
   ],
   "source": [
    "print(accuracy_mean(actual_list, y_predict_dict_p.values(), k=  top_K))\n",
    "print(accuracy_mean(actual_list, y_predict_dict_p_j.values(), k=  top_K))\n",
    "print(mapk(actual_list, y_predict_dict_p.values(), k= top_K))\n",
    "print(mapk(actual_list, y_predict_dict_p_j.values(), k= top_K))"
   ]
  },
  {
   "cell_type": "markdown",
   "metadata": {},
   "source": [
    "# Cluster on Binary Ensemble"
   ]
  },
  {
   "cell_type": "code",
   "execution_count": 51,
   "metadata": {},
   "outputs": [],
   "source": [
    "method = 'binary'\n",
    "\n",
    "y_predict_dict_c_w = similarity_rs(to_predict_deve, choice = \"cluster_similarity_weighted\",wf = my_weight)\n",
    "y_predict_dict_e = similarity_rs(to_predict_deve, choice = \"ensemble_similarity\",wf = my_weight)\n",
    "y_predict_dict_e_w = similarity_rs(to_predict_deve, choice = \"ensemble_similarity_weighted\",wf = my_weight)\n",
    "y_predict_dict_e_w_h = similarity_rs(to_predict_deve, choice = \"ensemble_similarity_weighted_half\",wf = my_weight)"
   ]
  },
  {
   "cell_type": "code",
   "execution_count": 52,
   "metadata": {},
   "outputs": [
    {
     "name": "stdout",
     "output_type": "stream",
     "text": [
      "0.447619047619\n",
      "0.146583506301\n",
      "---\n",
      "0.301587301587\n",
      "0.0824225263984\n",
      "---\n",
      "0.448677248677\n",
      "0.146797750023\n",
      "---\n",
      "0.47619047619\n",
      "0.177189410058\n"
     ]
    }
   ],
   "source": [
    "print(accuracy_mean(actual_list, y_predict_dict_c_w.values(), k=  top_K))\n",
    "print(mapk(actual_list, y_predict_dict_c_w.values(), k= top_K))\n",
    "print('---')\n",
    "print(accuracy_mean(actual_list, y_predict_dict_e.values(), k=  top_K))\n",
    "print(mapk(actual_list, y_predict_dict_e.values(), k= top_K))\n",
    "print('---')\n",
    "print(accuracy_mean(actual_list, y_predict_dict_e_w.values(), k=  top_K))\n",
    "print(mapk(actual_list, y_predict_dict_e_w.values(), k= top_K))\n",
    "print('---')\n",
    "print(accuracy_mean(actual_list, y_predict_dict_e_w_h.values(), k=  top_K))\n",
    "print(mapk(actual_list, y_predict_dict_e_w_h.values(), k= top_K))"
   ]
  },
  {
   "cell_type": "code",
   "execution_count": 53,
   "metadata": {
    "collapsed": true
   },
   "outputs": [],
   "source": [
    "y_predict_dict_c_w = similarity_rs(to_predict_deve, choice = \"cluster_similarity_weighted\",wf = jaccard)\n",
    "y_predict_dict_e = similarity_rs(to_predict_deve, choice = \"ensemble_similarity\",wf = jaccard)\n",
    "y_predict_dict_e_w = similarity_rs(to_predict_deve, choice = \"ensemble_similarity_weighted\",wf = jaccard)\n",
    "y_predict_dict_e_w_h = similarity_rs(to_predict_deve, choice = \"ensemble_similarity_weighted_half\",wf = jaccard)"
   ]
  },
  {
   "cell_type": "code",
   "execution_count": 54,
   "metadata": {},
   "outputs": [
    {
     "name": "stdout",
     "output_type": "stream",
     "text": [
      "0.447619047619\n",
      "0.146583506301\n",
      "---\n",
      "0.316402116402\n",
      "0.0874192861742\n",
      "---\n",
      "0.448677248677\n",
      "0.147629809596\n",
      "---\n",
      "0.47619047619\n",
      "0.17711854838\n"
     ]
    }
   ],
   "source": [
    "print(accuracy_mean(actual_list, y_predict_dict_c_w.values(), k=  top_K))\n",
    "print(mapk(actual_list, y_predict_dict_c_w.values(), k= top_K))\n",
    "print('---')\n",
    "print(accuracy_mean(actual_list, y_predict_dict_e.values(), k=  top_K))\n",
    "print(mapk(actual_list, y_predict_dict_e.values(), k= top_K))\n",
    "print('---')\n",
    "print(accuracy_mean(actual_list, y_predict_dict_e_w.values(), k=  top_K))\n",
    "print(mapk(actual_list, y_predict_dict_e_w.values(), k= top_K))\n",
    "print('---')\n",
    "print(accuracy_mean(actual_list, y_predict_dict_e_w_h.values(), k=  top_K))\n",
    "print(mapk(actual_list, y_predict_dict_e_w_h.values(), k= top_K))"
   ]
  },
  {
   "cell_type": "code",
   "execution_count": null,
   "metadata": {
    "collapsed": true
   },
   "outputs": [],
   "source": []
  },
  {
   "cell_type": "code",
   "execution_count": null,
   "metadata": {
    "collapsed": true
   },
   "outputs": [],
   "source": []
  },
  {
   "cell_type": "code",
   "execution_count": null,
   "metadata": {
    "collapsed": true
   },
   "outputs": [],
   "source": []
  },
  {
   "cell_type": "code",
   "execution_count": null,
   "metadata": {
    "collapsed": true
   },
   "outputs": [],
   "source": []
  },
  {
   "cell_type": "code",
   "execution_count": 268,
   "metadata": {
    "collapsed": true
   },
   "outputs": [],
   "source": [
    "## R run associated graph\n",
    "    \n",
    "def generate_communities(method = method):\n",
    "    \n",
    "    print(method)\n",
    "    \n",
    "    wt = pd.read_csv('wt_df.csv')\n",
    "    wt.columns = ['wt_member','nodes']\n",
    "    ml = pd.read_csv('ml_df.csv')\n",
    "    ml.columns = ['ml_member','nodes']\n",
    "\n",
    "    info = pd.read_csv('info_df.csv')\n",
    "    info.columns = ['info_member','nodes']\n",
    "\n",
    "    fg = pd.read_csv('fg_df.csv')\n",
    "    fg.columns = ['fg_member','nodes']\n",
    "\n",
    "    lp = pd.read_csv('lp_df.csv')\n",
    "    lp.columns = ['lp_member','nodes']\n",
    "    \n",
    "    temp = pd.merge(ml,info, how='inner', on='nodes')\n",
    "    temp = pd.merge(temp,wt, how='inner', on='nodes')\n",
    "    temp = pd.merge(temp,fg, how='inner', on='nodes')\n",
    "    temp = pd.merge(temp,lp, how='inner', on='nodes')\n",
    "    \n",
    "    graph = project_graph(G_train,method = method)\n",
    "    \n",
    "    \n",
    "    degree_df = pd.DataFrame.from_dict({'nodes':list(nx.degree(graph).keys()),'Degree':list(nx.degree(graph).values())})\n",
    "    betweenness_df = pd.DataFrame({'between':list(nx.betweenness_centrality(graph).values())})\n",
    "    close_df = pd.DataFrame({'close':list(nx.closeness_centrality(graph).values())})\n",
    "    eigen_df = pd.DataFrame({'eigen':list(nx.eigenvector_centrality_numpy(graph).values())})\n",
    "    pager_df = pd.DataFrame({'pagerank':list(nx.pagerank(graph).values())})\n",
    "\n",
    "    temp2 = pd.concat([degree_df,betweenness_df,close_df,eigen_df,pager_df],axis = 1,join = 'inner')\n",
    "    temp2 = temp2[temp2['nodes'].isin(deve_nodes)].set_index('nodes')\n",
    "    \n",
    "    \n",
    "    return temp, temp2"
   ]
  },
  {
   "cell_type": "code",
   "execution_count": null,
   "metadata": {
    "collapsed": true
   },
   "outputs": [],
   "source": []
  },
  {
   "cell_type": "code",
   "execution_count": 373,
   "metadata": {},
   "outputs": [
    {
     "name": "stdout",
     "output_type": "stream",
     "text": [
      "binary\n"
     ]
    }
   ],
   "source": [
    "## R run associated graph\n",
    "\n",
    "method = 'binary' # my_weight, jaccard,binary\n",
    "\n",
    "temp, temp2 = generate_communities(method = method)\n",
    "X_kmeans = temp2.values\n",
    "X_kmeans_exp = np.exp(X_kmeans)"
   ]
  },
  {
   "cell_type": "markdown",
   "metadata": {},
   "source": [
    "dict_cluster_n = {\n",
    "    'binary': 20,\n",
    "    'my_weight':20,\n",
    "    'jaccard': 20\n",
    "}"
   ]
  },
  {
   "cell_type": "code",
   "execution_count": 374,
   "metadata": {
    "collapsed": true
   },
   "outputs": [],
   "source": [
    "n_clusters= 20\n",
    "kmeans = KMeans(n_clusters= n_clusters).fit(X_kmeans)\n",
    "kmeans_assign = kmeans.labels_\n",
    "kmeans_df = pd.DataFrame(np.asarray([temp2.index, kmeans_assign]).T,columns = ['nodes','kmeans'])"
   ]
  },
  {
   "cell_type": "code",
   "execution_count": 118,
   "metadata": {},
   "outputs": [
    {
     "data": {
      "text/plain": [
       "0"
      ]
     },
     "execution_count": 118,
     "metadata": {},
     "output_type": "execute_result"
    }
   ],
   "source": [
    "sum(list(map(lambda x:x.lower()!=x,to_predict_deve)))"
   ]
  },
  {
   "cell_type": "code",
   "execution_count": 306,
   "metadata": {
    "collapsed": true
   },
   "outputs": [],
   "source": [
    "from sklearn.cluster import KMeans\n",
    "from scipy.spatial.distance import cdist\n",
    "\n",
    "K = range(1,100)\n",
    "distortions = []\n",
    "for k in K:\n",
    "    kmeanModel = KMeans(n_clusters=k).fit(X_kmeans)\n",
    "    kmeanModel.fit(X_kmeans)\n",
    "    distortions.append(sum(np.min(cdist(X_kmeans, kmeanModel.cluster_centers_, 'cosine'), axis=1)) / X_kmeans.shape[0])"
   ]
  },
  {
   "cell_type": "code",
   "execution_count": 307,
   "metadata": {},
   "outputs": [
    {
     "data": {
      "image/png": "[encoded data removed]",
      "text/plain": [
       "<matplotlib.figure.Figure at 0x258a3a45c0>"
      ]
     },
     "metadata": {},
     "output_type": "display_data"
    }
   ],
   "source": [
    "plt.plot(K, distortions, 'bx-')\n",
    "plt.xlabel('k')\n",
    "plt.ylabel('Distortion')\n",
    "plt.title('The Elbow Method showing the optimal k')\n",
    "plt.savefig('elbow'+method+'.png')"
   ]
  },
  {
   "cell_type": "code",
   "execution_count": 330,
   "metadata": {},
   "outputs": [
    {
     "name": "stdout",
     "output_type": "stream",
     "text": [
      "[t-SNE] Computing 61 nearest neighbors...\n",
      "[t-SNE] Indexed 2321 samples in 0.001s...\n",
      "[t-SNE] Computed neighbors for 2321 samples in 0.033s...\n",
      "[t-SNE] Computed conditional probabilities for sample 1000 / 2321\n",
      "[t-SNE] Computed conditional probabilities for sample 2000 / 2321\n",
      "[t-SNE] Computed conditional probabilities for sample 2321 / 2321\n",
      "[t-SNE] Mean sigma: 0.000000\n",
      "[t-SNE] Computed conditional probabilities in 0.444s\n",
      "[t-SNE] Iteration 50: error = 65.0737839, gradient norm = 0.0784026 (50 iterations in 3.001s)\n",
      "[t-SNE] Iteration 100: error = 54.1281204, gradient norm = 0.0433606 (50 iterations in 2.012s)\n",
      "[t-SNE] Iteration 150: error = 50.8491364, gradient norm = 0.0328969 (50 iterations in 1.833s)\n",
      "[t-SNE] Iteration 200: error = 49.1697311, gradient norm = 0.0271565 (50 iterations in 1.800s)\n",
      "[t-SNE] Iteration 250: error = 48.1040573, gradient norm = 0.0239064 (50 iterations in 1.784s)\n",
      "[t-SNE] KL divergence after 250 iterations with early exaggeration: 48.104057\n",
      "[t-SNE] Iteration 300: error = 0.6486860, gradient norm = 0.0010407 (50 iterations in 1.857s)\n",
      "[t-SNE] Iteration 350: error = 0.3954384, gradient norm = 0.0004290 (50 iterations in 1.936s)\n",
      "[t-SNE] Iteration 400: error = 0.3147992, gradient norm = 0.0002585 (50 iterations in 1.926s)\n",
      "[t-SNE] Iteration 450: error = 0.2787561, gradient norm = 0.0002086 (50 iterations in 1.907s)\n",
      "[t-SNE] Iteration 500: error = 0.2607588, gradient norm = 0.0001762 (50 iterations in 1.926s)\n",
      "[t-SNE] Iteration 550: error = 0.2483606, gradient norm = 0.0001518 (50 iterations in 1.942s)\n",
      "[t-SNE] Iteration 600: error = 0.2388256, gradient norm = 0.0001406 (50 iterations in 1.941s)\n",
      "[t-SNE] Iteration 650: error = 0.2314888, gradient norm = 0.0001260 (50 iterations in 1.925s)\n",
      "[t-SNE] Iteration 700: error = 0.2267516, gradient norm = 0.0001251 (50 iterations in 1.924s)\n",
      "[t-SNE] Iteration 750: error = 0.2199907, gradient norm = 0.0001129 (50 iterations in 1.930s)\n",
      "[t-SNE] Iteration 800: error = 0.2159270, gradient norm = 0.0001136 (50 iterations in 1.998s)\n",
      "[t-SNE] Iteration 850: error = 0.2138048, gradient norm = 0.0001121 (50 iterations in 2.083s)\n",
      "[t-SNE] Iteration 900: error = 0.2118042, gradient norm = 0.0001049 (50 iterations in 2.107s)\n",
      "[t-SNE] Iteration 950: error = 0.2095231, gradient norm = 0.0001099 (50 iterations in 1.968s)\n",
      "[t-SNE] Iteration 1000: error = 0.2061193, gradient norm = 0.0000930 (50 iterations in 1.942s)\n",
      "[t-SNE] Error after 1000 iterations: 0.206119\n"
     ]
    }
   ],
   "source": [
    "from sklearn.manifold import TSNE\n",
    "X_tsne = TSNE(n_components=2, perplexity=20, verbose=2).fit_transform(X_kmeans)"
   ]
  },
  {
   "cell_type": "code",
   "execution_count": 331,
   "metadata": {},
   "outputs": [
    {
     "data": {
      "text/plain": [
       "<seaborn.axisgrid.FacetGrid at 0x258b9b7080>"
      ]
     },
     "execution_count": 331,
     "metadata": {},
     "output_type": "execute_result"
    },
    {
     "data": {
      "image/png": "[encoded data removed]",
      "text/plain": [
       "<matplotlib.figure.Figure at 0x258b99ecc0>"
      ]
     },
     "metadata": {},
     "output_type": "display_data"
    }
   ],
   "source": [
    "import seaborn as sns\n",
    "tsne_df = pd.DataFrame(np.append(X_tsne.T,[kmeans_assign],0).T,columns = ['x','y','c'])\n",
    "sns.lmplot('x', 'y',data = tsne_df, hue='c',size = 5,fit_reg = False)"
   ]
  },
  {
   "cell_type": "code",
   "execution_count": 628,
   "metadata": {
    "collapsed": true
   },
   "outputs": [],
   "source": []
  },
  {
   "cell_type": "code",
   "execution_count": 375,
   "metadata": {
    "collapsed": true
   },
   "outputs": [],
   "source": [
    "from sklearn import mixture\n",
    "n_components_range = range(1, 100)\n",
    "\n",
    "bic = []\n",
    "lowest_bic = np.infty\n",
    "\n",
    "\n",
    "for n_components in n_components_range:\n",
    "    gmm = mixture.GaussianMixture(n_components=n_components,\n",
    "                                  covariance_type='full')\n",
    "    gmm.fit(X_kmeans)\n",
    "    bic.append(gmm.bic(X_kmeans))\n",
    "    if bic[-1] < lowest_bic:\n",
    "        lowest_bic = bic[-1]\n",
    "        best_gmm  = gmm"
   ]
  },
  {
   "cell_type": "code",
   "execution_count": 376,
   "metadata": {},
   "outputs": [
    {
     "data": {
      "text/plain": [
       "-107377.34124728364"
      ]
     },
     "execution_count": 376,
     "metadata": {},
     "output_type": "execute_result"
    }
   ],
   "source": [
    "lowest_bic"
   ]
  },
  {
   "cell_type": "code",
   "execution_count": 377,
   "metadata": {},
   "outputs": [
    {
     "data": {
      "text/plain": [
       "GaussianMixture(covariance_type='full', init_params='kmeans', max_iter=100,\n",
       "        means_init=None, n_components=74, n_init=1, precisions_init=None,\n",
       "        random_state=None, reg_covar=1e-06, tol=0.001, verbose=0,\n",
       "        verbose_interval=10, warm_start=False, weights_init=None)"
      ]
     },
     "execution_count": 377,
     "metadata": {},
     "output_type": "execute_result"
    }
   ],
   "source": [
    "best_gmm"
   ]
  },
  {
   "cell_type": "code",
   "execution_count": 378,
   "metadata": {},
   "outputs": [
    {
     "data": {
      "text/plain": [
       "array([ 2,  0, 18, ..., 57, 25, 65], dtype=int64)"
      ]
     },
     "execution_count": 378,
     "metadata": {},
     "output_type": "execute_result"
    }
   ],
   "source": [
    "gmm_cluster = 75\n",
    "best_gmm.predict(X_kmeans)"
   ]
  },
  {
   "cell_type": "code",
   "execution_count": 379,
   "metadata": {
    "collapsed": true
   },
   "outputs": [],
   "source": [
    "gmm_df = pd.DataFrame(np.asarray([temp2.index, best_gmm.predict(X_kmeans)]).T,columns = ['nodes','gmm'])"
   ]
  },
  {
   "cell_type": "code",
   "execution_count": 381,
   "metadata": {
    "collapsed": true
   },
   "outputs": [],
   "source": [
    "assign_all = pd.merge(temp,kmeans_df, how='inner', on='nodes')\n",
    "assign_all = pd.merge(assign_all,gmm_df, how='inner', on='nodes').set_index('nodes')\n",
    "assign_all.to_csv(method+'.csv')"
   ]
  },
  {
   "cell_type": "code",
   "execution_count": null,
   "metadata": {
    "collapsed": true
   },
   "outputs": [],
   "source": []
  }
 ],
 "metadata": {
  "kernelspec": {
   "display_name": "Python 3",
   "language": "python",
   "name": "python3"
  },
  "language_info": {
   "codemirror_mode": {
    "name": "ipython",
    "version": 3
   },
   "file_extension": ".py",
   "mimetype": "text/x-python",
   "name": "python",
   "nbconvert_exporter": "python",
   "pygments_lexer": "ipython3",
   "version": "3.6.2"
  }
 },
 "nbformat": 4,
 "nbformat_minor": 2
}
