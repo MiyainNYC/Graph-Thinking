{
 "cells": [
  {
   "cell_type": "code",
   "execution_count": 1,
   "metadata": {},
   "outputs": [
    {
     "name": "stdout",
     "output_type": "stream",
     "text": [
      "C:\\Users\\Miya\\Desktop\\cna\\dataset\n"
     ]
    }
   ],
   "source": [
    "cd dataset"
   ]
  },
  {
   "cell_type": "code",
   "execution_count": 2,
   "metadata": {
    "collapsed": true
   },
   "outputs": [],
   "source": [
    "import pandas as pd\n",
    "import numpy as np\n",
    "import matplotlib.pyplot as plt\n",
    "%matplotlib inline\n",
    "import warnings\n",
    "warnings.filterwarnings('ignore')\n",
    "data = pd.read_csv('repositories_refined.csv',parse_dates=['Month, Day, Year of Date'])\n",
    "#data = data[data['Coding Effort']!=0]\n",
    "data.columns= ['Worker ID','Repository ID','Coding Effort','Month, Day, Year of Date']"
   ]
  },
  {
   "cell_type": "code",
   "execution_count": 330,
   "metadata": {},
   "outputs": [
    {
     "data": {
      "text/html": [
       "<div>\n",
       "<style>\n",
       "    .dataframe thead tr:only-child th {\n",
       "        text-align: right;\n",
       "    }\n",
       "\n",
       "    .dataframe thead th {\n",
       "        text-align: left;\n",
       "    }\n",
       "\n",
       "    .dataframe tbody tr th {\n",
       "        vertical-align: top;\n",
       "    }\n",
       "</style>\n",
       "<table border=\"1\" class=\"dataframe\">\n",
       "  <thead>\n",
       "    <tr style=\"text-align: right;\">\n",
       "      <th></th>\n",
       "      <th>Worker ID</th>\n",
       "      <th>Repository ID</th>\n",
       "      <th>Coding Effort</th>\n",
       "      <th>Month, Day, Year of Date</th>\n",
       "    </tr>\n",
       "  </thead>\n",
       "  <tbody>\n",
       "    <tr>\n",
       "      <th>0</th>\n",
       "      <td>aaa</td>\n",
       "      <td>AAA</td>\n",
       "      <td>0.00</td>\n",
       "      <td>2015-07-01</td>\n",
       "    </tr>\n",
       "    <tr>\n",
       "      <th>1</th>\n",
       "      <td>dxw</td>\n",
       "      <td>HEL</td>\n",
       "      <td>5.00</td>\n",
       "      <td>2015-07-01</td>\n",
       "    </tr>\n",
       "    <tr>\n",
       "      <th>2</th>\n",
       "      <td>woe</td>\n",
       "      <td>WHS</td>\n",
       "      <td>4.73</td>\n",
       "      <td>2015-07-01</td>\n",
       "    </tr>\n",
       "    <tr>\n",
       "      <th>3</th>\n",
       "      <td>woe</td>\n",
       "      <td>EZR</td>\n",
       "      <td>0.26</td>\n",
       "      <td>2015-07-01</td>\n",
       "    </tr>\n",
       "    <tr>\n",
       "      <th>4</th>\n",
       "      <td>wlk</td>\n",
       "      <td>RJA</td>\n",
       "      <td>5.00</td>\n",
       "      <td>2015-07-01</td>\n",
       "    </tr>\n",
       "  </tbody>\n",
       "</table>\n",
       "</div>"
      ],
      "text/plain": [
       "  Worker ID Repository ID  Coding Effort Month, Day, Year of Date\n",
       "0       aaa           AAA           0.00               2015-07-01\n",
       "1       dxw           HEL           5.00               2015-07-01\n",
       "2       woe           WHS           4.73               2015-07-01\n",
       "3       woe           EZR           0.26               2015-07-01\n",
       "4       wlk           RJA           5.00               2015-07-01"
      ]
     },
     "execution_count": 330,
     "metadata": {},
     "output_type": "execute_result"
    }
   ],
   "source": [
    "data.head()"
   ]
  },
  {
   "cell_type": "code",
   "execution_count": 880,
   "metadata": {
    "collapsed": true
   },
   "outputs": [],
   "source": [
    "X_test = data[data['Month, Day, Year of Date']>='2015-07-08']\n",
    "X_train = data[data['Month, Day, Year of Date']<'2015-07-08']"
   ]
  },
  {
   "cell_type": "code",
   "execution_count": 881,
   "metadata": {},
   "outputs": [
    {
     "data": {
      "text/html": [
       "<div>\n",
       "<style>\n",
       "    .dataframe thead tr:only-child th {\n",
       "        text-align: right;\n",
       "    }\n",
       "\n",
       "    .dataframe thead th {\n",
       "        text-align: left;\n",
       "    }\n",
       "\n",
       "    .dataframe tbody tr th {\n",
       "        vertical-align: top;\n",
       "    }\n",
       "</style>\n",
       "<table border=\"1\" class=\"dataframe\">\n",
       "  <thead>\n",
       "    <tr style=\"text-align: right;\">\n",
       "      <th></th>\n",
       "      <th>Worker ID</th>\n",
       "      <th>Repository ID</th>\n",
       "      <th>Coding Effort</th>\n",
       "      <th>Month, Day, Year of Date</th>\n",
       "    </tr>\n",
       "  </thead>\n",
       "  <tbody>\n",
       "    <tr>\n",
       "      <th>0</th>\n",
       "      <td>aaa</td>\n",
       "      <td>AAA</td>\n",
       "      <td>0.00</td>\n",
       "      <td>2015-07-01</td>\n",
       "    </tr>\n",
       "    <tr>\n",
       "      <th>1</th>\n",
       "      <td>dxw</td>\n",
       "      <td>HEL</td>\n",
       "      <td>5.00</td>\n",
       "      <td>2015-07-01</td>\n",
       "    </tr>\n",
       "    <tr>\n",
       "      <th>2</th>\n",
       "      <td>woe</td>\n",
       "      <td>WHS</td>\n",
       "      <td>4.73</td>\n",
       "      <td>2015-07-01</td>\n",
       "    </tr>\n",
       "    <tr>\n",
       "      <th>3</th>\n",
       "      <td>woe</td>\n",
       "      <td>EZR</td>\n",
       "      <td>0.26</td>\n",
       "      <td>2015-07-01</td>\n",
       "    </tr>\n",
       "    <tr>\n",
       "      <th>4</th>\n",
       "      <td>wlk</td>\n",
       "      <td>RJA</td>\n",
       "      <td>5.00</td>\n",
       "      <td>2015-07-01</td>\n",
       "    </tr>\n",
       "  </tbody>\n",
       "</table>\n",
       "</div>"
      ],
      "text/plain": [
       "  Worker ID Repository ID  Coding Effort Month, Day, Year of Date\n",
       "0       aaa           AAA           0.00               2015-07-01\n",
       "1       dxw           HEL           5.00               2015-07-01\n",
       "2       woe           WHS           4.73               2015-07-01\n",
       "3       woe           EZR           0.26               2015-07-01\n",
       "4       wlk           RJA           5.00               2015-07-01"
      ]
     },
     "execution_count": 881,
     "metadata": {},
     "output_type": "execute_result"
    }
   ],
   "source": [
    "data[data['Month, Day, Year of Date']<'2015-07-08'].head()"
   ]
  },
  {
   "cell_type": "code",
   "execution_count": 821,
   "metadata": {
    "collapsed": true
   },
   "outputs": [],
   "source": [
    "def baseline():\n",
    "    pred_base = []\n",
    "    tp = data[data['Month, Day, Year of Date']<'2015-07-08'].groupby(['Worker ID','Repository ID']).sum().reset_index()\n",
    "    for deve in to_predict_deve:\n",
    "        old = tp[tp['Worker ID']==deve]['Repository ID']\n",
    "        new = [i for i in Most_popu_repo if i not in old]\n",
    "    pred_base.append(new)\n",
    "    \n",
    "    return pred_base"
   ]
  },
  {
   "cell_type": "code",
   "execution_count": null,
   "metadata": {
    "collapsed": true
   },
   "outputs": [],
   "source": []
  },
  {
   "cell_type": "code",
   "execution_count": 818,
   "metadata": {},
   "outputs": [],
   "source": [
    "Most_popu_repo = data[data['Month, Day, Year of Date']<'2015-07-08'].groupby('Repository ID').count().sort_values('Worker ID',ascending = False).index"
   ]
  },
  {
   "cell_type": "code",
   "execution_count": 882,
   "metadata": {},
   "outputs": [
    {
     "name": "stdout",
     "output_type": "stream",
     "text": [
      "(13155, 4)\n",
      "(159199, 4)\n"
     ]
    }
   ],
   "source": [
    "print(X_train.shape)\n",
    "print(X_test.shape)"
   ]
  },
  {
   "cell_type": "code",
   "execution_count": 883,
   "metadata": {},
   "outputs": [],
   "source": [
    "deve_nodes_train = list(set(X_train.values[:,0]))\n",
    "deve_nodes_test = list(set(X_test.values[:,0]))"
   ]
  },
  {
   "cell_type": "code",
   "execution_count": 884,
   "metadata": {
    "collapsed": true
   },
   "outputs": [],
   "source": [
    "X_test = X_test[X_test['Worker ID'].isin([test for test in deve_nodes_test if test in deve_nodes_train])]"
   ]
  },
  {
   "cell_type": "code",
   "execution_count": 885,
   "metadata": {
    "collapsed": true
   },
   "outputs": [],
   "source": [
    "X_test = X_test.groupby(['Worker ID','Repository ID']).sum().reset_index()"
   ]
  },
  {
   "cell_type": "code",
   "execution_count": 886,
   "metadata": {},
   "outputs": [],
   "source": [
    "t1 = pd.DataFrame(X_train['Worker ID']+X_train['Repository ID'],columns = ['temp'])\n",
    "t2 = pd.DataFrame(X_test['Worker ID']+X_test['Repository ID'],columns = ['temp'])"
   ]
  },
  {
   "cell_type": "code",
   "execution_count": 887,
   "metadata": {
    "collapsed": true
   },
   "outputs": [],
   "source": [
    "X_test = X_test[~t2['temp'].isin(t1['temp'])]"
   ]
  },
  {
   "cell_type": "code",
   "execution_count": 888,
   "metadata": {},
   "outputs": [
    {
     "data": {
      "text/plain": [
       "0"
      ]
     },
     "execution_count": 888,
     "metadata": {},
     "output_type": "execute_result"
    }
   ],
   "source": [
    "sum(pd.DataFrame(X_test[\"Worker ID\"]+X_test[\"Repository ID\"])[0].isin(t1['temp']))"
   ]
  },
  {
   "cell_type": "code",
   "execution_count": 889,
   "metadata": {},
   "outputs": [
    {
     "data": {
      "text/plain": [
       "(2775, 3)"
      ]
     },
     "execution_count": 889,
     "metadata": {},
     "output_type": "execute_result"
    }
   ],
   "source": [
    "X_test.shape"
   ]
  },
  {
   "cell_type": "code",
   "execution_count": 890,
   "metadata": {},
   "outputs": [
    {
     "data": {
      "text/plain": [
       "945"
      ]
     },
     "execution_count": 890,
     "metadata": {},
     "output_type": "execute_result"
    }
   ],
   "source": [
    "len(list(set(X_test.values[:,0])))"
   ]
  },
  {
   "cell_type": "code",
   "execution_count": 891,
   "metadata": {},
   "outputs": [
    {
     "data": {
      "text/plain": [
       "2321"
      ]
     },
     "execution_count": 891,
     "metadata": {},
     "output_type": "execute_result"
    }
   ],
   "source": [
    "len(list(set(X_train.values[:,0])))"
   ]
  },
  {
   "cell_type": "code",
   "execution_count": 892,
   "metadata": {
    "collapsed": true
   },
   "outputs": [],
   "source": [
    "X_train = X_train.groupby(['Worker ID','Repository ID']).sum().reset_index().values"
   ]
  },
  {
   "cell_type": "code",
   "execution_count": 893,
   "metadata": {},
   "outputs": [
    {
     "data": {
      "text/plain": [
       "0.8748423707440101"
      ]
     },
     "execution_count": 893,
     "metadata": {},
     "output_type": "execute_result"
    }
   ],
   "source": [
    "X_test.shape[0]/X_train.shape[0]"
   ]
  },
  {
   "cell_type": "code",
   "execution_count": 894,
   "metadata": {},
   "outputs": [
    {
     "name": "stdout",
     "output_type": "stream",
     "text": [
      "945\n"
     ]
    }
   ],
   "source": [
    "actual_list = []\n",
    "to_predict_deve = set(X_test['Worker ID'])\n",
    "print(len(to_predict_deve))\n",
    "for dev in to_predict_deve:\n",
    "    repo = X_test[X_test['Worker ID']==dev]['Repository ID'].values\n",
    "    actual_list.append(list(repo))"
   ]
  },
  {
   "cell_type": "code",
   "execution_count": 895,
   "metadata": {
    "collapsed": true
   },
   "outputs": [],
   "source": [
    "import networkx as nx\n",
    "%matplotlib inline\n",
    "from networkx.algorithms import bipartite\n",
    "G_train = nx.Graph()\n",
    "for i,v,j in zip(X_train[:,0],X_train[:,1],X_train[:,2]):\n",
    "    G_train.add_edge(i,v,weight = j)"
   ]
  },
  {
   "cell_type": "code",
   "execution_count": 896,
   "metadata": {
    "collapsed": true
   },
   "outputs": [],
   "source": [
    "nx.write_gml(G_train,'g_2.gml')"
   ]
  },
  {
   "cell_type": "code",
   "execution_count": 525,
   "metadata": {
    "collapsed": true
   },
   "outputs": [],
   "source": [
    "deve_nodes = list(set(X_train[:,0]))\n",
    "\n",
    "def normalize(x):\n",
    "    if x==0:\n",
    "        x = 1\n",
    "    else:\n",
    "        x\n",
    "    return x\n",
    "\n",
    "def my_weight(G_train, u, v, weight='weight'):\n",
    "    w = 0\n",
    "    for nbr in set(G_train[u]) & set(G_train[v]):\n",
    "        u_sum = normalize(sum(list(map(lambda x:x['weight'],G_train[u].values()))))\n",
    "        v_sum = normalize(sum(list(map(lambda x:x['weight'],G_train[v].values()))))\n",
    "        nbr_sum = normalize(sum(list(map(lambda x:x['weight'],G_train[nbr].values()))))\n",
    "        \n",
    "        w += (G_train.edge[u][nbr].get(weight,1)/u_sum) * (G_train.edge[v][nbr].get(weight,1)/nbr_sum)\n",
    "        return w \n",
    "    \n",
    "    \n",
    "def jaccard(G, u, v):\n",
    "    unbrs = set(G[u])\n",
    "    vnbrs = set(G[v])\n",
    "    return float(len(unbrs & vnbrs)) / len(unbrs)\n",
    "    "
   ]
  },
  {
   "cell_type": "code",
   "execution_count": null,
   "metadata": {
    "collapsed": true
   },
   "outputs": [],
   "source": []
  },
  {
   "cell_type": "code",
   "execution_count": 949,
   "metadata": {
    "collapsed": true
   },
   "outputs": [],
   "source": [
    "import itertools\n",
    "def neighbors_cluster(node, csv = method+'.csv' ):\n",
    "    \n",
    "    refer = pd.read_csv(csv).set_index('nodes')    \n",
    "    ml = refer.ix[node,0]\n",
    "    info = refer.ix[node,1]\n",
    "    wt = refer.ix[node,2]\n",
    "    fg = refer.ix[node,3]\n",
    "    lp = refer.ix[node,4]\n",
    "    kmeans = refer.ix[node,5]\n",
    "    \n",
    "    ml_nn = refer[refer['ml_member']==ml].index\n",
    "    wt_nn = refer[refer['wt_member']==wt].index\n",
    "    info_nn = refer[refer['info_member']==info].index\n",
    "    fg_nn = refer[refer['fg_member']==fg].index\n",
    "    lp_nn = refer[refer['lp_member']==lp].index\n",
    "    kmeans_nn = refer[refer['kmeans']==kmeans].index\n",
    "    \n",
    "    cluster_nn = list(itertools.chain(wt_nn,kmeans_nn,lp_nn,fg_nn)) #ml_nn,info_nn\n",
    "    \n",
    "    return cluster_nn"
   ]
  },
  {
   "cell_type": "code",
   "execution_count": 950,
   "metadata": {
    "collapsed": true
   },
   "outputs": [],
   "source": [
    "def neighbors_cluster_weighted(node, csv = method+'.csv'):\n",
    "    \n",
    "    refer = pd.read_csv(csv).set_index('nodes')\n",
    "    \n",
    "    ml = refer.ix[node,0]\n",
    "    info = refer.ix[node,1]\n",
    "    wt = refer.ix[node,2]\n",
    "    fg = refer.ix[node,3]\n",
    "    lp = refer.ix[node,4]\n",
    "    kmeans = refer.ix[node,5]\n",
    "    \n",
    "    ml_nn = refer[refer['ml_member']==ml].index\n",
    "    wt_nn = refer[refer['wt_member']==wt].index\n",
    "    info_nn = refer[refer['info_member']==info].index\n",
    "    fg_nn = refer[refer['fg_member']==fg].index\n",
    "    lp_nn = refer[refer['lp_member']==lp].index\n",
    "    kmeans_nn = refer[refer['kmeans']==kmeans].index\n",
    "    \n",
    "\n",
    "    \n",
    "    return wt_nn,kmeans_nn,ml_nn,info_nn,fg_nn,lp_nn"
   ]
  },
  {
   "cell_type": "code",
   "execution_count": 951,
   "metadata": {
    "collapsed": true
   },
   "outputs": [],
   "source": [
    "K = 100\n",
    "def limit_k(rs_list, k = K):\n",
    "    if len(rs_list)<k:\n",
    "        return rs_list\n",
    "    else:\n",
    "        return rs_list[:k]  "
   ]
  },
  {
   "cell_type": "code",
   "execution_count": 952,
   "metadata": {
    "collapsed": true
   },
   "outputs": [],
   "source": [
    "def ensemble_similarity(node,wf):\n",
    "    \n",
    "    nns = bipartite.generic_weighted_projected_graph(G_train, [node], weight_function= wf).edges(data=True)\n",
    "    cluster_nn = neighbors_cluster(node,csv = method+'.csv')\n",
    "    \n",
    "    dict_rs = dict()\n",
    "    \n",
    "    for nn_sug in nns:\n",
    "        nn = nn_sug[1]\n",
    "        we = nn_sug[2]['weight']\n",
    "        \n",
    "        for repo_sug in G_train[nn].items():\n",
    "            repo = repo_sug[0]\n",
    "            ce = repo_sug[1]['weight']\n",
    "            dict_rs[repo] = dict_rs.get(repo,0.0) + ce*np.exp(we)\n",
    "\n",
    "        \n",
    "    for nn in cluster_nn:\n",
    "        for repo_sug in G_train[nn].items():\n",
    "            repo = repo_sug[0]\n",
    "            ce = repo_sug[1]['weight']\n",
    "            dict_rs[repo] = dict_rs.get(repo,0.0) + ce*1\n",
    "        \n",
    "        \n",
    "    rs_list = sorted(dict_rs.items(),key = lambda x:x[1],reverse = True)\n",
    "    \n",
    "    rs_list = limit_k(rs_list)\n",
    "    \n",
    "    rs_list = list(map(lambda x: x[0],rs_list))\n",
    "    \n",
    "    return rs_list"
   ]
  },
  {
   "cell_type": "code",
   "execution_count": 953,
   "metadata": {
    "collapsed": true
   },
   "outputs": [],
   "source": [
    "def community_weight(csv = method+'.csv'):\n",
    "    \n",
    "    df = pd.read_csv(csv).set_index('nodes')\n",
    "    wt_w = len(df['wt_member'].unique())/100\n",
    "    ml_w = len(df['ml_member'].unique())/100\n",
    "    info_w = len(df['info_member'].unique())/100\n",
    "    fg_w = len(df['fg_member'].unique())/100\n",
    "    lp_w = len(df['lp_member'].unique())/100\n",
    "    \n",
    "    return wt_w,ml_w,info_w,fg_w,lp_w"
   ]
  },
  {
   "cell_type": "code",
   "execution_count": 954,
   "metadata": {
    "collapsed": true
   },
   "outputs": [],
   "source": [
    "def ensemble_similarity_weighted(node,wf):\n",
    "    \n",
    "    nns = bipartite.generic_weighted_projected_graph(G_train, [node], weight_function= wf).edges(data=True)\n",
    "    \n",
    "    wt_nn,kmeans_nn,ml_nn,info_nn,fg_nn,lp_nn = neighbors_cluster_weighted(node, csv = method+'.csv')\n",
    "    \n",
    "    wt_w,ml_w,info_w,fg_w,lp_w = community_weight()\n",
    "     \n",
    "    dict_rs = dict()\n",
    "    \n",
    "    for nn_sug in nns:\n",
    "        nn = nn_sug[1]\n",
    "        we = nn_sug[2]['weight']\n",
    "        \n",
    "        for repo_sug in G_train[nn].items():\n",
    "            repo = repo_sug[0]\n",
    "            ce = repo_sug[1]['weight']\n",
    "            dict_rs[repo] = dict_rs.get(repo,0.0) + ce*np.exp(we)\n",
    "\n",
    "        \n",
    "    for nn in wt_nn:\n",
    "        for repo_sug in G_train[nn].items():\n",
    "            repo = repo_sug[0]\n",
    "            ce = repo_sug[1]['weight']\n",
    "            dict_rs[repo] = dict_rs.get(repo,0.0) + ce*wt_w\n",
    "\n",
    "    for nn in ml_nn:\n",
    "        for repo_sug in G_train[nn].items():\n",
    "            repo = repo_sug[0]\n",
    "            ce = repo_sug[1]['weight']\n",
    "            dict_rs[repo] = dict_rs.get(repo,0.0) + ce*ml_w\n",
    "\n",
    "    for nn in info_nn:\n",
    "        for repo_sug in G_train[nn].items():\n",
    "            repo = repo_sug[0]\n",
    "            ce = repo_sug[1]['weight']\n",
    "            dict_rs[repo] = dict_rs.get(repo,0.0) + ce*info_w\n",
    "            \n",
    "    for nn in kmeans_nn:\n",
    "        for repo_sug in G_train[nn].items():\n",
    "            repo = repo_sug[0]\n",
    "            ce = repo_sug[1]['weight']\n",
    "            dict_rs[repo] = dict_rs.get(repo,0.0) + ce*n_clusters/100\n",
    "            \n",
    "    for nn in fg_nn:\n",
    "        for repo_sug in G_train[nn].items():\n",
    "            repo = repo_sug[0]\n",
    "            ce = repo_sug[1]['weight']\n",
    "            dict_rs[repo] = dict_rs.get(repo,0.0) + ce*fg_w\n",
    "            \n",
    "    for nn in lp_nn:\n",
    "        for repo_sug in G_train[nn].items():\n",
    "            repo = repo_sug[0]\n",
    "            ce = repo_sug[1]['weight']\n",
    "            dict_rs[repo] = dict_rs.get(repo,0.0) + ce*lp_w\n",
    "        \n",
    "        \n",
    "    rs_list = sorted(dict_rs.items(),key = lambda x:x[1],reverse = True)\n",
    "    \n",
    "    rs_list = limit_k(rs_list)\n",
    "    \n",
    "    rs_list = list(map(lambda x: x[0],rs_list))\n",
    "    \n",
    "    return rs_list"
   ]
  },
  {
   "cell_type": "code",
   "execution_count": 955,
   "metadata": {
    "collapsed": true
   },
   "outputs": [],
   "source": [
    "def projection_similarity(node,wf):\n",
    "    nns = bipartite.generic_weighted_projected_graph(G_train, [node], weight_function= wf).edges(data=True)\n",
    "    \n",
    "    dict_rs = dict()\n",
    "    \n",
    "    for nn_sug in nns:\n",
    "        nn = nn_sug[1]\n",
    "        we = nn_sug[2]['weight']\n",
    "        \n",
    "        for repo_sug in G_train[nn].items():\n",
    "            repo = repo_sug[0]\n",
    "            ce = repo_sug[1]['weight']\n",
    "            dict_rs[repo] = dict_rs.get(repo,0.0) + ce*np.exp(we)\n",
    "        \n",
    "        \n",
    "    rs_list = sorted(dict_rs.items(),key = lambda x:x[1],reverse = True)\n",
    "    \n",
    "    rs_list = limit_k(rs_list)\n",
    "    \n",
    "    rs_list = list(map(lambda x: x[0],rs_list))\n",
    "    \n",
    "    return rs_list"
   ]
  },
  {
   "cell_type": "code",
   "execution_count": 956,
   "metadata": {
    "collapsed": true
   },
   "outputs": [],
   "source": [
    "def cluster_similarity(node):\n",
    "    \n",
    "    dict_rs = dict()\n",
    "    cluster_nn = neighbors_cluster(node,csv = method+'.csv')\n",
    "\n",
    "    for nn in cluster_nn:\n",
    "        for repo_sug in G_train[nn].items():\n",
    "            repo = repo_sug[0]\n",
    "            ce = repo_sug[1]['weight']\n",
    "            dict_rs[repo] = dict_rs.get(repo,0.0) + ce\n",
    "        \n",
    "        \n",
    "    rs_list = sorted(dict_rs.items(),key = lambda x:x[1],reverse = True)\n",
    "    \n",
    "    rs_list = limit_k(rs_list)\n",
    "    \n",
    "    rs_list = list(map(lambda x: x[0],rs_list))\n",
    "    \n",
    "    return rs_list"
   ]
  },
  {
   "cell_type": "code",
   "execution_count": 957,
   "metadata": {
    "collapsed": true
   },
   "outputs": [],
   "source": [
    "def cluster_similarity_weighted(node):\n",
    "    \n",
    "    dict_rs = dict()\n",
    "    \n",
    "    wt_nn,kmeans_nn,ml_nn,info_nn,fg_nn,lp_nn = neighbors_cluster_weighted(node,csv = method+'.csv')\n",
    "    \n",
    "    wt_w,ml_w,info_w,fg_w,lp_w = community_weight()\n",
    "\n",
    "    for nn in wt_nn:\n",
    "        for repo_sug in G_train[nn].items():\n",
    "            repo = repo_sug[0]\n",
    "            ce = repo_sug[1]['weight']\n",
    "            dict_rs[repo] = dict_rs.get(repo,0.0) + ce*wt_w\n",
    "\n",
    "    for nn in ml_nn:\n",
    "        for repo_sug in G_train[nn].items():\n",
    "            repo = repo_sug[0]\n",
    "            ce = repo_sug[1]['weight']\n",
    "            dict_rs[repo] = dict_rs.get(repo,0.0) + ce*ml_w\n",
    "\n",
    "    for nn in info_nn:\n",
    "        for repo_sug in G_train[nn].items():\n",
    "            repo = repo_sug[0]\n",
    "            ce = repo_sug[1]['weight']\n",
    "            dict_rs[repo] = dict_rs.get(repo,0.0) + ce*info_w\n",
    "            \n",
    "    for nn in kmeans_nn:\n",
    "        for repo_sug in G_train[nn].items():\n",
    "            repo = repo_sug[0]\n",
    "            ce = repo_sug[1]['weight']\n",
    "            dict_rs[repo] = dict_rs.get(repo,0.0) + ce*n_clusters/100\n",
    "            \n",
    "    for nn in fg_nn:\n",
    "        for repo_sug in G_train[nn].items():\n",
    "            repo = repo_sug[0]\n",
    "            ce = repo_sug[1]['weight']\n",
    "            dict_rs[repo] = dict_rs.get(repo,0.0) + ce*fg_w\n",
    "            \n",
    "    for nn in lp_nn:\n",
    "        for repo_sug in G_train[nn].items():\n",
    "            repo = repo_sug[0]\n",
    "            ce = repo_sug[1]['weight']\n",
    "            dict_rs[repo] = dict_rs.get(repo,0.0) + ce*lp_w\n",
    "        \n",
    "        \n",
    "        \n",
    "    rs_list = sorted(dict_rs.items(),key = lambda x:x[1],reverse = True)\n",
    "    \n",
    "    rs_list = limit_k(rs_list)\n",
    "    \n",
    "    rs_list = list(map(lambda x: x[0],rs_list))\n",
    "    \n",
    "    return rs_list"
   ]
  },
  {
   "cell_type": "code",
   "execution_count": 972,
   "metadata": {},
   "outputs": [],
   "source": [
    "def accuracy(actual, predicted, k= K):\n",
    "    if len(predicted)>k:\n",
    "        predicted = predicted[:k]\n",
    "    \n",
    "    eva = [p for p in predicted if p in actual]\n",
    "    \n",
    "    if len(eva)!=0:\n",
    "        score  = 1\n",
    "    else:\n",
    "        score = 0 \n",
    "\n",
    "    return score \n",
    "\n",
    "def accuracy_mean(actual_list, predicted_list, k= 20):\n",
    "\n",
    "    return np.mean([accuracy(a,p,k) for a,p in zip(actual_list, predicted_list)])\n",
    "    "
   ]
  },
  {
   "cell_type": "code",
   "execution_count": 973,
   "metadata": {},
   "outputs": [],
   "source": [
    "def apk(actual, predicted, k= K):\n",
    "    \"\"\"\n",
    "    Computes the average precision at k.\n",
    "    This function computes the average prescision at k between two lists of\n",
    "    items.\n",
    "    Parameters\n",
    "    ----------\n",
    "    actual : list\n",
    "             A list of elements that are to be predicted (order doesn't matter)\n",
    "    predicted : list\n",
    "                A list of predicted elements (order does matter)\n",
    "    k : int, optional\n",
    "        The maximum number of predicted elements\n",
    "    Returns\n",
    "    -------\n",
    "    score : double\n",
    "            The average precision at k over the input lists\n",
    "    \"\"\"\n",
    "    if len(predicted)>k:\n",
    "        predicted = predicted[:k]\n",
    "\n",
    "    score = 0.0\n",
    "    num_hits = 0.0\n",
    "\n",
    "    for i,p in enumerate(predicted):\n",
    "        if p in actual and p not in predicted[:i]:\n",
    "            num_hits += 1.0\n",
    "            score += num_hits / (i+1.0)\n",
    "\n",
    "    if not actual:\n",
    "        return 0.0\n",
    "\n",
    "    return score / min(len(actual), k)\n",
    "\n",
    "def mapk(actual_list, predicted_list, k= 20):\n",
    "    \"\"\"\n",
    "    Computes the mean average precision at k.\n",
    "    This function computes the mean average prescision at k between two lists\n",
    "    of lists of items.\n",
    "    Parameters\n",
    "    ----------\n",
    "    actual : list\n",
    "             A list of lists of elements that are to be predicted \n",
    "             (order doesn't matter in the lists)\n",
    "    predicted : list\n",
    "                A list of lists of predicted elements\n",
    "                (order matters in the lists)\n",
    "    k : int, optional\n",
    "        The maximum number of predicted elements\n",
    "    Returns\n",
    "    -------\n",
    "    score : double\n",
    "            The mean average precision at k over the input lists\n",
    "            \n",
    "    \"\"\"\n",
    "    return np.mean([apk(a,p,k) for a,p in zip(actual_list, predicted_list)])"
   ]
  },
  {
   "cell_type": "code",
   "execution_count": 960,
   "metadata": {
    "collapsed": true
   },
   "outputs": [],
   "source": [
    "def project_graph(G_train,method = 'binary'):\n",
    "    \n",
    "    if method =='binary':\n",
    "        graph = nx.projected_graph(G_train,deve_nodes)\n",
    "    if method == 'my_weight':\n",
    "        graph_list = np.asarray(bipartite.generic_weighted_projected_graph(G_train, deve_nodes, weight_function= my_weight).edges(data=True))\n",
    "        graph = nx.Graph()\n",
    "        for i,v,j in zip(graph_list[:,0],graph_list[:,1],graph_list[:,2]):\n",
    "            graph.add_edge(i,v,weight = j['weight'])\n",
    "    if method == 'jaccard':\n",
    "        graph_list = np.asarray(bipartite.generic_weighted_projected_graph(G_train, deve_nodes, weight_function= jaccard).edges(data=True))\n",
    "        graph = nx.Graph()\n",
    "        for i,v,j in zip(graph_list[:,0],graph_list[:,1],graph_list[:,2]):\n",
    "            graph.add_edge(i,v,weight = j['weight'])\n",
    "\n",
    "    return graph\n",
    "\n",
    "for m in ['binary','my_weight','jaccard']:\n",
    "    graph = project_graph(G_train,method = m)\n",
    "    nx.write_gml(graph,m+'.gml')"
   ]
  },
  {
   "cell_type": "code",
   "execution_count": 961,
   "metadata": {
    "collapsed": true
   },
   "outputs": [],
   "source": [
    "def similarity_rs(node_list, choice = \"projection_similarity\",wf = my_weight):\n",
    "    \n",
    "    tp = data[data['Month, Day, Year of Date']<'2015-07-08'].groupby(['Worker ID','Repository ID']).sum().reset_index()\n",
    "    \n",
    "    dict_rs = dict()\n",
    "    \n",
    "    for node in node_list:\n",
    "        if choice == 'projection_similarity':\n",
    "             rs_list = projection_similarity(node,wf)\n",
    "        if choice == 'cluster_similarity':\n",
    "             rs_list = cluster_similarity(node)\n",
    "        if choice == 'cluster_similarity_weighted':\n",
    "             rs_list = cluster_similarity_weighted(node)\n",
    "        if choice == 'ensemble_similarity_weighted':\n",
    "             rs_list = ensemble_similarity_weighted(node,wf)\n",
    "        if choice == 'ensemble_similarity':\n",
    "             rs_list = ensemble_similarity(node,wf)\n",
    "        if choice == 'ensemble_similarity_weighted_half':\n",
    "            rs_list=[]\n",
    "            rs_list1 = cluster_similarity_weighted(node)\n",
    "            rs_list2 = projection_similarity(node,wf)\n",
    "            for p, sw in zip(rs_list2, rs_list1):\n",
    "                rs_list.append(p)\n",
    "                rs_list.append(sw)\n",
    "            rs_list = limit_k(list(set(rs_list)),k=100)\n",
    "            \n",
    "        old = tp[tp['Worker ID']==node]['Repository ID']\n",
    "        rs_list = [i for i in rs_list if i not in old]\n",
    "            \n",
    "    \n",
    "        dict_rs[node] = rs_list\n",
    "    \n",
    "    return dict_rs"
   ]
  },
  {
   "cell_type": "code",
   "execution_count": null,
   "metadata": {
    "collapsed": true
   },
   "outputs": [],
   "source": []
  },
  {
   "cell_type": "markdown",
   "metadata": {},
   "source": [
    "**Base Model:** binary projection + cluster + community detection\n",
    "\n",
    "** Models:** \n",
    "* my_weight projection \n",
    "* jaccard projection\n",
    "* my_weight projection + cluster \n",
    "* jaccard projection + cluster \n",
    "* my_weight projection + cluster weighted \n",
    "* jaccard projection + cluster weighted\n"
   ]
  },
  {
   "cell_type": "code",
   "execution_count": null,
   "metadata": {
    "collapsed": true
   },
   "outputs": [],
   "source": []
  },
  {
   "cell_type": "code",
   "execution_count": null,
   "metadata": {
    "collapsed": true
   },
   "outputs": [],
   "source": []
  },
  {
   "cell_type": "markdown",
   "metadata": {},
   "source": [
    "# baseline model"
   ]
  },
  {
   "cell_type": "code",
   "execution_count": 976,
   "metadata": {},
   "outputs": [],
   "source": [
    "method = 'binary'\n",
    "\n",
    "y_predict_dict_c = similarity_rs(to_predict_deve, choice = \"cluster_similarity\",wf = my_weight)"
   ]
  },
  {
   "cell_type": "code",
   "execution_count": 977,
   "metadata": {},
   "outputs": [
    {
     "data": {
      "text/plain": [
       "0.17671957671957672"
      ]
     },
     "execution_count": 977,
     "metadata": {},
     "output_type": "execute_result"
    }
   ],
   "source": [
    "#method = 'binary'\n",
    "\n",
    "accuracy_mean(actual_list, y_predict_dict_c.values(), k=  8)"
   ]
  },
  {
   "cell_type": "code",
   "execution_count": 978,
   "metadata": {},
   "outputs": [
    {
     "data": {
      "text/plain": [
       "0.053927544121705119"
      ]
     },
     "execution_count": 978,
     "metadata": {},
     "output_type": "execute_result"
    }
   ],
   "source": [
    "#method = 'binary'\n",
    "\n",
    "mapk(actual_list, y_predict_dict_c.values(), k= 8)"
   ]
  },
  {
   "cell_type": "markdown",
   "metadata": {},
   "source": [
    "# My Weight Projection"
   ]
  },
  {
   "cell_type": "code",
   "execution_count": 979,
   "metadata": {},
   "outputs": [],
   "source": [
    "y_predict_dict_p = similarity_rs(to_predict_deve, choice = \"projection_similarity\",wf = my_weight)"
   ]
  },
  {
   "cell_type": "code",
   "execution_count": 981,
   "metadata": {
    "collapsed": true
   },
   "outputs": [],
   "source": [
    "y_predict_dict_p_j = similarity_rs(to_predict_deve, choice = \"projection_similarity\",wf = jaccard)"
   ]
  },
  {
   "cell_type": "code",
   "execution_count": 982,
   "metadata": {},
   "outputs": [
    {
     "name": "stdout",
     "output_type": "stream",
     "text": [
      "0.485714285714\n",
      "0.486772486772\n",
      "0.144126370742\n",
      "0.144359552904\n"
     ]
    }
   ],
   "source": [
    "print(accuracy_mean(actual_list, y_predict_dict_p.values(), k=  8))\n",
    "print(accuracy_mean(actual_list, y_predict_dict_p_j.values(), k=  8))\n",
    "print(mapk(actual_list, y_predict_dict_p.values(), k= 8))\n",
    "print(mapk(actual_list, y_predict_dict_p_j.values(), k= 8))"
   ]
  },
  {
   "cell_type": "markdown",
   "metadata": {},
   "source": [
    "# My weight ensemble  "
   ]
  },
  {
   "cell_type": "code",
   "execution_count": 991,
   "metadata": {
    "collapsed": true
   },
   "outputs": [],
   "source": [
    "method = 'my_weight'\n",
    "\n",
    "y_predict_dict_c = similarity_rs(to_predict_deve, choice = \"cluster_similarity\",wf = my_weight)\n",
    "y_predict_dict_c_w = similarity_rs(to_predict_deve, choice = \"cluster_similarity_weighted\",wf = my_weight)\n",
    "y_predict_dict_e = similarity_rs(to_predict_deve, choice = \"ensemble_similarity\",wf = my_weight)\n",
    "y_predict_dict_e_w = similarity_rs(to_predict_deve, choice = \"ensemble_similarity_weighted\",wf = my_weight)\n",
    "y_predict_dict_e_w_h = similarity_rs(to_predict_deve, choice = \"ensemble_similarity_weighted_half\",wf = my_weight)"
   ]
  },
  {
   "cell_type": "code",
   "execution_count": 997,
   "metadata": {},
   "outputs": [
    {
     "name": "stdout",
     "output_type": "stream",
     "text": [
      "0.17671957672\n",
      "0.0539275441217\n",
      "---\n",
      "0.433862433862\n",
      "0.138348873412\n",
      "---\n",
      "0.433862433862\n",
      "0.0570378768791\n",
      "---\n",
      "0.198941798942\n",
      "0.139005398985\n",
      "---\n",
      "0.433862433862\n",
      "0.139005398985\n",
      "---\n",
      "0.453968253968\n",
      "0.171452094506\n"
     ]
    }
   ],
   "source": [
    "print(accuracy_mean(actual_list, y_predict_dict_c.values(), k=  8))\n",
    "print(mapk(actual_list, y_predict_dict_c.values(), k= 8))\n",
    "print('---')\n",
    "print(accuracy_mean(actual_list, y_predict_dict_c_w.values(), k=  8))\n",
    "print(mapk(actual_list, y_predict_dict_c_w.values(), k= 8))\n",
    "print('---')\n",
    "print(accuracy_mean(actual_list, y_predict_dict_c_w.values(), k=  8))\n",
    "print(mapk(actual_list, y_predict_dict_e.values(), k= 8))\n",
    "print('---')\n",
    "print(accuracy_mean(actual_list, y_predict_dict_e.values(), k=  8))\n",
    "print(mapk(actual_list, y_predict_dict_e_w.values(), k= 8))\n",
    "print('---')\n",
    "\n",
    "print(accuracy_mean(actual_list, y_predict_dict_c_w.values(), k=  8))\n",
    "print(mapk(actual_list, y_predict_dict_e_w.values(), k= 8))\n",
    "print('---')\n",
    "print(accuracy_mean(actual_list, y_predict_dict_e_w_h.values(), k=  8))\n",
    "print(mapk(actual_list, y_predict_dict_e_w_h.values(), k= 8))"
   ]
  },
  {
   "cell_type": "code",
   "execution_count": null,
   "metadata": {
    "collapsed": true
   },
   "outputs": [],
   "source": []
  },
  {
   "cell_type": "code",
   "execution_count": 1003,
   "metadata": {
    "collapsed": true
   },
   "outputs": [],
   "source": [
    "method = 'jaccard'\n",
    "\n",
    "y_predict_dict_c = similarity_rs(to_predict_deve, choice = \"cluster_similarity\",wf = jaccard)\n",
    "y_predict_dict_c_w = similarity_rs(to_predict_deve, choice = \"cluster_similarity_weighted\",wf = jaccard)\n",
    "y_predict_dict_e = similarity_rs(to_predict_deve, choice = \"ensemble_similarity\",wf = jaccard)\n",
    "y_predict_dict_e_w = similarity_rs(to_predict_deve, choice = \"ensemble_similarity_weighted\",wf = jaccard)\n",
    "y_predict_dict_e_w_h = similarity_rs(to_predict_deve, choice = \"ensemble_similarity_weighted_half\",wf = jaccard)"
   ]
  },
  {
   "cell_type": "code",
   "execution_count": 1004,
   "metadata": {},
   "outputs": [
    {
     "name": "stdout",
     "output_type": "stream",
     "text": [
      "0.17671957672\n",
      "0.0539275441217\n",
      "---\n",
      "0.433862433862\n",
      "0.138348873412\n",
      "---\n",
      "0.433862433862\n",
      "0.0587204165617\n",
      "---\n",
      "0.205291005291\n",
      "0.140347634645\n",
      "---\n",
      "0.433862433862\n",
      "0.140347634645\n",
      "---\n",
      "0.453968253968\n",
      "0.17138595694\n"
     ]
    }
   ],
   "source": [
    "print(accuracy_mean(actual_list, y_predict_dict_c.values(), k=  8))\n",
    "print(mapk(actual_list, y_predict_dict_c.values(), k= 8))\n",
    "print('---')\n",
    "print(accuracy_mean(actual_list, y_predict_dict_c_w.values(), k=  8))\n",
    "print(mapk(actual_list, y_predict_dict_c_w.values(), k= 8))\n",
    "print('---')\n",
    "print(accuracy_mean(actual_list, y_predict_dict_c_w.values(), k=  8))\n",
    "print(mapk(actual_list, y_predict_dict_e.values(), k= 8))\n",
    "print('---')\n",
    "print(accuracy_mean(actual_list, y_predict_dict_e.values(), k=  8))\n",
    "print(mapk(actual_list, y_predict_dict_e_w.values(), k= 8))\n",
    "print('---')\n",
    "\n",
    "print(accuracy_mean(actual_list, y_predict_dict_c_w.values(), k=  8))\n",
    "print(mapk(actual_list, y_predict_dict_e_w.values(), k= 8))\n",
    "print('---')\n",
    "print(accuracy_mean(actual_list, y_predict_dict_e_w_h.values(), k=  8))\n",
    "print(mapk(actual_list, y_predict_dict_e_w_h.values(), k= 8))"
   ]
  },
  {
   "cell_type": "code",
   "execution_count": null,
   "metadata": {
    "collapsed": true
   },
   "outputs": [],
   "source": []
  },
  {
   "cell_type": "code",
   "execution_count": null,
   "metadata": {
    "collapsed": true
   },
   "outputs": [],
   "source": []
  },
  {
   "cell_type": "code",
   "execution_count": null,
   "metadata": {
    "collapsed": true
   },
   "outputs": [],
   "source": []
  },
  {
   "cell_type": "code",
   "execution_count": null,
   "metadata": {
    "collapsed": true
   },
   "outputs": [],
   "source": []
  },
  {
   "cell_type": "code",
   "execution_count": 983,
   "metadata": {
    "collapsed": true
   },
   "outputs": [],
   "source": [
    "## R run associated graph\n",
    "    \n",
    "def generate_communities(method = method):\n",
    "    \n",
    "    wt = pd.read_csv('wt_df.csv')\n",
    "    wt.columns = ['wt_member','nodes']\n",
    "    ml = pd.read_csv('ml_df.csv')\n",
    "    ml.columns = ['ml_member','nodes']\n",
    "\n",
    "    info = pd.read_csv('info_df.csv')\n",
    "    info.columns = ['info_member','nodes']\n",
    "\n",
    "    fg = pd.read_csv('fg_df.csv')\n",
    "    fg.columns = ['fg_member','nodes']\n",
    "\n",
    "    lp = pd.read_csv('lp_df.csv')\n",
    "    lp.columns = ['lp_member','nodes']\n",
    "    \n",
    "    temp = pd.merge(ml,info, how='inner', on='nodes')\n",
    "    temp = pd.merge(temp,wt, how='inner', on='nodes')\n",
    "    temp = pd.merge(temp,fg, how='inner', on='nodes')\n",
    "    temp = pd.merge(temp,lp, how='inner', on='nodes')\n",
    "    \n",
    "    \n",
    "    degree_df = pd.DataFrame.from_dict({'nodes':list(nx.degree(G_train).keys()),'Degree':list(nx.degree(G_train).values())})\n",
    "    betweenness_df = pd.DataFrame({'between':list(nx.betweenness_centrality(G_train).values())})\n",
    "    close_df = pd.DataFrame({'close':list(nx.closeness_centrality(G_train).values())})\n",
    "    eigen_df = pd.DataFrame({'eigen':list(nx.eigenvector_centrality_numpy(G_train).values())})\n",
    "    pager_df = pd.DataFrame({'pagerank':list(nx.pagerank(G_train).values())})\n",
    "\n",
    "    temp2 = pd.concat([degree_df,betweenness_df,close_df,eigen_df,pager_df],axis = 1,join = 'inner')\n",
    "    temp2 = temp2[temp2['nodes'].isin(deve_nodes)].set_index('nodes')\n",
    "    \n",
    "    \n",
    "    return temp2.values"
   ]
  },
  {
   "cell_type": "code",
   "execution_count": null,
   "metadata": {
    "collapsed": true
   },
   "outputs": [],
   "source": []
  },
  {
   "cell_type": "code",
   "execution_count": null,
   "metadata": {
    "collapsed": true
   },
   "outputs": [],
   "source": []
  },
  {
   "cell_type": "code",
   "execution_count": 998,
   "metadata": {
    "collapsed": true
   },
   "outputs": [],
   "source": [
    "## R run associated graph\n",
    "\n",
    "method = 'jaccard' # my_weight, jaccard,binary\n",
    "\n",
    "X_kmeans = generate_communities(method = method)\n",
    "X_kmeans_exp = np.exp(X_kmeans)"
   ]
  },
  {
   "cell_type": "code",
   "execution_count": 999,
   "metadata": {
    "collapsed": true
   },
   "outputs": [],
   "source": [
    "from sklearn.cluster import KMeans\n",
    "from scipy.spatial.distance import cdist\n",
    "\n",
    "K = range(1,50)\n",
    "distortions = []\n",
    "for k in K:\n",
    "    kmeanModel = KMeans(n_clusters=k).fit(X_kmeans)\n",
    "    kmeanModel.fit(X_kmeans)\n",
    "    distortions.append(sum(np.min(cdist(X_kmeans, kmeanModel.cluster_centers_, 'cosine'), axis=1)) / X_kmeans.shape[0])"
   ]
  },
  {
   "cell_type": "code",
   "execution_count": 1000,
   "metadata": {},
   "outputs": [
    {
     "data": {
      "image/png": "[encoded data removed]",
      "text/plain": [
       "<matplotlib.figure.Figure at 0xcc11e68278>"
      ]
     },
     "metadata": {},
     "output_type": "display_data"
    }
   ],
   "source": [
    "plt.plot(K, distortions, 'bx-')\n",
    "plt.xlabel('k')\n",
    "plt.ylabel('Distortion')\n",
    "plt.title('The Elbow Method showing the optimal k')\n",
    "plt.savefig('elbow'+method+'.png')"
   ]
  },
  {
   "cell_type": "code",
   "execution_count": 987,
   "metadata": {
    "collapsed": true
   },
   "outputs": [],
   "source": [
    "#exp\n",
    "distortions = []\n",
    "for k in K:\n",
    "    kmeanModel = KMeans(n_clusters=k).fit(X_kmeans_exp)\n",
    "    kmeanModel.fit(X_kmeans_exp)\n",
    "    distortions.append(sum(np.min(cdist(X_kmeans_exp, kmeanModel.cluster_centers_, 'cosine'), axis=1)) / X_kmeans_exp.shape[0])"
   ]
  },
  {
   "cell_type": "code",
   "execution_count": 988,
   "metadata": {},
   "outputs": [
    {
     "data": {
      "image/png": "[encoded data removed]",
      "text/plain": [
       "<matplotlib.figure.Figure at 0xcc0b0a3a90>"
      ]
     },
     "metadata": {},
     "output_type": "display_data"
    }
   ],
   "source": [
    "plt.plot(K, distortions, 'bx-')\n",
    "plt.xlabel('k')\n",
    "plt.ylabel('Distortion')\n",
    "plt.title('The Elbow Method showing the optimal k')\n",
    "plt.savefig('elbow_exp'+method+'.png')"
   ]
  },
  {
   "cell_type": "code",
   "execution_count": null,
   "metadata": {
    "collapsed": true
   },
   "outputs": [],
   "source": []
  },
  {
   "cell_type": "code",
   "execution_count": 1001,
   "metadata": {
    "collapsed": true
   },
   "outputs": [],
   "source": [
    "n_clusters= 13\n",
    "kmeans = KMeans(n_clusters= n_clusters).fit(X_kmeans)\n",
    "kmeans_assign = kmeans.labels_"
   ]
  },
  {
   "cell_type": "code",
   "execution_count": 1002,
   "metadata": {
    "collapsed": true
   },
   "outputs": [],
   "source": [
    "assign_all = pd.merge(temp,kmeans_df, how='inner', on='nodes').set_index('nodes')\n",
    "assign_all.to_csv(method+'.csv')"
   ]
  },
  {
   "cell_type": "code",
   "execution_count": 928,
   "metadata": {},
   "outputs": [
    {
     "data": {
      "text/plain": [
       "Counter({0: 1807,\n",
       "         1: 34,\n",
       "         2: 9,\n",
       "         3: 311,\n",
       "         4: 3,\n",
       "         5: 93,\n",
       "         6: 3,\n",
       "         7: 11,\n",
       "         8: 7,\n",
       "         9: 3,\n",
       "         10: 4,\n",
       "         11: 30,\n",
       "         12: 6})"
      ]
     },
     "execution_count": 928,
     "metadata": {},
     "output_type": "execute_result"
    }
   ],
   "source": [
    "from collections import Counter\n",
    "Counter(kmeans_assign)"
   ]
  },
  {
   "cell_type": "code",
   "execution_count": 847,
   "metadata": {},
   "outputs": [
    {
     "name": "stdout",
     "output_type": "stream",
     "text": [
      "[t-SNE] Computing 121 nearest neighbors...\n",
      "[t-SNE] Indexed 2321 samples in 0.004s...\n",
      "[t-SNE] Computed neighbors for 2321 samples in 0.093s...\n",
      "[t-SNE] Computed conditional probabilities for sample 1000 / 2321\n",
      "[t-SNE] Computed conditional probabilities for sample 2000 / 2321\n",
      "[t-SNE] Computed conditional probabilities for sample 2321 / 2321\n",
      "[t-SNE] Mean sigma: 0.000000\n",
      "[t-SNE] Computed conditional probabilities in 0.366s\n",
      "[t-SNE] Iteration 50: error = 63.2734566, gradient norm = 0.0656768 (50 iterations in 3.709s)\n",
      "[t-SNE] Iteration 100: error = 52.9554482, gradient norm = 0.0325671 (50 iterations in 2.746s)\n",
      "[t-SNE] Iteration 150: error = 49.9567680, gradient norm = 0.0212974 (50 iterations in 2.632s)\n",
      "[t-SNE] Iteration 200: error = 48.6081810, gradient norm = 0.0176053 (50 iterations in 2.699s)\n",
      "[t-SNE] Iteration 250: error = 47.7802353, gradient norm = 0.0139528 (50 iterations in 2.720s)\n",
      "[t-SNE] KL divergence after 250 iterations with early exaggeration: 47.780235\n",
      "[t-SNE] Iteration 300: error = 0.5077739, gradient norm = 0.0009605 (50 iterations in 2.743s)\n",
      "[t-SNE] Iteration 350: error = 0.3088848, gradient norm = 0.0003283 (50 iterations in 2.709s)\n",
      "[t-SNE] Iteration 400: error = 0.2473852, gradient norm = 0.0001991 (50 iterations in 2.741s)\n",
      "[t-SNE] Iteration 450: error = 0.2244092, gradient norm = 0.0001616 (50 iterations in 2.878s)\n",
      "[t-SNE] Iteration 500: error = 0.2158434, gradient norm = 0.0001434 (50 iterations in 2.894s)\n",
      "[t-SNE] Iteration 550: error = 0.2068047, gradient norm = 0.0001274 (50 iterations in 2.708s)\n",
      "[t-SNE] Iteration 600: error = 0.2014173, gradient norm = 0.0001148 (50 iterations in 2.809s)\n",
      "[t-SNE] Iteration 650: error = 0.1974805, gradient norm = 0.0001008 (50 iterations in 3.006s)\n",
      "[t-SNE] Iteration 700: error = 0.1930609, gradient norm = 0.0000961 (50 iterations in 2.813s)\n",
      "[t-SNE] Iteration 750: error = 0.1901222, gradient norm = 0.0000940 (50 iterations in 2.705s)\n",
      "[t-SNE] Iteration 800: error = 0.1860996, gradient norm = 0.0000997 (50 iterations in 2.625s)\n",
      "[t-SNE] Iteration 850: error = 0.1849540, gradient norm = 0.0000892 (50 iterations in 2.733s)\n",
      "[t-SNE] Iteration 900: error = 0.1840429, gradient norm = 0.0000808 (50 iterations in 2.640s)\n",
      "[t-SNE] Iteration 950: error = 0.1824480, gradient norm = 0.0000726 (50 iterations in 2.673s)\n",
      "[t-SNE] Iteration 1000: error = 0.1800853, gradient norm = 0.0000839 (50 iterations in 2.639s)\n",
      "[t-SNE] Error after 1000 iterations: 0.180085\n"
     ]
    }
   ],
   "source": [
    "from sklearn.manifold import TSNE\n",
    "X_tsne = TSNE(n_components=2, perplexity=40, verbose=2).fit_transform(X_kmeans)"
   ]
  },
  {
   "cell_type": "code",
   "execution_count": 852,
   "metadata": {},
   "outputs": [
    {
     "data": {
      "text/plain": [
       "<matplotlib.collections.PathCollection at 0xcc121198d0>"
      ]
     },
     "execution_count": 852,
     "metadata": {},
     "output_type": "execute_result"
    },
    {
     "data": {
      "image/png": "[encoded data removed]",
      "text/plain": [
       "<matplotlib.figure.Figure at 0xcc11bea240>"
      ]
     },
     "metadata": {},
     "output_type": "display_data"
    }
   ],
   "source": [
    "plt.scatter(X_tsne[:, 0], X_tsne[:, 1], c=kmeans_assign,\n",
    "            s = 12,marker=\"x\",alpha = 0.5)"
   ]
  },
  {
   "cell_type": "code",
   "execution_count": 874,
   "metadata": {},
   "outputs": [
    {
     "data": {
      "text/plain": [
       "<seaborn.axisgrid.FacetGrid at 0xcc11fd2080>"
      ]
     },
     "execution_count": 874,
     "metadata": {},
     "output_type": "execute_result"
    },
    {
     "data": {
      "image/png": "[encoded data removed]",
      "text/plain": [
       "<matplotlib.figure.Figure at 0xcc11fd2f28>"
      ]
     },
     "metadata": {},
     "output_type": "display_data"
    }
   ],
   "source": [
    "tsne_df = pd.DataFrame(np.append(X_tsne.T,[kmeans_assign],0).T,columns = ['x','y','c'])\n",
    "sns.lmplot('x', 'y',data = tsne_df, hue='c',size = 5,fit_reg = False)"
   ]
  },
  {
   "cell_type": "code",
   "execution_count": 628,
   "metadata": {
    "collapsed": true
   },
   "outputs": [],
   "source": [
    "kmeans_df = pd.DataFrame(np.asarray([temp2.index, kmeans_assign]).T,columns = ['nodes','kmeans'])"
   ]
  },
  {
   "cell_type": "code",
   "execution_count": null,
   "metadata": {
    "collapsed": true
   },
   "outputs": [],
   "source": []
  },
  {
   "cell_type": "code",
   "execution_count": 629,
   "metadata": {
    "collapsed": true
   },
   "outputs": [],
   "source": [
    "assign_all = pd.merge(temp,kmeans_df, how='inner', on='nodes').set_index('nodes')\n",
    "assign_all.to_csv('assign.csv')"
   ]
  },
  {
   "cell_type": "code",
   "execution_count": 630,
   "metadata": {},
   "outputs": [
    {
     "data": {
      "text/html": [
       "<div>\n",
       "<style>\n",
       "    .dataframe thead tr:only-child th {\n",
       "        text-align: right;\n",
       "    }\n",
       "\n",
       "    .dataframe thead th {\n",
       "        text-align: left;\n",
       "    }\n",
       "\n",
       "    .dataframe tbody tr th {\n",
       "        vertical-align: top;\n",
       "    }\n",
       "</style>\n",
       "<table border=\"1\" class=\"dataframe\">\n",
       "  <thead>\n",
       "    <tr style=\"text-align: right;\">\n",
       "      <th></th>\n",
       "      <th>ml_member</th>\n",
       "      <th>info_member</th>\n",
       "      <th>wt_member</th>\n",
       "      <th>fg_member</th>\n",
       "      <th>lp_member</th>\n",
       "      <th>kmeans</th>\n",
       "    </tr>\n",
       "    <tr>\n",
       "      <th>nodes</th>\n",
       "      <th></th>\n",
       "      <th></th>\n",
       "      <th></th>\n",
       "      <th></th>\n",
       "      <th></th>\n",
       "      <th></th>\n",
       "    </tr>\n",
       "  </thead>\n",
       "  <tbody>\n",
       "    <tr>\n",
       "      <th>aaa</th>\n",
       "      <td>1</td>\n",
       "      <td>1350</td>\n",
       "      <td>414</td>\n",
       "      <td>350</td>\n",
       "      <td>1</td>\n",
       "      <td>0</td>\n",
       "    </tr>\n",
       "    <tr>\n",
       "      <th>aah</th>\n",
       "      <td>2</td>\n",
       "      <td>1349</td>\n",
       "      <td>412</td>\n",
       "      <td>351</td>\n",
       "      <td>2</td>\n",
       "      <td>0</td>\n",
       "    </tr>\n",
       "    <tr>\n",
       "      <th>aaj</th>\n",
       "      <td>4</td>\n",
       "      <td>1359</td>\n",
       "      <td>411</td>\n",
       "      <td>353</td>\n",
       "      <td>3</td>\n",
       "      <td>0</td>\n",
       "    </tr>\n",
       "    <tr>\n",
       "      <th>aaq</th>\n",
       "      <td>1216</td>\n",
       "      <td>2</td>\n",
       "      <td>405</td>\n",
       "      <td>1</td>\n",
       "      <td>4</td>\n",
       "      <td>0</td>\n",
       "    </tr>\n",
       "    <tr>\n",
       "      <th>aau</th>\n",
       "      <td>966</td>\n",
       "      <td>424</td>\n",
       "      <td>408</td>\n",
       "      <td>17</td>\n",
       "      <td>5</td>\n",
       "      <td>5</td>\n",
       "    </tr>\n",
       "  </tbody>\n",
       "</table>\n",
       "</div>"
      ],
      "text/plain": [
       "       ml_member  info_member  wt_member  fg_member  lp_member kmeans\n",
       "nodes                                                                \n",
       "aaa            1         1350        414        350          1      0\n",
       "aah            2         1349        412        351          2      0\n",
       "aaj            4         1359        411        353          3      0\n",
       "aaq         1216            2        405          1          4      0\n",
       "aau          966          424        408         17          5      5"
      ]
     },
     "execution_count": 630,
     "metadata": {},
     "output_type": "execute_result"
    }
   ],
   "source": [
    "assign_all.head()"
   ]
  },
  {
   "cell_type": "code",
   "execution_count": null,
   "metadata": {
    "collapsed": true
   },
   "outputs": [],
   "source": []
  },
  {
   "cell_type": "code",
   "execution_count": null,
   "metadata": {
    "collapsed": true
   },
   "outputs": [],
   "source": []
  }
 ],
 "metadata": {
  "kernelspec": {
   "display_name": "Python 3",
   "language": "python",
   "name": "python3"
  },
  "language_info": {
   "codemirror_mode": {
    "name": "ipython",
    "version": 3
   },
   "file_extension": ".py",
   "mimetype": "text/x-python",
   "name": "python",
   "nbconvert_exporter": "python",
   "pygments_lexer": "ipython3",
   "version": "3.6.2"
  }
 },
 "nbformat": 4,
 "nbformat_minor": 2
}
