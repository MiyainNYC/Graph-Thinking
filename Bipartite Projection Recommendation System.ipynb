{
 "cells": [
  {
   "cell_type": "code",
   "execution_count": 1,
   "metadata": {},
   "outputs": [
    {
     "name": "stdout",
     "output_type": "stream",
     "text": [
      "C:\\Users\\Miya\\Desktop\\cna\\dataset\n"
     ]
    }
   ],
   "source": [
    "cd dataset"
   ]
  },
  {
   "cell_type": "code",
   "execution_count": 2,
   "metadata": {
    "collapsed": true
   },
   "outputs": [],
   "source": [
    "import pandas as pd\n",
    "import numpy as np\n",
    "import matplotlib.pyplot as plt\n",
    "%matplotlib inline\n",
    "import warnings\n",
    "warnings.filterwarnings('ignore')\n",
    "data = pd.read_csv('repositories_refined.csv',parse_dates=['Month, Day, Year of Date'])\n",
    "#data = data[data['Coding Effort']!=0]\n",
    "data.columns= ['Worker ID','Repository ID','Coding Effort','Month, Day, Year of Date']"
   ]
  },
  {
   "cell_type": "code",
   "execution_count": 140,
   "metadata": {
    "collapsed": true
   },
   "outputs": [],
   "source": [
    "X_test = data[data['Month, Day, Year of Date']>='2015-09-21']\n",
    "X_train = data[data['Month, Day, Year of Date']<'2015-09-21']"
   ]
  },
  {
   "cell_type": "code",
   "execution_count": 141,
   "metadata": {},
   "outputs": [
    {
     "name": "stdout",
     "output_type": "stream",
     "text": [
      "(151689, 4)\n",
      "(20665, 4)\n"
     ]
    }
   ],
   "source": [
    "print(X_train.shape)\n",
    "print(X_test.shape)"
   ]
  },
  {
   "cell_type": "code",
   "execution_count": 142,
   "metadata": {},
   "outputs": [],
   "source": [
    "deve_nodes_train = list(set(X_train.values[:,0]))\n",
    "deve_nodes_test = list(set(X_test.values[:,0]))"
   ]
  },
  {
   "cell_type": "code",
   "execution_count": 143,
   "metadata": {
    "collapsed": true
   },
   "outputs": [],
   "source": [
    "X_test = X_test[X_test['Worker ID'].isin([test for test in deve_nodes_test if test in deve_nodes_train])]"
   ]
  },
  {
   "cell_type": "code",
   "execution_count": 144,
   "metadata": {},
   "outputs": [],
   "source": [
    "X_test = X_test.groupby(['Worker ID','Repository ID']).sum().reset_index()"
   ]
  },
  {
   "cell_type": "code",
   "execution_count": 145,
   "metadata": {},
   "outputs": [],
   "source": [
    "X_train = X_train.groupby(['Worker ID','Repository ID']).sum().reset_index().values"
   ]
  },
  {
   "cell_type": "code",
   "execution_count": 357,
   "metadata": {},
   "outputs": [
    {
     "data": {
      "text/plain": [
       "array([ -55.49015581,  -55.49015581,   14.55984419, ...,  -15.48015581,\n",
       "        234.81984419,    5.19984419])"
      ]
     },
     "execution_count": 357,
     "metadata": {},
     "output_type": "execute_result"
    }
   ],
   "source": [
    "from sklearn import preprocessing\n",
    "preprocessing.scale(X_train[:,2], axis=0, with_mean=True, with_std=False, copy=True)"
   ]
  },
  {
   "cell_type": "code",
   "execution_count": 146,
   "metadata": {},
   "outputs": [
    {
     "data": {
      "text/plain": [
       "0.5647039527636543"
      ]
     },
     "execution_count": 146,
     "metadata": {},
     "output_type": "execute_result"
    }
   ],
   "source": [
    "X_test.shape[0]/X_train.shape[0]"
   ]
  },
  {
   "cell_type": "code",
   "execution_count": 160,
   "metadata": {
    "collapsed": true
   },
   "outputs": [],
   "source": [
    "actual_list = []\n",
    "to_predict_deve = set(X_test['Worker ID'])\n",
    "for dev in to_predict_deve:\n",
    "    repo = X_test[X_test['Worker ID']==dev]['Repository ID'].values\n",
    "    actual_list.append(list(repo))"
   ]
  },
  {
   "cell_type": "code",
   "execution_count": 379,
   "metadata": {
    "collapsed": true
   },
   "outputs": [],
   "source": [
    "import networkx as nx\n",
    "%matplotlib inline\n",
    "from networkx.algorithms import bipartite\n",
    "G_train = nx.Graph()\n",
    "for i,v,j in zip(X_train[:,0],X_train[:,1],X_train[:,2]):\n",
    "    G_train.add_edge(i,v,weight = j)"
   ]
  },
  {
   "cell_type": "code",
   "execution_count": 383,
   "metadata": {
    "collapsed": true
   },
   "outputs": [],
   "source": [
    "nx.write_gml(G_train,'g_2.gml')"
   ]
  },
  {
   "cell_type": "code",
   "execution_count": 120,
   "metadata": {},
   "outputs": [
    {
     "data": {
      "text/plain": [
       "[('aah', 'aic', {'weight': 0.0}), ('aah', 'eyz', {'weight': 0.0})]"
      ]
     },
     "execution_count": 120,
     "metadata": {},
     "output_type": "execute_result"
    }
   ],
   "source": [
    "deve_nodes = list(set(X_train[:,0]))\n",
    "\n",
    "def normalize(x):\n",
    "    if x==0:\n",
    "        x = 1\n",
    "    else:\n",
    "        x\n",
    "    return x\n",
    "\n",
    "def my_weight(G_train, u, v, weight='weight'):\n",
    "    w = 0\n",
    "    for nbr in set(G_train[u]) & set(G_train[v]):\n",
    "        u_sum = normalize(sum(list(map(lambda x:x['weight'],G_train[u].values()))))\n",
    "        v_sum = normalize(sum(list(map(lambda x:x['weight'],G_train[v].values()))))\n",
    "        nbr_sum = normalize(sum(list(map(lambda x:x['weight'],G_train[nbr].values()))))\n",
    "        \n",
    "        w += (G_train.edge[u][nbr].get(weight,1)/u_sum) * (G_train.edge[v][nbr].get(weight,1)/nbr_sum)\n",
    "        return w \n",
    "    \n",
    "    \n",
    "def jaccard(G, u, v):\n",
    "    unbrs = set(G[u])\n",
    "    vnbrs = set(G[v])\n",
    "    return float(len(unbrs & vnbrs)) / len(unbrs)\n",
    "    \n",
    "    \n",
    "    \n",
    "bipartite.generic_weighted_projected_graph(G_train, ['aah'], weight_function=my_weight).edges(data=True)"
   ]
  },
  {
   "cell_type": "code",
   "execution_count": 401,
   "metadata": {},
   "outputs": [
    {
     "data": {
      "text/html": [
       "<div>\n",
       "<style>\n",
       "    .dataframe thead tr:only-child th {\n",
       "        text-align: right;\n",
       "    }\n",
       "\n",
       "    .dataframe thead th {\n",
       "        text-align: left;\n",
       "    }\n",
       "\n",
       "    .dataframe tbody tr th {\n",
       "        vertical-align: top;\n",
       "    }\n",
       "</style>\n",
       "<table border=\"1\" class=\"dataframe\">\n",
       "  <thead>\n",
       "    <tr style=\"text-align: right;\">\n",
       "      <th></th>\n",
       "      <th>ml_member</th>\n",
       "      <th>info_member</th>\n",
       "      <th>wt_member</th>\n",
       "      <th>fg_member</th>\n",
       "      <th>lp_member</th>\n",
       "      <th>kmeans</th>\n",
       "    </tr>\n",
       "    <tr>\n",
       "      <th>nodes</th>\n",
       "      <th></th>\n",
       "      <th></th>\n",
       "      <th></th>\n",
       "      <th></th>\n",
       "      <th></th>\n",
       "      <th></th>\n",
       "    </tr>\n",
       "  </thead>\n",
       "  <tbody>\n",
       "    <tr>\n",
       "      <th>aaa</th>\n",
       "      <td>1</td>\n",
       "      <td>833</td>\n",
       "      <td>215</td>\n",
       "      <td>294</td>\n",
       "      <td>1</td>\n",
       "      <td>31</td>\n",
       "    </tr>\n",
       "    <tr>\n",
       "      <th>aah</th>\n",
       "      <td>2</td>\n",
       "      <td>455</td>\n",
       "      <td>213</td>\n",
       "      <td>295</td>\n",
       "      <td>2</td>\n",
       "      <td>31</td>\n",
       "    </tr>\n",
       "    <tr>\n",
       "      <th>aaj</th>\n",
       "      <td>359</td>\n",
       "      <td>172</td>\n",
       "      <td>165</td>\n",
       "      <td>63</td>\n",
       "      <td>3</td>\n",
       "      <td>30</td>\n",
       "    </tr>\n",
       "    <tr>\n",
       "      <th>aaq</th>\n",
       "      <td>43</td>\n",
       "      <td>1</td>\n",
       "      <td>215</td>\n",
       "      <td>49</td>\n",
       "      <td>4</td>\n",
       "      <td>29</td>\n",
       "    </tr>\n",
       "    <tr>\n",
       "      <th>aau</th>\n",
       "      <td>221</td>\n",
       "      <td>2</td>\n",
       "      <td>215</td>\n",
       "      <td>14</td>\n",
       "      <td>5</td>\n",
       "      <td>27</td>\n",
       "    </tr>\n",
       "  </tbody>\n",
       "</table>\n",
       "</div>"
      ],
      "text/plain": [
       "       ml_member  info_member  wt_member  fg_member  lp_member  kmeans\n",
       "nodes                                                                 \n",
       "aaa            1          833        215        294          1      31\n",
       "aah            2          455        213        295          2      31\n",
       "aaj          359          172        165         63          3      30\n",
       "aaq           43            1        215         49          4      29\n",
       "aau          221            2        215         14          5      27"
      ]
     },
     "execution_count": 401,
     "metadata": {},
     "output_type": "execute_result"
    }
   ],
   "source": [
    "pd.read_csv('assign.csv').set_index('nodes').head()"
   ]
  },
  {
   "cell_type": "code",
   "execution_count": 398,
   "metadata": {
    "collapsed": true
   },
   "outputs": [],
   "source": [
    "import itertools\n",
    "def neighbors_cluster(node):\n",
    "    \n",
    "    refer = pd.read_csv('assign.csv').set_index('nodes')    \n",
    "    ml = refer.ix[node,0]\n",
    "    info = refer.ix[node,1]\n",
    "    wt = refer.ix[node,2]\n",
    "    fg = refer.ix[node,3]\n",
    "    lp = refer.ix[node,4]\n",
    "    kmeans = refer.ix[node,5]\n",
    "    \n",
    "    ml_nn = refer[refer['ml_member']==ml].index\n",
    "    wt_nn = refer[refer['wt_member']==wt].index\n",
    "    info_nn = refer[refer['info_member']==info].index\n",
    "    fg_nn = refer[refer['fg_member']==fg].index\n",
    "    lp_nn = refer[refer['lp_member']==lp].index\n",
    "    kmeans_nn = refer[refer['kmeans']==kmeans].index\n",
    "    \n",
    "    cluster_nn = list(itertools.chain(wt_nn,kmeans_nn,lp_nn,fg_nn)) #ml_nn,info_nn\n",
    "    \n",
    "    return cluster_nn"
   ]
  },
  {
   "cell_type": "code",
   "execution_count": 412,
   "metadata": {
    "collapsed": true
   },
   "outputs": [],
   "source": [
    "def neighbors_cluster_weighted(node):\n",
    "    \n",
    "    refer = pd.read_csv('assign.csv').set_index('nodes')\n",
    "    \n",
    "    ml = refer.ix[node,0]\n",
    "    info = refer.ix[node,1]\n",
    "    wt = refer.ix[node,2]\n",
    "    fg = refer.ix[node,3]\n",
    "    lp = refer.ix[node,4]\n",
    "    kmeans = refer.ix[node,5]\n",
    "    \n",
    "    ml_nn = refer[refer['ml_member']==ml].index\n",
    "    wt_nn = refer[refer['wt_member']==wt].index\n",
    "    info_nn = refer[refer['info_member']==info].index\n",
    "    fg_nn = refer[refer['fg_member']==fg].index\n",
    "    lp_nn = refer[refer['lp_member']==lp].index\n",
    "    kmeans_nn = refer[refer['kmeans']==kmeans].index\n",
    "    \n",
    "\n",
    "    \n",
    "    return wt_nn,kmeans_nn,ml_nn,info_nn,fg_nn,lp_nn"
   ]
  },
  {
   "cell_type": "code",
   "execution_count": 413,
   "metadata": {
    "collapsed": true
   },
   "outputs": [],
   "source": [
    "K = 6\n",
    "def limit_k(rs_list, k = K):\n",
    "    if len(rs_list)<k:\n",
    "        return rs_list\n",
    "    else:\n",
    "        return rs_list[:k]  "
   ]
  },
  {
   "cell_type": "code",
   "execution_count": 414,
   "metadata": {
    "collapsed": true
   },
   "outputs": [],
   "source": [
    "def ensemble_similarity(node,wf):\n",
    "    nns = bipartite.generic_weighted_projected_graph(G_train, [node], weight_function= wf).edges(data=True)\n",
    "    cluster_nn = neighbors_cluster(node)\n",
    "    \n",
    "    dict_rs = dict()\n",
    "    \n",
    "    for nn_sug in nns:\n",
    "        nn = nn_sug[1]\n",
    "        we = nn_sug[2]['weight']\n",
    "        \n",
    "        for repo_sug in G_train[nn].items():\n",
    "            repo = repo_sug[0]\n",
    "            ce = repo_sug[1]['weight']\n",
    "            dict_rs[repo] = dict_rs.get(repo,0.0) + ce*np.exp(we)\n",
    "\n",
    "        \n",
    "    for nn in cluster_nn:\n",
    "        for repo_sug in G_train[nn].items():\n",
    "            repo = repo_sug[0]\n",
    "            ce = repo_sug[1]['weight']\n",
    "            dict_rs[repo] = dict_rs.get(repo,0.0) + ce*1\n",
    "        \n",
    "        \n",
    "    rs_list = sorted(dict_rs.items(),key = lambda x:x[1],reverse = True)\n",
    "    \n",
    "    rs_list = limit_k(rs_list)\n",
    "    \n",
    "    rs_list = list(map(lambda x: x[0],rs_list))\n",
    "    \n",
    "    return rs_list"
   ]
  },
  {
   "cell_type": "code",
   "execution_count": 415,
   "metadata": {
    "collapsed": true
   },
   "outputs": [],
   "source": [
    "def community_weight():\n",
    "    df = pd.read_csv('assign.csv').set_index('nodes')\n",
    "    wt_w = len(df['wt_member'].unique())/100\n",
    "    ml_w = len(df['ml_member'].unique())/100\n",
    "    info_w = len(df['info_member'].unique())/100\n",
    "    fg_w = len(df['fg_member'].unique())/100\n",
    "    lp_w = len(df['lp_member'].unique())/100\n",
    "    \n",
    "    return wt_w,ml_w,info_w,fg_w,lp_w"
   ]
  },
  {
   "cell_type": "code",
   "execution_count": 416,
   "metadata": {
    "collapsed": true
   },
   "outputs": [],
   "source": [
    "def ensemble_similarity_weighted(node,wf):\n",
    "    \n",
    "    nns = bipartite.generic_weighted_projected_graph(G_train, [node], weight_function= wf).edges(data=True)\n",
    "    \n",
    "    wt_nn,kmeans_nn,ml_nn,info_nn,fg_nn,lp_nn = neighbors_cluster_weighted(node)\n",
    "    \n",
    "    wt_w,ml_w,info_w,fg_w,lp_w = community_weight()\n",
    "     \n",
    "    dict_rs = dict()\n",
    "    \n",
    "    for nn_sug in nns:\n",
    "        nn = nn_sug[1]\n",
    "        we = nn_sug[2]['weight']\n",
    "        \n",
    "        for repo_sug in G_train[nn].items():\n",
    "            repo = repo_sug[0]\n",
    "            ce = repo_sug[1]['weight']\n",
    "            dict_rs[repo] = dict_rs.get(repo,0.0) + ce*np.exp(we)\n",
    "\n",
    "        \n",
    "    for nn in wt_nn:\n",
    "        for repo_sug in G_train[nn].items():\n",
    "            repo = repo_sug[0]\n",
    "            ce = repo_sug[1]['weight']\n",
    "            dict_rs[repo] = dict_rs.get(repo,0.0) + ce*wt_w\n",
    "\n",
    "    for nn in ml_nn:\n",
    "        for repo_sug in G_train[nn].items():\n",
    "            repo = repo_sug[0]\n",
    "            ce = repo_sug[1]['weight']\n",
    "            dict_rs[repo] = dict_rs.get(repo,0.0) + ce*ml_w\n",
    "\n",
    "    for nn in info_nn:\n",
    "        for repo_sug in G_train[nn].items():\n",
    "            repo = repo_sug[0]\n",
    "            ce = repo_sug[1]['weight']\n",
    "            dict_rs[repo] = dict_rs.get(repo,0.0) + ce*info_w\n",
    "            \n",
    "    for nn in kmeans_nn:\n",
    "        for repo_sug in G_train[nn].items():\n",
    "            repo = repo_sug[0]\n",
    "            ce = repo_sug[1]['weight']\n",
    "            dict_rs[repo] = dict_rs.get(repo,0.0) + ce*30/100\n",
    "            \n",
    "    for nn in fg_nn:\n",
    "        for repo_sug in G_train[nn].items():\n",
    "            repo = repo_sug[0]\n",
    "            ce = repo_sug[1]['weight']\n",
    "            dict_rs[repo] = dict_rs.get(repo,0.0) + ce*fg_w\n",
    "            \n",
    "    for nn in lp_nn:\n",
    "        for repo_sug in G_train[nn].items():\n",
    "            repo = repo_sug[0]\n",
    "            ce = repo_sug[1]['weight']\n",
    "            dict_rs[repo] = dict_rs.get(repo,0.0) + ce*lp_w\n",
    "        \n",
    "        \n",
    "    rs_list = sorted(dict_rs.items(),key = lambda x:x[1],reverse = True)\n",
    "    \n",
    "    rs_list = limit_k(rs_list)\n",
    "    \n",
    "    rs_list = list(map(lambda x: x[0],rs_list))\n",
    "    \n",
    "    return rs_list"
   ]
  },
  {
   "cell_type": "code",
   "execution_count": 417,
   "metadata": {
    "collapsed": true
   },
   "outputs": [],
   "source": [
    "def projection_similarity(node,wf):\n",
    "    nns = bipartite.generic_weighted_projected_graph(G_train, [node], weight_function= wf).edges(data=True)\n",
    "    cluster_nn = neighbors_cluster(node)\n",
    "    \n",
    "    dict_rs = dict()\n",
    "    \n",
    "    for nn_sug in nns:\n",
    "        nn = nn_sug[1]\n",
    "        we = nn_sug[2]['weight']\n",
    "        \n",
    "        for repo_sug in G_train[nn].items():\n",
    "            repo = repo_sug[0]\n",
    "            ce = repo_sug[1]['weight']\n",
    "            dict_rs[repo] = dict_rs.get(repo,0.0) + ce*np.exp(we)\n",
    "        \n",
    "        \n",
    "    rs_list = sorted(dict_rs.items(),key = lambda x:x[1],reverse = True)\n",
    "    \n",
    "    rs_list = limit_k(rs_list)\n",
    "    \n",
    "    rs_list = list(map(lambda x: x[0],rs_list))\n",
    "    \n",
    "    return rs_list"
   ]
  },
  {
   "cell_type": "code",
   "execution_count": 418,
   "metadata": {
    "collapsed": true
   },
   "outputs": [],
   "source": [
    "def cluster_similarity(node):\n",
    "    \n",
    "    dict_rs = dict()\n",
    "    cluster_nn = neighbors_cluster(node)\n",
    "\n",
    "    for nn in cluster_nn:\n",
    "        for repo_sug in G_train[nn].items():\n",
    "            repo = repo_sug[0]\n",
    "            ce = repo_sug[1]['weight']\n",
    "            dict_rs[repo] = dict_rs.get(repo,0.0) + ce\n",
    "        \n",
    "        \n",
    "    rs_list = sorted(dict_rs.items(),key = lambda x:x[1],reverse = True)\n",
    "    \n",
    "    rs_list = limit_k(rs_list)\n",
    "    \n",
    "    rs_list = list(map(lambda x: x[0],rs_list))\n",
    "    \n",
    "    return rs_list"
   ]
  },
  {
   "cell_type": "code",
   "execution_count": 419,
   "metadata": {
    "collapsed": true
   },
   "outputs": [],
   "source": [
    "def cluster_similarity_weighted(node):\n",
    "    \n",
    "    dict_rs = dict()\n",
    "    \n",
    "    wt_nn,kmeans_nn,ml_nn,info_nn,fg_nn,lp_nn = neighbors_cluster_weighted(node)\n",
    "    \n",
    "    wt_w,ml_w,info_w,fg_w,lp_w = community_weight()\n",
    "\n",
    "    for nn in wt_nn:\n",
    "        for repo_sug in G_train[nn].items():\n",
    "            repo = repo_sug[0]\n",
    "            ce = repo_sug[1]['weight']\n",
    "            dict_rs[repo] = dict_rs.get(repo,0.0) + ce*wt_w\n",
    "\n",
    "    for nn in ml_nn:\n",
    "        for repo_sug in G_train[nn].items():\n",
    "            repo = repo_sug[0]\n",
    "            ce = repo_sug[1]['weight']\n",
    "            dict_rs[repo] = dict_rs.get(repo,0.0) + ce*ml_w\n",
    "\n",
    "    for nn in info_nn:\n",
    "        for repo_sug in G_train[nn].items():\n",
    "            repo = repo_sug[0]\n",
    "            ce = repo_sug[1]['weight']\n",
    "            dict_rs[repo] = dict_rs.get(repo,0.0) + ce*info_w\n",
    "            \n",
    "    for nn in kmeans_nn:\n",
    "        for repo_sug in G_train[nn].items():\n",
    "            repo = repo_sug[0]\n",
    "            ce = repo_sug[1]['weight']\n",
    "            dict_rs[repo] = dict_rs.get(repo,0.0) + ce*30/100\n",
    "            \n",
    "    for nn in fg_nn:\n",
    "        for repo_sug in G_train[nn].items():\n",
    "            repo = repo_sug[0]\n",
    "            ce = repo_sug[1]['weight']\n",
    "            dict_rs[repo] = dict_rs.get(repo,0.0) + ce*fg_w\n",
    "            \n",
    "    for nn in lp_nn:\n",
    "        for repo_sug in G_train[nn].items():\n",
    "            repo = repo_sug[0]\n",
    "            ce = repo_sug[1]['weight']\n",
    "            dict_rs[repo] = dict_rs.get(repo,0.0) + ce*lp_w\n",
    "        \n",
    "        \n",
    "        \n",
    "    rs_list = sorted(dict_rs.items(),key = lambda x:x[1],reverse = True)\n",
    "    \n",
    "    rs_list = limit_k(rs_list)\n",
    "    \n",
    "    rs_list = list(map(lambda x: x[0],rs_list))\n",
    "    \n",
    "    return rs_list"
   ]
  },
  {
   "cell_type": "code",
   "execution_count": 429,
   "metadata": {
    "collapsed": true
   },
   "outputs": [],
   "source": [
    "def similarity_rs(node_list, method = \"projection_similarity\",wf = my_weight):\n",
    "    \n",
    "    dict_rs = dict()\n",
    "    for node in node_list:\n",
    "        if method == 'projection_similarity':\n",
    "             rs_list = projection_similarity(node,wf)\n",
    "        if method == 'cluster_similarity':\n",
    "             rs_list = cluster_similarity(node)\n",
    "        if method == 'cluster_similarity_weighted':\n",
    "             rs_list = cluster_similarity_weighted(node)\n",
    "        if method == 'ensemble_similarity_weighted':\n",
    "             rs_list = ensemble_similarity_weighted(node,wf)\n",
    "        if method == 'ensemble_similarity':\n",
    "             rs_list = ensemble_similarity(node,wf)\n",
    "        if method == 'ensemble_similarity_weighted_half':\n",
    "            rs_list1 = cluster_similarity_weighted(node)\n",
    "            rs_list1 = limit_k(rs_list1, k = 2)\n",
    "            rs_list2 = projection_similarity(node,wf)\n",
    "            rs_list2 = limit_k(rs_list2, k = 4)\n",
    "            rs_list = rs_list1 + rs_list2\n",
    "            \n",
    "    \n",
    "        dict_rs[node] = rs_list\n",
    "    \n",
    "    return dict_rs"
   ]
  },
  {
   "cell_type": "code",
   "execution_count": 421,
   "metadata": {
    "collapsed": true
   },
   "outputs": [],
   "source": [
    "def apk(actual, predicted, k= K):\n",
    "    \"\"\"\n",
    "    Computes the average precision at k.\n",
    "    This function computes the average prescision at k between two lists of\n",
    "    items.\n",
    "    Parameters\n",
    "    ----------\n",
    "    actual : list\n",
    "             A list of elements that are to be predicted (order doesn't matter)\n",
    "    predicted : list\n",
    "                A list of predicted elements (order does matter)\n",
    "    k : int, optional\n",
    "        The maximum number of predicted elements\n",
    "    Returns\n",
    "    -------\n",
    "    score : double\n",
    "            The average precision at k over the input lists\n",
    "    \"\"\"\n",
    "    if len(predicted)>k:\n",
    "        predicted = predicted[:k]\n",
    "\n",
    "    score = 0.0\n",
    "    num_hits = 0.0\n",
    "\n",
    "    for i,p in enumerate(predicted):\n",
    "        if p in actual and p not in predicted[:i]:\n",
    "            num_hits += 1.0\n",
    "            score += num_hits / (i+1.0)\n",
    "\n",
    "    if not actual:\n",
    "        return 0.0\n",
    "\n",
    "    return score / min(len(actual), k)\n",
    "\n",
    "def mapk(actual_list, predicted_list, k= 20):\n",
    "    \"\"\"\n",
    "    Computes the mean average precision at k.\n",
    "    This function computes the mean average prescision at k between two lists\n",
    "    of lists of items.\n",
    "    Parameters\n",
    "    ----------\n",
    "    actual : list\n",
    "             A list of lists of elements that are to be predicted \n",
    "             (order doesn't matter in the lists)\n",
    "    predicted : list\n",
    "                A list of lists of predicted elements\n",
    "                (order matters in the lists)\n",
    "    k : int, optional\n",
    "        The maximum number of predicted elements\n",
    "    Returns\n",
    "    -------\n",
    "    score : double\n",
    "            The mean average precision at k over the input lists\n",
    "            \n",
    "    \"\"\"\n",
    "    return np.mean([apk(a,p,k) for a,p in zip(actual_list, predicted_list)])"
   ]
  },
  {
   "cell_type": "code",
   "execution_count": null,
   "metadata": {
    "collapsed": true
   },
   "outputs": [],
   "source": []
  },
  {
   "cell_type": "code",
   "execution_count": 432,
   "metadata": {},
   "outputs": [],
   "source": [
    "y_predict_dict_p = similarity_rs(to_predict_deve, method = \"projection_similarity\",wf = my_weight)"
   ]
  },
  {
   "cell_type": "code",
   "execution_count": 344,
   "metadata": {},
   "outputs": [],
   "source": [
    "y_predict_dict_p_j = similarity_rs(to_predict_deve, method = \"projection_similarity\",wf = jaccard)"
   ]
  },
  {
   "cell_type": "code",
   "execution_count": 410,
   "metadata": {},
   "outputs": [],
   "source": [
    "y_predict_dict_c = similarity_rs(to_predict_deve, method = \"cluster_similarity\",wf = my_weight)"
   ]
  },
  {
   "cell_type": "code",
   "execution_count": 423,
   "metadata": {},
   "outputs": [],
   "source": [
    "y_predict_dict_cw = similarity_rs(to_predict_deve, method = \"cluster_similarity_weighted\",wf = my_weight)"
   ]
  },
  {
   "cell_type": "code",
   "execution_count": 368,
   "metadata": {},
   "outputs": [],
   "source": [
    "y_predict_dict_e = similarity_rs(to_predict_deve, method = \"ensemble_similarity\",wf = my_weight)"
   ]
  },
  {
   "cell_type": "code",
   "execution_count": 369,
   "metadata": {},
   "outputs": [],
   "source": [
    "y_predict_dict_e_w = similarity_rs(to_predict_deve, method = \"ensemble_similarity_weighted\",wf = my_weight)"
   ]
  },
  {
   "cell_type": "code",
   "execution_count": 430,
   "metadata": {},
   "outputs": [],
   "source": [
    "y_predict_dict_e_w_h = similarity_rs(to_predict_deve, method = \"ensemble_similarity_weighted_half\",wf = my_weight)"
   ]
  },
  {
   "cell_type": "code",
   "execution_count": 433,
   "metadata": {},
   "outputs": [
    {
     "data": {
      "text/plain": [
       "0.7662398822663723"
      ]
     },
     "execution_count": 433,
     "metadata": {},
     "output_type": "execute_result"
    }
   ],
   "source": [
    "mapk(actual_list, y_predict_dict_p.values(), k= 6)"
   ]
  },
  {
   "cell_type": "code",
   "execution_count": 362,
   "metadata": {},
   "outputs": [
    {
     "data": {
      "text/plain": [
       "0.64562153544272749"
      ]
     },
     "execution_count": 362,
     "metadata": {},
     "output_type": "execute_result"
    }
   ],
   "source": [
    "mapk(actual_list, y_predict_dict_p_j.values(), k= 6)"
   ]
  },
  {
   "cell_type": "code",
   "execution_count": 422,
   "metadata": {},
   "outputs": [
    {
     "data": {
      "text/plain": [
       "0.38988839833210692"
      ]
     },
     "execution_count": 422,
     "metadata": {},
     "output_type": "execute_result"
    }
   ],
   "source": [
    "mapk(actual_list, y_predict_dict_c.values(), k= 6)"
   ]
  },
  {
   "cell_type": "code",
   "execution_count": 428,
   "metadata": {},
   "outputs": [
    {
     "data": {
      "text/plain": [
       "0.65136460632818249"
      ]
     },
     "execution_count": 428,
     "metadata": {},
     "output_type": "execute_result"
    }
   ],
   "source": [
    "mapk(actual_list, y_predict_dict_cw.values(), k= 6)"
   ]
  },
  {
   "cell_type": "code",
   "execution_count": 373,
   "metadata": {},
   "outputs": [
    {
     "data": {
      "text/plain": [
       "0.38067893058621532"
      ]
     },
     "execution_count": 373,
     "metadata": {},
     "output_type": "execute_result"
    }
   ],
   "source": [
    "mapk(actual_list, y_predict_dict_e.values(), k= 6)"
   ]
  },
  {
   "cell_type": "code",
   "execution_count": 374,
   "metadata": {},
   "outputs": [
    {
     "data": {
      "text/plain": [
       "0.52254819720382639"
      ]
     },
     "execution_count": 374,
     "metadata": {},
     "output_type": "execute_result"
    }
   ],
   "source": [
    "mapk(actual_list, y_predict_dict_e_w.values(), k= 6)"
   ]
  },
  {
   "cell_type": "code",
   "execution_count": 431,
   "metadata": {},
   "outputs": [
    {
     "data": {
      "text/plain": [
       "0.67428035320088298"
      ]
     },
     "execution_count": 431,
     "metadata": {},
     "output_type": "execute_result"
    }
   ],
   "source": [
    "mapk(actual_list, y_predict_dict_e_w_h.values(), k= 6)"
   ]
  },
  {
   "cell_type": "code",
   "execution_count": null,
   "metadata": {
    "collapsed": true
   },
   "outputs": [],
   "source": []
  },
  {
   "cell_type": "code",
   "execution_count": 384,
   "metadata": {
    "collapsed": true
   },
   "outputs": [],
   "source": [
    "wt = pd.read_csv('wt_df.csv')\n",
    "wt.columns = ['wt_member','nodes']\n",
    "\n",
    "ml = pd.read_csv('ml_df.csv')\n",
    "ml.columns = ['ml_member','nodes']\n",
    "\n",
    "info = pd.read_csv('info_df.csv')\n",
    "info.columns = ['info_member','nodes']\n",
    "\n",
    "fg = pd.read_csv('fg_df.csv')\n",
    "fg.columns = ['fg_member','nodes']\n",
    "\n",
    "lp = pd.read_csv('lp_df.csv')\n",
    "lp.columns = ['lp_member','nodes']"
   ]
  },
  {
   "cell_type": "code",
   "execution_count": 209,
   "metadata": {},
   "outputs": [
    {
     "data": {
      "text/plain": [
       "217"
      ]
     },
     "execution_count": 209,
     "metadata": {},
     "output_type": "execute_result"
    }
   ],
   "source": [
    "len(wt['wt_member'].unique())"
   ]
  },
  {
   "cell_type": "code",
   "execution_count": 390,
   "metadata": {},
   "outputs": [
    {
     "data": {
      "text/plain": [
       "591"
      ]
     },
     "execution_count": 390,
     "metadata": {},
     "output_type": "execute_result"
    }
   ],
   "source": [
    "len(lp['lp_member'].unique())"
   ]
  },
  {
   "cell_type": "code",
   "execution_count": null,
   "metadata": {
    "collapsed": true
   },
   "outputs": [],
   "source": [
    "len(wt['fg_member'].unique())"
   ]
  },
  {
   "cell_type": "code",
   "execution_count": 211,
   "metadata": {},
   "outputs": [
    {
     "data": {
      "text/plain": [
       "673"
      ]
     },
     "execution_count": 211,
     "metadata": {},
     "output_type": "execute_result"
    }
   ],
   "source": [
    "len(ml['ml_member'].unique())"
   ]
  },
  {
   "cell_type": "code",
   "execution_count": 210,
   "metadata": {},
   "outputs": [
    {
     "data": {
      "text/plain": [
       "839"
      ]
     },
     "execution_count": 210,
     "metadata": {},
     "output_type": "execute_result"
    }
   ],
   "source": [
    "len(info['info_member'].unique())"
   ]
  },
  {
   "cell_type": "code",
   "execution_count": 170,
   "metadata": {},
   "outputs": [
    {
     "data": {
      "text/plain": [
       "True"
      ]
     },
     "execution_count": 170,
     "metadata": {},
     "output_type": "execute_result"
    }
   ],
   "source": [
    "len(ml)==len(info)==len(wt)"
   ]
  },
  {
   "cell_type": "code",
   "execution_count": 393,
   "metadata": {
    "collapsed": true
   },
   "outputs": [],
   "source": [
    "temp = pd.merge(ml,info, how='inner', on='nodes')\n",
    "temp = pd.merge(temp,wt, how='inner', on='nodes')\n",
    "temp = pd.merge(temp,fg, how='inner', on='nodes')\n",
    "temp = pd.merge(temp,lp, how='inner', on='nodes')"
   ]
  },
  {
   "cell_type": "code",
   "execution_count": null,
   "metadata": {
    "collapsed": true
   },
   "outputs": [],
   "source": []
  },
  {
   "cell_type": "code",
   "execution_count": 172,
   "metadata": {
    "collapsed": true
   },
   "outputs": [],
   "source": [
    "degree_df = pd.DataFrame.from_dict({'nodes':list(nx.degree(G_train).keys()),'Degree':list(nx.degree(G_train).values())})\n",
    "betweenness_df = pd.DataFrame({'between':list(nx.betweenness_centrality(G_train).values())})\n",
    "close_df = pd.DataFrame({'close':list(nx.closeness_centrality(G_train).values())})\n",
    "eigen_df = pd.DataFrame({'eigen':list(nx.eigenvector_centrality_numpy(G_train).values())})\n",
    "\n",
    "temp2 = pd.concat([degree_df,betweenness_df,close_df,eigen_df],axis = 1,join = 'inner')\n",
    "temp2 = temp2[temp2['nodes'].isin(deve_nodes)].set_index('nodes')"
   ]
  },
  {
   "cell_type": "code",
   "execution_count": 173,
   "metadata": {},
   "outputs": [
    {
     "data": {
      "text/plain": [
       "2585"
      ]
     },
     "execution_count": 173,
     "metadata": {},
     "output_type": "execute_result"
    }
   ],
   "source": [
    "len(temp2)"
   ]
  },
  {
   "cell_type": "code",
   "execution_count": 177,
   "metadata": {
    "collapsed": true
   },
   "outputs": [],
   "source": [
    "#X_kmeans = np.exp(temp2.values)\n",
    "X_kmeans = temp2.values"
   ]
  },
  {
   "cell_type": "code",
   "execution_count": 178,
   "metadata": {
    "collapsed": true
   },
   "outputs": [],
   "source": [
    "from sklearn.cluster import KMeans\n",
    "from scipy.spatial.distance import cdist\n",
    "\n",
    "K = range(1,50)\n",
    "distortions = []\n",
    "for k in K:\n",
    "    kmeanModel = KMeans(n_clusters=k).fit(X_kmeans)\n",
    "    kmeanModel.fit(X_kmeans)\n",
    "    distortions.append(sum(np.min(cdist(X_kmeans, kmeanModel.cluster_centers_, 'cosine'), axis=1)) / X_kmeans.shape[0])"
   ]
  },
  {
   "cell_type": "code",
   "execution_count": 179,
   "metadata": {},
   "outputs": [
    {
     "data": {
      "image/png": "[encoded data removed]",
      "text/plain": [
       "<matplotlib.figure.Figure at 0xa3c0e8b8d0>"
      ]
     },
     "metadata": {},
     "output_type": "display_data"
    },
    {
     "data": {
      "text/plain": [
       "<matplotlib.figure.Figure at 0xa3bebb82e8>"
      ]
     },
     "metadata": {},
     "output_type": "display_data"
    }
   ],
   "source": [
    "plt.plot(K, distortions, 'bx-')\n",
    "plt.xlabel('k')\n",
    "plt.ylabel('Distortion')\n",
    "plt.title('The Elbow Method showing the optimal k')\n",
    "plt.show()\n",
    "plt.savefig('elbow.png')"
   ]
  },
  {
   "cell_type": "code",
   "execution_count": 229,
   "metadata": {
    "collapsed": true
   },
   "outputs": [],
   "source": [
    "kmeans = KMeans(n_clusters= 40).fit(X_kmeans)\n",
    "kmeans_assign = kmeans.labels_"
   ]
  },
  {
   "cell_type": "code",
   "execution_count": 230,
   "metadata": {
    "collapsed": true
   },
   "outputs": [],
   "source": [
    "kmeans_df = pd.DataFrame(np.asarray([temp2.index, kmeans_assign]).T,columns = ['nodes','kmeans'])"
   ]
  },
  {
   "cell_type": "code",
   "execution_count": null,
   "metadata": {
    "collapsed": true
   },
   "outputs": [],
   "source": []
  },
  {
   "cell_type": "code",
   "execution_count": 394,
   "metadata": {
    "collapsed": true
   },
   "outputs": [],
   "source": [
    "assign_all = pd.merge(temp,kmeans_df, how='inner', on='nodes').set_index('nodes')\n",
    "assign_all.to_csv('assign.csv')"
   ]
  },
  {
   "cell_type": "code",
   "execution_count": 396,
   "metadata": {},
   "outputs": [
    {
     "data": {
      "text/html": [
       "<div>\n",
       "<style>\n",
       "    .dataframe thead tr:only-child th {\n",
       "        text-align: right;\n",
       "    }\n",
       "\n",
       "    .dataframe thead th {\n",
       "        text-align: left;\n",
       "    }\n",
       "\n",
       "    .dataframe tbody tr th {\n",
       "        vertical-align: top;\n",
       "    }\n",
       "</style>\n",
       "<table border=\"1\" class=\"dataframe\">\n",
       "  <thead>\n",
       "    <tr style=\"text-align: right;\">\n",
       "      <th></th>\n",
       "      <th>ml_member</th>\n",
       "      <th>info_member</th>\n",
       "      <th>wt_member</th>\n",
       "      <th>fg_member</th>\n",
       "      <th>lp_member</th>\n",
       "      <th>kmeans</th>\n",
       "    </tr>\n",
       "    <tr>\n",
       "      <th>nodes</th>\n",
       "      <th></th>\n",
       "      <th></th>\n",
       "      <th></th>\n",
       "      <th></th>\n",
       "      <th></th>\n",
       "      <th></th>\n",
       "    </tr>\n",
       "  </thead>\n",
       "  <tbody>\n",
       "    <tr>\n",
       "      <th>aaa</th>\n",
       "      <td>1</td>\n",
       "      <td>833</td>\n",
       "      <td>215</td>\n",
       "      <td>294</td>\n",
       "      <td>1</td>\n",
       "      <td>31</td>\n",
       "    </tr>\n",
       "    <tr>\n",
       "      <th>aah</th>\n",
       "      <td>2</td>\n",
       "      <td>455</td>\n",
       "      <td>213</td>\n",
       "      <td>295</td>\n",
       "      <td>2</td>\n",
       "      <td>31</td>\n",
       "    </tr>\n",
       "    <tr>\n",
       "      <th>aaj</th>\n",
       "      <td>359</td>\n",
       "      <td>172</td>\n",
       "      <td>165</td>\n",
       "      <td>63</td>\n",
       "      <td>3</td>\n",
       "      <td>30</td>\n",
       "    </tr>\n",
       "    <tr>\n",
       "      <th>aaq</th>\n",
       "      <td>43</td>\n",
       "      <td>1</td>\n",
       "      <td>215</td>\n",
       "      <td>49</td>\n",
       "      <td>4</td>\n",
       "      <td>29</td>\n",
       "    </tr>\n",
       "    <tr>\n",
       "      <th>aau</th>\n",
       "      <td>221</td>\n",
       "      <td>2</td>\n",
       "      <td>215</td>\n",
       "      <td>14</td>\n",
       "      <td>5</td>\n",
       "      <td>27</td>\n",
       "    </tr>\n",
       "  </tbody>\n",
       "</table>\n",
       "</div>"
      ],
      "text/plain": [
       "       ml_member  info_member  wt_member  fg_member  lp_member kmeans\n",
       "nodes                                                                \n",
       "aaa            1          833        215        294          1     31\n",
       "aah            2          455        213        295          2     31\n",
       "aaj          359          172        165         63          3     30\n",
       "aaq           43            1        215         49          4     29\n",
       "aau          221            2        215         14          5     27"
      ]
     },
     "execution_count": 396,
     "metadata": {},
     "output_type": "execute_result"
    }
   ],
   "source": [
    "assign_all.head()"
   ]
  },
  {
   "cell_type": "code",
   "execution_count": null,
   "metadata": {
    "collapsed": true
   },
   "outputs": [],
   "source": []
  },
  {
   "cell_type": "code",
   "execution_count": null,
   "metadata": {
    "collapsed": true
   },
   "outputs": [],
   "source": []
  }
 ],
 "metadata": {
  "kernelspec": {
   "display_name": "Python 3",
   "language": "python",
   "name": "python3"
  },
  "language_info": {
   "codemirror_mode": {
    "name": "ipython",
    "version": 3
   },
   "file_extension": ".py",
   "mimetype": "text/x-python",
   "name": "python",
   "nbconvert_exporter": "python",
   "pygments_lexer": "ipython3",
   "version": "3.6.2"
  }
 },
 "nbformat": 4,
 "nbformat_minor": 2
}
